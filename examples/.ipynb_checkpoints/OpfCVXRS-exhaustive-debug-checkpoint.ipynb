{
 "cells": [
  {
   "cell_type": "code",
   "execution_count": 2,
   "metadata": {},
   "outputs": [
    {
     "name": "stdout",
     "output_type": "stream",
     "text": [
      "Academic license - for non-commercial use only\n"
     ]
    },
    {
     "data": {
      "text/plain": [
       "sample_pf (generic function with 2 methods)"
      ]
     },
     "execution_count": 2,
     "metadata": {},
     "output_type": "execute_result"
    }
   ],
   "source": [
    "using JuMP, MosekTools, Gurobi\n",
    "using SparseArrays, LinearAlgebra, Plots\n",
    "using PowerModels, Ipopt\n",
    "include(\"../src/CVXRS_OPF.jl\")"
   ]
  },
  {
   "cell_type": "code",
   "execution_count": 61,
   "metadata": {
    "scrolled": true
   },
   "outputs": [
    {
     "name": "stdout",
     "output_type": "stream",
     "text": [
      "\u001b[32m[info | PowerModels]: removing 1 cost terms from generator 4: [3258.32, 0.0]\u001b[39m\n",
      "\u001b[32m[info | PowerModels]: removing 1 cost terms from generator 1: [658.654, 0.0]\u001b[39m\n",
      "\u001b[32m[info | PowerModels]: removing 1 cost terms from generator 12: [1765.53, 0.0]\u001b[39m\n",
      "\u001b[32m[info | PowerModels]: removing 1 cost terms from generator 2: [3479.49, 0.0]\u001b[39m\n",
      "\u001b[32m[info | PowerModels]: removing 1 cost terms from generator 6: [2770.7, 0.0]\u001b[39m\n",
      "\u001b[32m[info | PowerModels]: removing 1 cost terms from generator 11: [3127.13, 0.0]\u001b[39m\n",
      "\u001b[32m[info | PowerModels]: removing 1 cost terms from generator 5: [1676.25, 0.0]\u001b[39m\n",
      "\u001b[32m[info | PowerModels]: removing 1 cost terms from generator 7: [839.833, 0.0]\u001b[39m\n",
      "\u001b[32m[info | PowerModels]: removing 1 cost terms from generator 8: [3799.23, 0.0]\u001b[39m\n",
      "\u001b[32m[info | PowerModels]: removing 1 cost terms from generator 10: [2251.78, 0.0]\u001b[39m\n",
      "\u001b[32m[info | PowerModels]: removing 1 cost terms from generator 9: [2076.08, 0.0]\u001b[39m\n",
      "\u001b[32m[info | PowerModels]: removing 1 cost terms from generator 3: [4229.39, 0.0]\u001b[39m\n",
      "Local search OPF objective solution: 107285.67\n",
      "Initial OPF objective solution: 107285.67\n"
     ]
    },
    {
     "name": "stderr",
     "output_type": "stream",
     "text": [
      "┌ Error: PowerFlow Failed\n",
      "└ @ Main /Users/dc/Documents/Github/CVXRS_master/CVXRS_OPF/src/CVXRS_OPF.jl:160\n"
     ]
    },
    {
     "data": {
      "text/plain": [
       "(Dict(\"line\"=>[],\"qg\"=>[],\"pg\"=>[],\"angle\"=>[],\"vmag\"=>[]), 0.1)"
      ]
     },
     "execution_count": 61,
     "metadata": {},
     "output_type": "execute_result"
    }
   ],
   "source": [
    "\n",
    "num_data=100\n",
    "gamma_req=0.01\n",
    "\n",
    "\n",
    "network_data = PowerModels.parse_file(\"../../../pglib-opf-master/pglib_opf_case89_pegase.m\");\n",
    "#network_data = PowerModels.parse_file(\"../../../pglib-opf-master/pglib_opf_case162_ieee_dtc.m\");\n",
    "#network_data = PowerModels.parse_file(\"../../../pglib-opf-master/pglib_opf_case200_tamu.m\");\n",
    "#network_data = PowerModels.parse_file(\"../../../pglib-opf-master/pglib_opf_case240_pserc.m\");\n",
    "#network_data = PowerModels.parse_file(\"../../../pglib-opf-master/pglib_opf_case300_ieee.m\");\n",
    "#network_data = PowerModels.parse_file(\"../../../pglib-opf-master/pglib_opf_case500_tamu.m\");\n",
    "#network_data = PowerModels.parse_file(\"../../../pglib-opf-master/pglib_opf_case588_sdet.m\");\n",
    "#network_data = PowerModels.parse_file(\"../../../pglib-opf-master/pglib_opf_case1354_pegase.m\");\n",
    "#network_data = PowerModels.parse_file(\"../../../pglib-opf-master/pglib_opf_case1888_rte.m\");\n",
    "#network_data = PowerModels.parse_file(\"../../../pglib-opf-master/pglib_opf_case1951_rte.m\");\n",
    "#network_data = PowerModels.parse_file(\"../../../pglib-opf-master/pglib_opf_case2000_tamu.m\");\n",
    "\n",
    "result_opf=run_opf(network_data, ACPPowerModel, with_optimizer(Ipopt.Optimizer,print_level=0))\n",
    "println(\"Local search OPF objective solution: \",round(result_opf[\"objective\"],digits=2))\n",
    "\n",
    "## Initialize OPF\n",
    "network_data=opf_initialization(network_data, 0.0)\n",
    "[network_data[\"gen\"][i][\"ptc_factor\"]=Int(network_data[\"bus\"][string(gen[\"gen_bus\"])][\"bus_type\"]==3) for (i,gen) in network_data[\"gen\"]]\n",
    "#[network_data[\"gen\"][i][\"ptc_factor\"]=gen[\"gen_status\"]*float((gen[\"pmax\"]-gen[\"pmin\"])>0) for (i,gen) in network_data[\"gen\"]]\n",
    "\n",
    "network_data=runpf(network_data)\n",
    "test_runpf(network_data)\n",
    "println(\"Initial OPF objective solution: \",round(network_data[\"cost\"],digits=2))\n",
    "violation_status, margin=check_violation(network_data)\n",
    "\n",
    "\n"
   ]
  },
  {
   "cell_type": "code",
   "execution_count": 57,
   "metadata": {},
   "outputs": [
    {
     "name": "stderr",
     "output_type": "stream",
     "text": [
      "┌ Error: PowerFlow Failed\n",
      "└ @ Main In[57]:12\n"
     ]
    }
   ],
   "source": [
    "## This is the power flow solving test\n",
    "num_bus=length(network_data[\"bus\"])\n",
    "vm=zeros(Float64, num_bus); [vm[bus[\"idx\"]]=bus[\"vm\"] for (i,bus) in network_data[\"bus\"]]\n",
    "va=zeros(Float64, num_bus); [va[bus[\"idx\"]]=bus[\"va\"] for (i,bus) in network_data[\"bus\"]]\n",
    "\n",
    "network_data_test=deepcopy(network_data)\n",
    "[gen[\"pg\"]=gen[\"pg\"]+gen[\"ptc_factor\"]*network_data_test[\"delta\"] for (i,gen) in network_data_test[\"gen\"]]\n",
    "result_test=run_pf(network_data_test, ACPPowerModel, with_optimizer(Ipopt.Optimizer,print_level=0))\n",
    "vm_test=zeros(Float64, num_bus); [vm_test[bus[\"idx\"]]=result_test[\"solution\"][\"bus\"][i][\"vm\"] for (i,bus) in network_data_test[\"bus\"]]\n",
    "va_test=zeros(Float64, num_bus); [va_test[bus[\"idx\"]]=result_test[\"solution\"][\"bus\"][i][\"va\"] for (i,bus) in network_data_test[\"bus\"]]\n",
    "\n",
    "if max(maximum(abs.(vm-vm_test)),maximum(abs.(va-va_test)))>1e-5; @error \"PowerFlow Failed\" end;\n"
   ]
  },
  {
   "cell_type": "code",
   "execution_count": 58,
   "metadata": {},
   "outputs": [
    {
     "data": {
      "text/plain": [
       "0.009053192296925916"
      ]
     },
     "execution_count": 58,
     "metadata": {},
     "output_type": "execute_result"
    }
   ],
   "source": [
    "maximum(abs.(vm-vm_test))"
   ]
  },
  {
   "cell_type": "code",
   "execution_count": 59,
   "metadata": {},
   "outputs": [
    {
     "data": {
      "text/plain": [
       "0.16676145445838111"
      ]
     },
     "execution_count": 59,
     "metadata": {},
     "output_type": "execute_result"
    }
   ],
   "source": [
    "maximum(abs.(va-va_test))"
   ]
  },
  {
   "cell_type": "code",
   "execution_count": 60,
   "metadata": {},
   "outputs": [
    {
     "data": {
      "text/plain": [
       "(0.16676145445838111, 155)"
      ]
     },
     "execution_count": 60,
     "metadata": {},
     "output_type": "execute_result"
    }
   ],
   "source": [
    "sort(abs.(va-va_test))\n",
    "mxval, mxindx = findmax(abs.(va-va_test))"
   ]
  },
  {
   "cell_type": "code",
   "execution_count": 53,
   "metadata": {},
   "outputs": [
    {
     "data": {
      "text/plain": [
       "2040.0"
      ]
     },
     "execution_count": 53,
     "metadata": {},
     "output_type": "execute_result"
    }
   ],
   "source": [
    "bus_name=zeros(Float64, num_bus); [bus_name[bus[\"idx\"]]=bus[\"bus_i\"] for (i,bus) in network_data[\"bus\"]]\n",
    "bus_name[155]"
   ]
  },
  {
   "cell_type": "code",
   "execution_count": 55,
   "metadata": {},
   "outputs": [
    {
     "name": "stdout",
     "output_type": "stream",
     "text": [
      "\u001b[32m[info | PowerModels]: removing 1 cost terms from generator 32: [3101.67, 0.0]\u001b[39m\n",
      "\u001b[32m[info | PowerModels]: removing 1 cost terms from generator 29: [2727.85, 0.0]\u001b[39m\n",
      "\u001b[32m[info | PowerModels]: removing 3 cost terms from generator 1: Float64[]\u001b[39m\n",
      "\u001b[32m[info | PowerModels]: removing 1 cost terms from generator 54: [10398.7, 0.0]\u001b[39m\n",
      "\u001b[32m[info | PowerModels]: removing 3 cost terms from generator 2: Float64[]\u001b[39m\n",
      "\u001b[32m[info | PowerModels]: removing 1 cost terms from generator 41: [3965.77, 0.0]\u001b[39m\n",
      "\u001b[32m[info | PowerModels]: removing 3 cost terms from generator 65: Float64[]\u001b[39m\n",
      "\u001b[32m[info | PowerModels]: removing 1 cost terms from generator 51: [3512.67, 0.0]\u001b[39m\n",
      "\u001b[32m[info | PowerModels]: removing 1 cost terms from generator 53: [2999.2, 0.0]\u001b[39m\n",
      "\u001b[32m[info | PowerModels]: removing 1 cost terms from generator 27: [2839.15, 0.0]\u001b[39m\n",
      "\u001b[32m[info | PowerModels]: removing 1 cost terms from generator 42: [4122.33, 0.0]\u001b[39m\n",
      "\u001b[32m[info | PowerModels]: removing 1 cost terms from generator 33: [4972.18, 0.0]\u001b[39m\n",
      "\u001b[32m[info | PowerModels]: removing 1 cost terms from generator 28: [100.02, 0.0]\u001b[39m\n",
      "\u001b[32m[info | PowerModels]: removing 1 cost terms from generator 50: [2843.49, 0.0]\u001b[39m\n",
      "\u001b[32m[info | PowerModels]: removing 1 cost terms from generator 52: [5106.24, 0.0]\u001b[39m\n",
      "\u001b[32m[info | PowerModels]: removing 1 cost terms from generator 63: [3617.91, 0.0]\u001b[39m\n",
      "\u001b[32m[info | PowerModels]: removing 1 cost terms from generator 26: [2903.13, 0.0]\u001b[39m\n",
      "\u001b[32m[info | PowerModels]: removing 1 cost terms from generator 10: [3843.07, 0.0]\u001b[39m\n",
      "\u001b[32m[info | PowerModels]: removing 3 cost terms from generator 24: Float64[]\u001b[39m\n",
      "\u001b[32m[info | PowerModels]: removing 1 cost terms from generator 58: [6242.71, 0.0]\u001b[39m\n",
      "\u001b[32m[info | PowerModels]: removing 1 cost terms from generator 25: [3386.85, 0.0]\u001b[39m\n",
      "\u001b[32m[info | PowerModels]: removing 1 cost terms from generator 23: [3537.6, 0.0]\u001b[39m\n",
      "\u001b[32m[info | PowerModels]: removing 1 cost terms from generator 49: [2668.3, 0.0]\u001b[39m\n",
      "\u001b[32m[info | PowerModels]: removing 1 cost terms from generator 59: [2081.15, 0.0]\u001b[39m\n",
      "\u001b[32m[info | PowerModels]: removing 3 cost terms from generator 5: Float64[]\u001b[39m\n",
      "\u001b[32m[info | PowerModels]: removing 1 cost terms from generator 31: [2406.27, 0.0]\u001b[39m\n",
      "\u001b[32m[info | PowerModels]: removing 1 cost terms from generator 62: [2975.99, 0.0]\u001b[39m\n",
      "\u001b[32m[info | PowerModels]: removing 1 cost terms from generator 43: [3906.47, 0.0]\u001b[39m\n",
      "\u001b[32m[info | PowerModels]: removing 1 cost terms from generator 39: [3565.08, 0.0]\u001b[39m\n",
      "\u001b[32m[info | PowerModels]: removing 1 cost terms from generator 34: [2129.17, 0.0]\u001b[39m\n",
      "\u001b[32m[info | PowerModels]: removing 1 cost terms from generator 44: [11693.9, 0.0]\u001b[39m\n",
      "\u001b[32m[info | PowerModels]: removing 1 cost terms from generator 55: [3882.57, 0.0]\u001b[39m\n",
      "\u001b[32m[info | PowerModels]: removing 1 cost terms from generator 17: [1929.23, 0.0]\u001b[39m\n",
      "\u001b[32m[info | PowerModels]: removing 1 cost terms from generator 37: [2801.05, 0.0]\u001b[39m\n",
      "\u001b[32m[info | PowerModels]: removing 1 cost terms from generator 47: [2346.68, 0.0]\u001b[39m\n",
      "\u001b[32m[info | PowerModels]: removing 1 cost terms from generator 9: [2723.84, 0.0]\u001b[39m\n",
      "\u001b[32m[info | PowerModels]: removing 1 cost terms from generator 12: [2675.41, 0.0]\u001b[39m\n",
      "\u001b[32m[info | PowerModels]: removing 1 cost terms from generator 20: [3495.6, 0.0]\u001b[39m\n",
      "\u001b[32m[info | PowerModels]: removing 1 cost terms from generator 6: [2240.98, 0.0]\u001b[39m\n",
      "\u001b[32m[info | PowerModels]: removing 3 cost terms from generator 14: Float64[]\u001b[39m\n",
      "\u001b[32m[info | PowerModels]: removing 1 cost terms from generator 7: [4610.01, 0.0]\u001b[39m\n",
      "\u001b[32m[info | PowerModels]: removing 1 cost terms from generator 57: [2977.26, 0.0]\u001b[39m\n",
      "\u001b[32m[info | PowerModels]: removing 1 cost terms from generator 8: [5416.49, 0.0]\u001b[39m\n",
      "\u001b[32m[info | PowerModels]: removing 1 cost terms from generator 64: [3690.84, 0.0]\u001b[39m\n",
      "\u001b[32m[info | PowerModels]: removing 1 cost terms from generator 19: [3584.24, 0.0]\u001b[39m\n",
      "\u001b[32m[info | PowerModels]: removing 1 cost terms from generator 69: [9475.82, 0.0]\u001b[39m\n",
      "\u001b[32m[info | PowerModels]: removing 1 cost terms from generator 60: [2650.79, 0.0]\u001b[39m\n",
      "\u001b[32m[info | PowerModels]: removing 3 cost terms from generator 4: Float64[]\u001b[39m\n",
      "\u001b[32m[info | PowerModels]: removing 3 cost terms from generator 22: Float64[]\u001b[39m\n",
      "\u001b[32m[info | PowerModels]: removing 1 cost terms from generator 11: [769.891, 0.0]\u001b[39m\n",
      "\u001b[32m[info | PowerModels]: removing 1 cost terms from generator 35: [3143.7, 0.0]\u001b[39m\n",
      "\u001b[32m[info | PowerModels]: removing 3 cost terms from generator 13: Float64[]\u001b[39m\n",
      "\u001b[32m[info | PowerModels]: removing 1 cost terms from generator 15: [3059.79, 0.0]\u001b[39m\n",
      "\u001b[32m[info | PowerModels]: removing 1 cost terms from generator 61: [3158.75, 0.0]\u001b[39m\n",
      "\u001b[32m[info | PowerModels]: removing 3 cost terms from generator 67: Float64[]\u001b[39m\n",
      "\u001b[32m[info | PowerModels]: removing 1 cost terms from generator 16: [3075.87, 0.0]\u001b[39m\n",
      "\u001b[32m[info | PowerModels]: removing 1 cost terms from generator 40: [3262.13, 0.0]\u001b[39m\n",
      "\u001b[32m[info | PowerModels]: removing 1 cost terms from generator 21: [2276.27, 0.0]\u001b[39m\n",
      "\u001b[32m[info | PowerModels]: removing 1 cost terms from generator 38: [3982.86, 0.0]\u001b[39m\n",
      "\u001b[32m[info | PowerModels]: removing 1 cost terms from generator 46: [3827.49, 0.0]\u001b[39m\n",
      "\u001b[32m[info | PowerModels]: removing 1 cost terms from generator 45: [3433.66, 0.0]\u001b[39m\n",
      "\u001b[32m[info | PowerModels]: removing 1 cost terms from generator 68: [3296.15, 0.0]\u001b[39m\n",
      "\u001b[32m[info | PowerModels]: removing 1 cost terms from generator 56: [684.307, 0.0]\u001b[39m\n",
      "\u001b[32m[info | PowerModels]: removing 1 cost terms from generator 36: [5084.29, 0.0]\u001b[39m\n",
      "\u001b[32m[info | PowerModels]: removing 3 cost terms from generator 66: Float64[]\u001b[39m\n",
      "\u001b[32m[info | PowerModels]: removing 1 cost terms from generator 48: [750.996, 0.0]\u001b[39m\n",
      "\u001b[32m[info | PowerModels]: removing 1 cost terms from generator 18: [4986.19, 0.0]\u001b[39m\n",
      "\u001b[32m[info | PowerModels]: removing 1 cost terms from generator 30: [4915.57, 0.0]\u001b[39m\n",
      "\u001b[32m[info | PowerModels]: removing 3 cost terms from generator 3: Float64[]\u001b[39m\n"
     ]
    },
    {
     "data": {
      "text/plain": [
       "0.003472631606021298"
      ]
     },
     "execution_count": 55,
     "metadata": {},
     "output_type": "execute_result"
    }
   ],
   "source": [
    "\n",
    "#network_data = PowerModels.parse_file(\"../../../pglib-opf-master/pglib_opf_case89_pegase.m\");\n",
    "#network_data = PowerModels.parse_file(\"../../../pglib-opf-master/pglib_opf_case179_goc.m\");\n",
    "#network_data = PowerModels.parse_file(\"../../../pglib-opf-master/pglib_opf_case300_ieee.m\");\n",
    "#network_data = PowerModels.parse_file(\"../../../pglib-opf-master/pglib_opf_case1354_pegase.m\");\n",
    "\n",
    "num_line=length(network_data[\"branch\"])\n",
    "tap=zeros(Complex{Float64},num_line); [tap[branch[\"index\"]]=branch[\"tap\"]*exp(1im*pi/180*branch[\"shift\"]) for (i,branch) in network_data[\"branch\"]]\n",
    "maximum(abs.(imag(tap)))"
   ]
  },
  {
   "cell_type": "code",
   "execution_count": null,
   "metadata": {},
   "outputs": [],
   "source": []
  },
  {
   "cell_type": "code",
   "execution_count": null,
   "metadata": {},
   "outputs": [],
   "source": [
    "\n",
    "(Σ0,γ0)=network_data[\"uncertainty\"]\n",
    "network_data[\"uncertainty\"]=(Σ0,gamma_req)\n",
    "pl_sampled,data_gencost_bounded,violation_count_bounded,sample_violation_bounded=sample_pf(network_data,num_data,1)\n",
    "count_bounded=violation_count_bounded\n",
    "cost_worst_sampled=maximum(data_gencost_bounded)\n",
    "\n",
    "(Σ0,γ0)=network_data[\"uncertainty\"]\n",
    "network_data[\"uncertainty\"]=(Σ0,gamma_req/2)\n",
    "pl_sampled,data_gencost_bounded,violation_count_normal,sample_violation_bounded=sample_pf(network_data,num_data,0)\n",
    "count_normal=violation_count_normal\n",
    "\n",
    "println(\"Violation probability (Bounded): \",count_bounded/num_data*100)\n",
    "println(\"Violation probability (Normal): \",count_normal/num_data*100)\n"
   ]
  },
  {
   "cell_type": "code",
   "execution_count": null,
   "metadata": {
    "scrolled": true
   },
   "outputs": [],
   "source": [
    "max_iter_SCRS=1\n",
    "\n",
    "(Σ0,γ0)=network_data[\"uncertainty\"]\n",
    "network_data[\"uncertainty\"]=(Σ0,gamma_req)\n",
    "\n",
    "network_data, result_cvxr=scrs(network_data, max_iter_SCRS);\n",
    "\n",
    "println(\"Robust OPF objective solution: \",round(network_data[\"cost\"],digits=2))\n",
    "\n",
    "\n",
    "(Σ0,γ0)=network_data[\"uncertainty\"]\n",
    "network_data[\"uncertainty\"]=(Σ0,gamma_req)\n",
    "pl_sampled,data_gencost_bounded,violation_count_bounded,sample_violation_bounded=sample_pf(network_data,num_data,1)\n",
    "count_bounded=violation_count_bounded\n",
    "cost_worst_sampled=maximum(data_gencost_bounded)\n",
    "\n",
    "(Σ0,γ0)=network_data[\"uncertainty\"]\n",
    "network_data[\"uncertainty\"]=(Σ0,gamma_req/2)\n",
    "pl_sampled,data_gencost_bounded,violation_count_normal,sample_violation_bounded=sample_pf(network_data,num_data,0)\n",
    "count_normal=violation_count_normal\n",
    "\n",
    "println(\"Violation probability (Bounded): \", count_bounded/num_data*100)\n",
    "println(\"Violation probability (Normal): \", count_normal/num_data*100)\n",
    "println(\"Solver Time: \", sum(result_cvxr[\"solver_time\"]))\n",
    "println(\"Solver Time (1 iter): \", result_cvxr[\"solver_time\"][2])\n",
    "\n",
    "\n"
   ]
  },
  {
   "cell_type": "code",
   "execution_count": null,
   "metadata": {},
   "outputs": [],
   "source": []
  },
  {
   "cell_type": "code",
   "execution_count": null,
   "metadata": {},
   "outputs": [],
   "source": []
  },
  {
   "cell_type": "code",
   "execution_count": null,
   "metadata": {},
   "outputs": [],
   "source": []
  },
  {
   "cell_type": "code",
   "execution_count": null,
   "metadata": {},
   "outputs": [],
   "source": []
  },
  {
   "cell_type": "code",
   "execution_count": null,
   "metadata": {},
   "outputs": [],
   "source": []
  },
  {
   "cell_type": "code",
   "execution_count": null,
   "metadata": {},
   "outputs": [],
   "source": []
  }
 ],
 "metadata": {
  "@webio": {
   "lastCommId": null,
   "lastKernelId": null
  },
  "kernelspec": {
   "display_name": "Julia 1.1.0",
   "language": "julia",
   "name": "julia-1.1"
  },
  "language_info": {
   "file_extension": ".jl",
   "mimetype": "application/julia",
   "name": "julia",
   "version": "1.1.0"
  }
 },
 "nbformat": 4,
 "nbformat_minor": 2
}
