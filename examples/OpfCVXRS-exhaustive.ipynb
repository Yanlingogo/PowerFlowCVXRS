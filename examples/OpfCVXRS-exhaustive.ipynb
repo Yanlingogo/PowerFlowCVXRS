{
 "cells": [
  {
   "cell_type": "code",
   "execution_count": 377,
   "metadata": {},
   "outputs": [
    {
     "name": "stdout",
     "output_type": "stream",
     "text": [
      "Academic license - for non-commercial use only\n"
     ]
    },
    {
     "name": "stderr",
     "output_type": "stream",
     "text": [
      "WARNING: redefining constant GRB_ENV\n"
     ]
    },
    {
     "ename": "LoadError",
     "evalue": "syntax: missing comma or ) in argument list",
     "output_type": "error",
     "traceback": [
      "syntax: missing comma or ) in argument list",
      "",
      "Stacktrace:",
      " [1] include at ./boot.jl:326 [inlined]",
      " [2] include_relative(::Module, ::String) at ./loading.jl:1038",
      " [3] include(::Module, ::String) at ./sysimg.jl:29",
      " [4] include(::String) at ./client.jl:403",
      " [5] top-level scope at In[377]:4"
     ]
    }
   ],
   "source": [
    "using JuMP, MosekTools, Gurobi\n",
    "using SparseArrays, LinearAlgebra, Plots\n",
    "using PowerModels, Ipopt\n",
    "include(\"../src/CVXRS_OPF.jl\")"
   ]
  },
  {
   "cell_type": "code",
   "execution_count": 379,
   "metadata": {
    "scrolled": true
   },
   "outputs": [
    {
     "name": "stdout",
     "output_type": "stream",
     "text": [
      "\u001b[32m[info | PowerModels]: removing 3 cost terms from generator 3: Float64[]\u001b[39m\n",
      "Local search OPF objective solution: 5812.64\n",
      "Initial OPF objective solution: 5812.64\n"
     ]
    },
    {
     "data": {
      "text/plain": [
       "(Dict(\"line\"=>[],\"qg\"=>[],\"pg\"=>[],\"angle\"=>[],\"vmag\"=>[]), 0.1)"
      ]
     },
     "execution_count": 379,
     "metadata": {},
     "output_type": "execute_result"
    }
   ],
   "source": [
    "num_data=100#00\n",
    "\n",
    "network_data = PowerModels.parse_file(\"../../../pglib-opf-master/pglib_opf_case3_lmbd.m\");\n",
    "#network_data = PowerModels.parse_file(\"../../../pglib-opf-master/pglib_opf_case5_pjm.m\");\n",
    "#network_data = PowerModels.parse_file(\"../../../pglib-opf-master/pglib_opf_case14_ieee.m\");\n",
    "#network_data = PowerModels.parse_file(\"../../../pglib-opf-master/pglib_opf_case24_ieee_rts.m\");\n",
    "#network_data = PowerModels.parse_file(\"../../../pglib-opf-master/pglib_opf_case30_as.m\");\n",
    "#network_data = PowerModels.parse_file(\"../../../pglib-opf-master/pglib_opf_case30_fsr.m\");\n",
    "#network_data = PowerModels.parse_file(\"../../../pglib-opf-master/pglib_opf_case30_ieee.m\");\n",
    "#network_data = PowerModels.parse_file(\"../../../pglib-opf-master/pglib_opf_case39_epri.m\");\n",
    "#network_data = PowerModels.parse_file(\"../../../pglib-opf-master/pglib_opf_case57_ieee.m\");\n",
    "#network_data = PowerModels.parse_file(\"../../../pglib-opf-master/pglib_opf_case73_ieee_rts.m\");\n",
    "#network_data = PowerModels.parse_file(\"../../../pglib-opf-master/pglib_opf_case89_pegase.m\");\n",
    "#network_data = PowerModels.parse_file(\"../../../pglib-opf-master/pglib_opf_case118_ieee.m\");\n",
    "#network_data = PowerModels.parse_file(\"../../../pglib-opf-master/pglib_opf_case162_ieee_dtc.m\");\n",
    "#network_data = PowerModels.parse_file(\"../../../pglib-opf-master/pglib_opf_case179_goc.m\");\n",
    "#network_data = PowerModels.parse_file(\"../../../pglib-opf-master/pglib_opf_case200_tamu.m\");\n",
    "#network_data = PowerModels.parse_file(\"../../../pglib-opf-master/pglib_opf_case240_pserc.m\");\n",
    "#network_data = PowerModels.parse_file(\"../../../pglib-opf-master/pglib_opf_case300_ieee.m\");\n",
    "#network_data = PowerModels.parse_file(\"../../../pglib-opf-master/pglib_opf_case500_tamu.m\");\n",
    "#network_data = PowerModels.parse_file(\"../../../pglib-opf-master/pglib_opf_case588_sdet.m\");\n",
    "#network_data = PowerModels.parse_file(\"../../../pglib-opf-master/pglib_opf_case1354_pegase.m\");\n",
    "#network_data = PowerModels.parse_file(\"../../../pglib-opf-master/pglib_opf_case1888_rte.m\");\n",
    "#network_data = PowerModels.parse_file(\"../../../pglib-opf-master/pglib_opf_case1951_rte.m\");\n",
    "#network_data = PowerModels.parse_file(\"../../../pglib-opf-master/pglib_opf_case2000_tamu.m\");\n",
    "\n",
    "result_opf=run_opf(network_data, ACPPowerModel, with_optimizer(Ipopt.Optimizer,print_level=0))\n",
    "println(\"Local search OPF objective solution: \",round(result_opf[\"objective\"],digits=2))\n",
    "\n",
    "## Initialize OPF\n",
    "network_data=opf_initialization(network_data, 0.0)\n",
    "#[network_data[\"gen\"][i][\"ptc_factor\"]=Int(network_data[\"bus\"][string(gen[\"gen_bus\"])][\"bus_type\"]==3) for (i,gen) in network_data[\"gen\"]]\n",
    "[network_data[\"gen\"][i][\"ptc_factor\"]=gen[\"gen_status\"]*float((gen[\"pmax\"]-gen[\"pmin\"])>0) for (i,gen) in network_data[\"gen\"]]\n",
    "\n",
    "network_data=runpf(network_data)\n",
    "test_runpf(network_data)\n",
    "println(\"Initial OPF objective solution: \",round(network_data[\"cost\"],digits=2))\n",
    "violation_status, margin=check_violation(network_data)\n",
    "\n",
    "\n"
   ]
  },
  {
   "cell_type": "code",
   "execution_count": 356,
   "metadata": {},
   "outputs": [
    {
     "name": "stdout",
     "output_type": "stream",
     "text": [
      "Violation probability (Bounded): 100.0\n",
      "Violation probability (Normal): 100.0\n"
     ]
    }
   ],
   "source": [
    "\n",
    "(Σ0,γ0)=network_data[\"uncertainty\"]\n",
    "Σ0=Σ0+1e-3*Matrix{Float64}(I,size(Σ0,1),size(Σ0,1))\n",
    "network_data[\"uncertainty\"]=(Σ0,gamma_req)\n",
    "pl_sampled,data_gencost_bounded,violation_count_bounded,sample_violation_bounded=sample_pf(network_data,num_data,1)\n",
    "count_bounded=violation_count_bounded\n",
    "cost_worst_sampled=maximum(data_gencost_bounded)\n",
    "\n",
    "(Σ0,γ0)=network_data[\"uncertainty\"]\n",
    "network_data[\"uncertainty\"]=(Σ0,gamma_req/2)\n",
    "pl_sampled,data_gencost_bounded,violation_count_normal,sample_violation_bounded=sample_pf(network_data,num_data,0)\n",
    "count_normal=violation_count_normal\n",
    "\n",
    "println(\"Violation probability (Bounded): \",count_bounded/num_data*100)\n",
    "println(\"Violation probability (Normal): \",count_normal/num_data*100)\n"
   ]
  },
  {
   "cell_type": "code",
   "execution_count": 382,
   "metadata": {
    "scrolled": true
   },
   "outputs": [
    {
     "name": "stdout",
     "output_type": "stream",
     "text": [
      "Academic license - for non-commercial use only\n",
      "Iteration "
     ]
    },
    {
     "name": "stderr",
     "output_type": "stream",
     "text": [
      "WARNING: redefining constant GRB_ENV\n",
      "┌ Warning: MathOptInterface.VariablePrimalStart() is not supported by MathOptInterface.Bridges.LazyBridgeOptimizer{MosekModel}. This \n",
      "│   information will be discarded. = information will be discarded.\n",
      "└ @ MathOptInterface.Utilities /Users/dc/.julia/packages/MathOptInterface/A2UPd/src/Utilities/copy.jl:140\n"
     ]
    },
    {
     "name": "stdout",
     "output_type": "stream",
     "text": [
      "1: 5829.95  5892.815   OPTIMAL    0.0017   0.0\n",
      "Robust OPF objective solution: 5829.95\n"
     ]
    }
   ],
   "source": [
    "include(\"../src/CVXRS_OPF.jl\")\n",
    "\n",
    "gamma_req=0.01\n",
    "max_iter_SCRS=1\n",
    "\n",
    "(Σ0,γ0)=network_data[\"uncertainty\"]\n",
    "network_data[\"uncertainty\"]=(Σ0,gamma_req)\n",
    "\n",
    "network_data, result_cvxr=scrs(network_data, max_iter_SCRS,false);\n",
    "\n",
    "println(\"Robust OPF objective solution: \",round(network_data[\"cost\"],digits=2))\n",
    "\n",
    "\n",
    "\n"
   ]
  },
  {
   "cell_type": "code",
   "execution_count": 376,
   "metadata": {},
   "outputs": [
    {
     "name": "stdout",
     "output_type": "stream",
     "text": [
      "Violation probability (Bounded): 70.0\n",
      "Violation probability (Normal): 77.0\n",
      "Solver Time: 23.386204957962036\n",
      "Solver Time (1 iter): 23.386204957962036\n"
     ]
    }
   ],
   "source": [
    "\n",
    "(Σ0,γ0)=network_data[\"uncertainty\"]\n",
    "network_data[\"uncertainty\"]=(Σ0,gamma_req)\n",
    "pl_sampled,data_gencost_bounded,violation_count_bounded,sample_violation_bounded=sample_pf(network_data,num_data,1)\n",
    "count_bounded=violation_count_bounded\n",
    "cost_worst_sampled=maximum(data_gencost_bounded)\n",
    "\n",
    "(Σ0,γ0)=network_data[\"uncertainty\"]\n",
    "network_data[\"uncertainty\"]=(Σ0,gamma_req/2)\n",
    "pl_sampled,data_gencost_bounded,violation_count_normal,sample_violation_bounded=sample_pf(network_data,num_data,0)\n",
    "count_normal=violation_count_normal\n",
    "\n",
    "println(\"Violation probability (Bounded): \", count_bounded/num_data*100)\n",
    "println(\"Violation probability (Normal): \", count_normal/num_data*100)\n",
    "println(\"Solver Time: \", sum(result_cvxr[\"solver_time\"]))\n",
    "println(\"Solver Time (1 iter): \", result_cvxr[\"solver_time\"][2])\n"
   ]
  },
  {
   "cell_type": "code",
   "execution_count": null,
   "metadata": {},
   "outputs": [],
   "source": []
  },
  {
   "cell_type": "code",
   "execution_count": null,
   "metadata": {},
   "outputs": [],
   "source": []
  },
  {
   "cell_type": "code",
   "execution_count": null,
   "metadata": {},
   "outputs": [],
   "source": []
  }
 ],
 "metadata": {
  "@webio": {
   "lastCommId": null,
   "lastKernelId": null
  },
  "kernelspec": {
   "display_name": "Julia 1.1.0",
   "language": "julia",
   "name": "julia-1.1"
  },
  "language_info": {
   "file_extension": ".jl",
   "mimetype": "application/julia",
   "name": "julia",
   "version": "1.1.0"
  }
 },
 "nbformat": 4,
 "nbformat_minor": 2
}
