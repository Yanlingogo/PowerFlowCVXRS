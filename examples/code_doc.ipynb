{
 "cells": [
  {
   "cell_type": "code",
   "execution_count": 6,
   "metadata": {},
   "outputs": [
    {
     "name": "stdout",
     "output_type": "stream",
     "text": [
      "\u001b[35m[warn | PowerModels]: this code only supports angmin values in -90 deg. to 90 deg., tightening the value on branch 8 from -360.0 to -60.0 deg.\u001b[39m\n",
      "\u001b[35m[warn | PowerModels]: this code only supports angmax values in -90 deg. to 90 deg., tightening the value on branch 8 from 360.0 to 60.0 deg.\u001b[39m\n",
      "\u001b[35m[warn | PowerModels]: this code only supports angmin values in -90 deg. to 90 deg., tightening the value on branch 4 from -360.0 to -60.0 deg.\u001b[39m\n",
      "\u001b[35m[warn | PowerModels]: this code only supports angmax values in -90 deg. to 90 deg., tightening the value on branch 4 from 360.0 to 60.0 deg.\u001b[39m\n",
      "\u001b[35m[warn | PowerModels]: this code only supports angmin values in -90 deg. to 90 deg., tightening the value on branch 1 from -360.0 to -60.0 deg.\u001b[39m\n",
      "\u001b[35m[warn | PowerModels]: this code only supports angmax values in -90 deg. to 90 deg., tightening the value on branch 1 from 360.0 to 60.0 deg.\u001b[39m\n",
      "\u001b[35m[warn | PowerModels]: this code only supports angmin values in -90 deg. to 90 deg., tightening the value on branch 5 from -360.0 to -60.0 deg.\u001b[39m\n",
      "\u001b[35m[warn | PowerModels]: this code only supports angmax values in -90 deg. to 90 deg., tightening the value on branch 5 from 360.0 to 60.0 deg.\u001b[39m\n",
      "\u001b[35m[warn | PowerModels]: this code only supports angmin values in -90 deg. to 90 deg., tightening the value on branch 2 from -360.0 to -60.0 deg.\u001b[39m\n",
      "\u001b[35m[warn | PowerModels]: this code only supports angmax values in -90 deg. to 90 deg., tightening the value on branch 2 from 360.0 to 60.0 deg.\u001b[39m\n",
      "\u001b[35m[warn | PowerModels]: this code only supports angmin values in -90 deg. to 90 deg., tightening the value on branch 6 from -360.0 to -60.0 deg.\u001b[39m\n",
      "\u001b[35m[warn | PowerModels]: this code only supports angmax values in -90 deg. to 90 deg., tightening the value on branch 6 from 360.0 to 60.0 deg.\u001b[39m\n",
      "\u001b[35m[warn | PowerModels]: this code only supports angmin values in -90 deg. to 90 deg., tightening the value on branch 7 from -360.0 to -60.0 deg.\u001b[39m\n",
      "\u001b[35m[warn | PowerModels]: this code only supports angmax values in -90 deg. to 90 deg., tightening the value on branch 7 from 360.0 to 60.0 deg.\u001b[39m\n",
      "\u001b[35m[warn | PowerModels]: this code only supports angmin values in -90 deg. to 90 deg., tightening the value on branch 9 from -360.0 to -60.0 deg.\u001b[39m\n",
      "\u001b[35m[warn | PowerModels]: this code only supports angmax values in -90 deg. to 90 deg., tightening the value on branch 9 from 360.0 to 60.0 deg.\u001b[39m\n",
      "\u001b[35m[warn | PowerModels]: this code only supports angmin values in -90 deg. to 90 deg., tightening the value on branch 3 from -360.0 to -60.0 deg.\u001b[39m\n",
      "\u001b[35m[warn | PowerModels]: this code only supports angmax values in -90 deg. to 90 deg., tightening the value on branch 3 from 360.0 to 60.0 deg.\u001b[39m\n",
      "This is Ipopt version 3.14.16, running with linear solver MUMPS 5.7.3.\n",
      "\n",
      "Number of nonzeros in equality constraint Jacobian...:      223\n",
      "Number of nonzeros in inequality constraint Jacobian.:       54\n",
      "Number of nonzeros in Lagrangian Hessian.............:      399\n",
      "\n",
      "Total number of variables............................:       60\n",
      "                     variables with only lower bounds:        0\n",
      "                variables with lower and upper bounds:       51\n",
      "                     variables with only upper bounds:        0\n",
      "Total number of equality constraints.................:       55\n",
      "Total number of inequality constraints...............:       27\n",
      "        inequality constraints with only lower bounds:        0\n",
      "   inequality constraints with lower and upper bounds:        9\n",
      "        inequality constraints with only upper bounds:       18\n",
      "\n",
      "iter    objective    inf_pr   inf_du lg(mu)  ||d||  lg(rg) alpha_du alpha_pr  ls\n",
      "   0  1.2026175e+03 1.25e+00 1.20e+01  -1.0 0.00e+00    -  0.00e+00 0.00e+00   0\n",
      "   1  5.3141179e+03 3.20e-02 1.96e+02  -1.0 1.28e+00    -  9.07e-03 1.00e+00H  1\n",
      "   2  5.2968193e+03 9.18e-03 1.36e+02  -1.0 3.85e-01    -  2.58e-01 2.54e-01f  1\n",
      "   3  5.3028507e+03 6.47e-03 6.10e+00  -1.0 1.56e-01    -  9.79e-01 1.00e+00h  1\n",
      "   4  5.2993518e+03 1.89e-03 2.98e-01  -1.0 3.70e-02    -  1.00e+00 1.00e+00h  1\n",
      "   5  5.2972869e+03 4.63e-04 4.33e-02  -1.7 2.28e-02    -  1.00e+00 1.00e+00f  1\n",
      "   6  5.2967173e+03 1.26e-04 6.18e-01  -2.5 1.08e-02    -  1.00e+00 8.01e-01f  1\n",
      "   7  5.2967430e+03 7.17e-06 1.41e-01  -2.5 7.38e-03    -  9.81e-01 1.00e+00f  1\n",
      "   8  5.2967304e+03 4.75e-07 2.27e-04  -2.5 2.02e-03    -  1.00e+00 1.00e+00h  1\n",
      "   9  5.2966898e+03 2.78e-06 1.18e-01  -3.8 3.84e-03    -  1.00e+00 9.30e-01f  1\n",
      "iter    objective    inf_pr   inf_du lg(mu)  ||d||  lg(rg) alpha_du alpha_pr  ls\n",
      "  10  5.2966885e+03 3.38e-07 3.33e-05  -3.8 1.46e-03    -  1.00e+00 1.00e+00f  1\n",
      "  11  5.2966862e+03 4.73e-08 4.64e-06  -5.7 5.15e-04    -  1.00e+00 1.00e+00h  1\n",
      "  12  5.2966862e+03 1.19e-10 1.35e-08  -8.6 2.71e-05    -  1.00e+00 1.00e+00h  1\n",
      "  13  5.2966862e+03 5.19e-15 3.68e-12  -9.0 6.03e-08    -  1.00e+00 1.00e+00h  1\n",
      "\n",
      "Number of Iterations....: 13\n",
      "\n",
      "                                   (scaled)                 (unscaled)\n",
      "Objective...............:   1.0593372404463123e+03    5.2966862022315609e+03\n",
      "Dual infeasibility......:   3.6830532322064569e-12    1.8415266161032284e-11\n",
      "Constraint violation....:   5.1902926401226068e-15    5.1902926401226068e-15\n",
      "Variable bound violation:   1.0941400674369106e-08    1.0941400674369106e-08\n",
      "Complementarity.........:   9.0917673257098567e-10    4.5458836628549285e-09\n",
      "Overall NLP error.......:   9.0917673257098567e-10    4.5458836628549285e-09\n",
      "\n",
      "\n",
      "Number of objective function evaluations             = 15\n",
      "Number of objective gradient evaluations             = 14\n",
      "Number of equality constraint evaluations            = 15\n",
      "Number of inequality constraint evaluations          = 15\n",
      "Number of equality constraint Jacobian evaluations   = 14\n",
      "Number of inequality constraint Jacobian evaluations = 14\n",
      "Number of Lagrangian Hessian evaluations             = 13\n",
      "Total seconds in IPOPT                               = 0.004\n",
      "\n",
      "EXIT: Optimal Solution Found.\n"
     ]
    },
    {
     "data": {
      "text/plain": [
       "Dict{String, Any} with 8 entries:\n",
       "  \"solve_time\"         => 0.00499988\n",
       "  \"optimizer\"          => \"Ipopt\"\n",
       "  \"termination_status\" => LOCALLY_SOLVED\n",
       "  \"dual_status\"        => FEASIBLE_POINT\n",
       "  \"primal_status\"      => FEASIBLE_POINT\n",
       "  \"objective\"          => 5296.69\n",
       "  \"solution\"           => Dict{String, Any}(\"baseMVA\"=>100, \"branch\"=>Dict{Stri…\n",
       "  \"objective_lb\"       => -Inf"
      ]
     },
     "metadata": {},
     "output_type": "display_data"
    }
   ],
   "source": [
    "# using the solver the case file directly\n",
    "using PowerModels\n",
    "using Ipopt\n",
    "using PrettyPrint\n",
    "\n",
    "solve_ac_opf(\"../cases/case9.m\", Ipopt.Optimizer)"
   ]
  },
  {
   "cell_type": "code",
   "execution_count": null,
   "metadata": {},
   "outputs": [],
   "source": [
    "network_data = PowerModels.parse_file(\"../cases/case9.m\");"
   ]
  },
  {
   "cell_type": "code",
   "execution_count": 13,
   "metadata": {},
   "outputs": [
    {
     "name": "stdout",
     "output_type": "stream",
     "text": [
      "{\n",
      "  \"8\" : {\n",
      "          \"zone\" : 1,\n",
      "          \"bus_i\" : 8,\n",
      "          \"bus_type\" : 1,\n",
      "          \"vmax\" : 1.1,\n",
      "          \"source_id\" : [\"bus\", 8],\n",
      "          \"area\" : 1,\n",
      "          \"vmin\" : 0.9,\n",
      "          \"index\" : 8,\n",
      "          \"va\" : 0.0,\n",
      "          \"vm\" : 1.0,\n",
      "          \"base_kv\" : 345.0,\n",
      "        },\n",
      "  \"4\" : {\n",
      "          \"zone\" : 1,\n",
      "          \"bus_i\" : 4,\n",
      "          \"bus_type\" : 1,\n",
      "          \"vmax\" : 1.1,\n",
      "          \"source_id\" : [\"bus\", 4],\n",
      "          \"area\" : 1,\n",
      "          \"vmin\" : 0.9,\n",
      "          \"index\" : 4,\n",
      "          \"va\" : 0.0,\n",
      "          \"vm\" : 1.0,\n",
      "          \"base_kv\" : 345.0,\n",
      "        },\n",
      "  \"1\" : {\n",
      "          \"zone\" : 1,\n",
      "          \"bus_i\" : 1,\n",
      "          \"bus_type\" : 3,\n",
      "          \"vmax\" : 1.1,\n",
      "          \"source_id\" : [\"bus\", 1],\n",
      "          \"area\" : 1,\n",
      "          \"vmin\" : 0.9,\n",
      "          \"index\" : 1,\n",
      "          \"va\" : 0.0,\n",
      "          \"vm\" : 1.0,\n",
      "          \"base_kv\" : 345.0,\n",
      "        },\n",
      "  \"5\" : {\n",
      "          \"zone\" : 1,\n",
      "          \"bus_i\" : 5,\n",
      "          \"bus_type\" : 1,\n",
      "          \"vmax\" : 1.1,\n",
      "          \"source_id\" : [\"bus\", 5],\n",
      "          \"area\" : 1,\n",
      "          \"vmin\" : 0.9,\n",
      "          \"index\" : 5,\n",
      "          \"va\" : 0.0,\n",
      "          \"vm\" : 1.0,\n",
      "          \"base_kv\" : 345.0,\n",
      "        },\n",
      "  \"2\" : {\n",
      "          \"zone\" : 1,\n",
      "          \"bus_i\" : 2,\n",
      "          \"bus_type\" : 2,\n",
      "          \"vmax\" : 1.1,\n",
      "          \"source_id\" : [\"bus\", 2],\n",
      "          \"area\" : 1,\n",
      "          \"vmin\" : 0.9,\n",
      "          \"index\" : 2,\n",
      "          \"va\" : 0.0,\n",
      "          \"vm\" : 1.0,\n",
      "          \"base_kv\" : 345.0,\n",
      "        },\n",
      "  \"6\" : {\n",
      "          \"zone\" : 1,\n",
      "          \"bus_i\" : 6,\n",
      "          \"bus_type\" : 1,\n",
      "          \"vmax\" : 1.1,\n",
      "          \"source_id\" : [\"bus\", 6],\n",
      "          \"area\" : 1,\n",
      "          \"vmin\" : 0.9,\n",
      "          \"index\" : 6,\n",
      "          \"va\" : 0.0,\n",
      "          \"vm\" : 1.0,\n",
      "          \"base_kv\" : 345.0,\n",
      "        },\n",
      "  \"7\" : {\n",
      "          \"zone\" : 1,\n",
      "          \"bus_i\" : 7,\n",
      "          \"bus_type\" : 1,\n",
      "          \"vmax\" : 1.1,\n",
      "          \"source_id\" : [\"bus\", 7],\n",
      "          \"area\" : 1,\n",
      "          \"vmin\" : 0.9,\n",
      "          \"index\" : 7,\n",
      "          \"va\" : 0.0,\n",
      "          \"vm\" : 1.0,\n",
      "          \"base_kv\" : 345.0,\n",
      "        },\n",
      "  \"9\" : {\n",
      "          \"zone\" : 1,\n",
      "          \"bus_i\" : 9,\n",
      "          \"bus_type\" : 1,\n",
      "          \"vmax\" : 1.1,\n",
      "          \"source_id\" : [\"bus\", 9],\n",
      "          \"area\" : 1,\n",
      "          \"vmin\" : 0.9,\n",
      "          \"index\" : 9,\n",
      "          \"va\" : 0.0,\n",
      "          \"vm\" : 1.0,\n",
      "          \"base_kv\" : 345.0,\n",
      "        },\n",
      "  \"3\" : {\n",
      "          \"zone\" : 1,\n",
      "          \"bus_i\" : 3,\n",
      "          \"bus_type\" : 2,\n",
      "          \"vmax\" : 1.1,\n",
      "          \"source_id\" : [\"bus\", 3],\n",
      "          \"area\" : 1,\n",
      "          \"vmin\" : 0.9,\n",
      "          \"index\" : 3,\n",
      "          \"va\" : 0.0,\n",
      "          \"vm\" : 1.0,\n",
      "          \"base_kv\" : 345.0,\n",
      "        },\n",
      "}"
     ]
    }
   ],
   "source": [
    "pprint(network_data[\"bus\"])"
   ]
  },
  {
   "cell_type": "code",
   "execution_count": 12,
   "metadata": {},
   "outputs": [
    {
     "name": "stdout",
     "output_type": "stream",
     "text": [
      "{\n",
      "  \"8\" : {\n",
      "          \"br_r\" : 0.032,\n",
      "          \"rate_a\" : 2.5,\n",
      "          \"shift\" : 0.0,\n",
      "          \"rate_b\" : 2.5,\n",
      "          \"br_x\" : 0.161,\n",
      "          \"rate_c\" : 2.5,\n",
      "          \"g_to\" : 0.0,\n",
      "          \"g_fr\" : 0.0,\n",
      "          \"source_id\" : [\"branch\", \n",
      "                         8],\n",
      "          \"b_fr\" : 0.153,\n",
      "          \"f_bus\" : 8,\n",
      "          \"br_status\" : 1,\n",
      "          \"t_bus\" : 9,\n",
      "          \"b_to\" : 0.153,\n",
      "          \"index\" : 8,\n",
      "          \"angmin\" : -1.0472,\n",
      "          \"angmax\" : 1.0472,\n",
      "          \"transformer\" : false,\n",
      "          \"tap\" : 1.0,\n",
      "        },\n",
      "  \"4\" : {\n",
      "          \"br_r\" : 0.0,\n",
      "          \"rate_a\" : 3.0,\n",
      "          \"shift\" : 0.0,\n",
      "          \"rate_b\" : 3.0,\n",
      "          \"br_x\" : 0.0586,\n",
      "          \"rate_c\" : 3.0,\n",
      "          \"g_to\" : 0.0,\n",
      "          \"g_fr\" : 0.0,\n",
      "          \"source_id\" : [\"branch\", \n",
      "                         4],\n",
      "          \"b_fr\" : 0.0,\n",
      "          \"f_bus\" : 3,\n",
      "          \"br_status\" : 1,\n",
      "          \"t_bus\" : 6,\n",
      "          \"b_to\" : 0.0,\n",
      "          \"index\" : 4,\n",
      "          \"angmin\" : -1.0472,\n",
      "          \"angmax\" : 1.0472,\n",
      "          \"transformer\" : false,\n",
      "          \"tap\" : 1.0,\n",
      "        },\n",
      "  \"1\" : {\n",
      "          \"br_r\" : 0.0,\n",
      "          \"rate_a\" : 2.5,\n",
      "          \"shift\" : 0.0,\n",
      "          \"rate_b\" : 2.5,\n",
      "          \"br_x\" : 0.0576,\n",
      "          \"rate_c\" : 2.5,\n",
      "          \"g_to\" : 0.0,\n",
      "          \"g_fr\" : 0.0,\n",
      "          \"source_id\" : [\"branch\", \n",
      "                         1],\n",
      "          \"b_fr\" : 0.0,\n",
      "          \"f_bus\" : 1,\n",
      "          \"br_status\" : 1,\n",
      "          \"t_bus\" : 4,\n",
      "          \"b_to\" : 0.0,\n",
      "          \"index\" : 1,\n",
      "          \"angmin\" : -1.0472,\n",
      "          \"angmax\" : 1.0472,\n",
      "          \"transformer\" : false,\n",
      "          \"tap\" : 1.0,\n",
      "        },\n",
      "  \"5\" : {\n",
      "          \"br_r\" : 0.0119,\n",
      "          \"rate_a\" : 1.5,\n",
      "          \"shift\" : 0.0,\n",
      "          \"rate_b\" : 1.5,\n",
      "          \"br_x\" : 0.1008,\n",
      "          \"rate_c\" : 1.5,\n",
      "          \"g_to\" : 0.0,\n",
      "          \"g_fr\" : 0.0,\n",
      "          \"source_id\" : [\"branch\", \n",
      "                         5],\n",
      "          \"b_fr\" : 0.1045,\n",
      "          \"f_bus\" : 6,\n",
      "          \"br_status\" : 1,\n",
      "          \"t_bus\" : 7,\n",
      "          \"b_to\" : 0.1045,\n",
      "          \"index\" : 5,\n",
      "          \"angmin\" : -1.0472,\n",
      "          \"angmax\" : 1.0472,\n",
      "          \"transformer\" : false,\n",
      "          \"tap\" : 1.0,\n",
      "        },\n",
      "  \"2\" : {\n",
      "          \"br_r\" : 0.017,\n",
      "          \"rate_a\" : 2.5,\n",
      "          \"shift\" : 0.0,\n",
      "          \"rate_b\" : 2.5,\n",
      "          \"br_x\" : 0.092,\n",
      "          \"rate_c\" : 2.5,\n",
      "          \"g_to\" : 0.0,\n",
      "          \"g_fr\" : 0.0,\n",
      "          \"source_id\" : [\"branch\", \n",
      "                         2],\n",
      "          \"b_fr\" : 0.079,\n",
      "          \"f_bus\" : 4,\n",
      "          \"br_status\" : 1,\n",
      "          \"t_bus\" : 5,\n",
      "          \"b_to\" : 0.079,\n",
      "          \"index\" : 2,\n",
      "          \"angmin\" : -1.0472,\n",
      "          \"angmax\" : 1.0472,\n",
      "          \"transformer\" : false,\n",
      "          \"tap\" : 1.0,\n",
      "        },\n",
      "  \"6\" : {\n",
      "          \"br_r\" : 0.0085,\n",
      "          \"rate_a\" : 2.5,\n",
      "          \"shift\" : 0.0,\n",
      "          \"rate_b\" : 2.5,\n",
      "          \"br_x\" : 0.072,\n",
      "          \"rate_c\" : 2.5,\n",
      "          \"g_to\" : 0.0,\n",
      "          \"g_fr\" : 0.0,\n",
      "          \"source_id\" : [\"branch\", \n",
      "                         6],\n",
      "          \"b_fr\" : 0.0745,\n",
      "          \"f_bus\" : 7,\n",
      "          \"br_status\" : 1,\n",
      "          \"t_bus\" : 8,\n",
      "          \"b_to\" : 0.0745,\n",
      "          \"index\" : 6,\n",
      "          \"angmin\" : -1.0472,\n",
      "          \"angmax\" : 1.0472,\n",
      "          \"transformer\" : false,\n",
      "          \"tap\" : 1.0,\n",
      "        },\n",
      "  \"7\" : {\n",
      "          \"br_r\" : 0.0,\n",
      "          \"rate_a\" : 2.5,\n",
      "          \"shift\" : 0.0,\n",
      "          \"rate_b\" : 2.5,\n",
      "          \"br_x\" : 0.0625,\n",
      "          \"rate_c\" : 2.5,\n",
      "          \"g_to\" : 0.0,\n",
      "          \"g_fr\" : 0.0,\n",
      "          \"source_id\" : [\"branch\", \n",
      "                         7],\n",
      "          \"b_fr\" : 0.0,\n",
      "          \"f_bus\" : 8,\n",
      "          \"br_status\" : 1,\n",
      "          \"t_bus\" : 2,\n",
      "          \"b_to\" : 0.0,\n",
      "          \"index\" : 7,\n",
      "          \"angmin\" : -1.0472,\n",
      "          \"angmax\" : 1.0472,\n",
      "          \"transformer\" : false,\n",
      "          \"tap\" : 1.0,\n",
      "        },\n",
      "  \"9\" : {\n",
      "          \"br_r\" : 0.01,\n",
      "          \"rate_a\" : 2.5,\n",
      "          \"shift\" : 0.0,\n",
      "          \"rate_b\" : 2.5,\n",
      "          \"br_x\" : 0.085,\n",
      "          \"rate_c\" : 2.5,\n",
      "          \"g_to\" : 0.0,\n",
      "          \"g_fr\" : 0.0,\n",
      "          \"source_id\" : [\"branch\", \n",
      "                         9],\n",
      "          \"b_fr\" : 0.088,\n",
      "          \"f_bus\" : 9,\n",
      "          \"br_status\" : 1,\n",
      "          \"t_bus\" : 4,\n",
      "          \"b_to\" : 0.088,\n",
      "          \"index\" : 9,\n",
      "          \"angmin\" : -1.0472,\n",
      "          \"angmax\" : 1.0472,\n",
      "          \"transformer\" : false,\n",
      "          \"tap\" : 1.0,\n",
      "        },\n",
      "  \"3\" : {\n",
      "          \"br_r\" : 0.039,\n",
      "          \"rate_a\" : 1.5,\n",
      "          \"shift\" : 0.0,\n",
      "          \"rate_b\" : 1.5,\n",
      "          \"br_x\" : 0.17,\n",
      "          \"rate_c\" : 1.5,\n",
      "          \"g_to\" : 0.0,\n",
      "          \"g_fr\" : 0.0,\n",
      "          \"source_id\" : [\"branch\", \n",
      "                         3],\n",
      "          \"b_fr\" : 0.179,\n",
      "          \"f_bus\" : 5,\n",
      "          \"br_status\" : 1,\n",
      "          \"t_bus\" : 6,\n",
      "          \"b_to\" : 0.179,\n",
      "          \"index\" : 3,\n",
      "          \"angmin\" : -1.0472,\n",
      "          \"angmax\" : 1.0472,\n",
      "          \"transformer\" : false,\n",
      "          \"tap\" : 1.0,\n",
      "        },\n",
      "}"
     ]
    }
   ],
   "source": [
    "pprint(network_data[\"branch\"])"
   ]
  },
  {
   "cell_type": "code",
   "execution_count": 21,
   "metadata": {},
   "outputs": [
    {
     "data": {
      "text/plain": [
       "0"
      ]
     },
     "metadata": {},
     "output_type": "display_data"
    }
   ],
   "source": [
    "num_bus=length(network_data[\"bus\"])\n",
    "num_line=length(network_data[\"branch\"])\n",
    "num_sh=length(network_data[\"shunt\"])"
   ]
  },
  {
   "cell_type": "code",
   "execution_count": 25,
   "metadata": {},
   "outputs": [
    {
     "data": {
      "text/plain": [
       "9-element Vector{Int64}:\n",
       " 8\n",
       " 3\n",
       " 1\n",
       " 6\n",
       " 4\n",
       " 7\n",
       " 8\n",
       " 9\n",
       " 5"
      ]
     },
     "metadata": {},
     "output_type": "display_data"
    }
   ],
   "source": [
    "idx_fr=zeros(Int64, num_line); \n",
    "[idx_fr[branch[\"index\"]]=network_data[\"bus\"][string(branch[\"f_bus\"])][\"index\"] for (i,branch) in network_data[\"branch\"]]"
   ]
  },
  {
   "cell_type": "code",
   "execution_count": 28,
   "metadata": {},
   "outputs": [
    {
     "name": "stdout",
     "output_type": "stream",
     "text": [
      "[1, 4, 5, 3, 6, 7, 8, 8, 9]"
     ]
    }
   ],
   "source": [
    "pprint(idx_fr)"
   ]
  },
  {
   "cell_type": "code",
   "execution_count": 30,
   "metadata": {},
   "outputs": [
    {
     "name": "stdout",
     "output_type": "stream",
     "text": [
      "[1, 4, 5, 3, 6, 7, 8, 8, 9]"
     ]
    }
   ],
   "source": [
    "# the full form of the assignment of index\n",
    "for (i, branch) in pairs(network_data[\"branch\"])\n",
    "    # 获取 branch[\"index\"]\n",
    "    idx = branch[\"index\"]\n",
    "    \n",
    "    # 获取对应的 bus 的索引\n",
    "    f_bus_key = string(branch[\"f_bus\"])\n",
    "    f_bus_idx = network_data[\"bus\"][f_bus_key][\"index\"]\n",
    "    \n",
    "    # 将 bus 的索引赋值给 idx_fr 中对应位置\n",
    "    idx_fr[idx] = f_bus_idx\n",
    "end\n",
    "pprint(idx_fr)"
   ]
  },
  {
   "cell_type": "code",
   "execution_count": 18,
   "metadata": {},
   "outputs": [
    {
     "ename": "KeyError",
     "evalue": "KeyError: key \"idx\" not found",
     "output_type": "error",
     "traceback": [
      "KeyError: key \"idx\" not found\n",
      "\n",
      "Stacktrace:\n",
      " [1] getindex(h::Dict{String, Any}, key::String)\n",
      "   @ Base .\\dict.jl:477\n",
      " [2] top-level scope\n",
      "   @ e:\\julia_local\\PowerFlowCVXRS\\examples\\jl_notebook_cell_df34fa98e69747e1a8f8a730347b8e2f_X14sZmlsZQ==.jl:1"
     ]
    }
   ],
   "source": [
    "network_data[\"bus\"][string(8)][\"idx\"]"
   ]
  },
  {
   "cell_type": "code",
   "execution_count": 17,
   "metadata": {},
   "outputs": [
    {
     "name": "stdout",
     "output_type": "stream",
     "text": [
      "8\n",
      "Dict{String, Any}(\"br_r\" => 0.032, \"rate_a\" => 2.5, \"shift\" => 0.0, \"rate_b\" => 2.5, \"br_x\" => 0.161, \"rate_c\" => 2.5, \"g_to\" => 0.0, \"g_fr\" => 0.0, \"source_id\" => Any[\"branch\", 8], \"b_fr\" => 0.153, \"f_bus\" => 8, \"br_status\" => 1, \"t_bus\" => 9, \"b_to\" => 0.153, \"index\" => 8, \"angmin\" => -1.0472, \"angmax\" => 1.0472, \"transformer\" => false, \"tap\" => 1.0)\n",
      "4\n",
      "Dict{String, Any}(\"br_r\" => 0.0, \"rate_a\" => 3.0, \"shift\" => 0.0, \"rate_b\" => 3.0, \"br_x\" => 0.0586, \"rate_c\" => 3.0, \"g_to\" => 0.0, \"g_fr\" => 0.0, \"source_id\" => Any[\"branch\", 4], \"b_fr\" => 0.0, \"f_bus\" => 3, \"br_status\" => 1, \"t_bus\" => 6, \"b_to\" => 0.0, \"index\" => 4, \"angmin\" => -1.0472, \"angmax\" => 1.0472, \"transformer\" => false, \"tap\" => 1.0)\n",
      "1\n",
      "Dict{String, Any}(\"br_r\" => 0.0, \"rate_a\" => 2.5, \"shift\" => 0.0, \"rate_b\" => 2.5, \"br_x\" => 0.0576, \"rate_c\" => 2.5, \"g_to\" => 0.0, \"g_fr\" => 0.0, \"source_id\" => Any[\"branch\", 1], \"b_fr\" => 0.0, \"f_bus\" => 1, \"br_status\" => 1, \"t_bus\" => 4, \"b_to\" => 0.0, \"index\" => 1, \"angmin\" => -1.0472, \"angmax\" => 1.0472, \"transformer\" => false, \"tap\" => 1.0)\n",
      "5\n",
      "Dict{String, Any}(\"br_r\" => 0.0119, \"rate_a\" => 1.5, \"shift\" => 0.0, \"rate_b\" => 1.5, \"br_x\" => 0.1008, \"rate_c\" => 1.5, \"g_to\" => 0.0, \"g_fr\" => 0.0, \"source_id\" => Any[\"branch\", 5], \"b_fr\" => 0.1045, \"f_bus\" => 6, \"br_status\" => 1, \"t_bus\" => 7, \"b_to\" => 0.1045, \"index\" => 5, \"angmin\" => -1.0472, \"angmax\" => 1.0472, \"transformer\" => false, \"tap\" => 1.0)\n",
      "2\n",
      "Dict{String, Any}(\"br_r\" => 0.017, \"rate_a\" => 2.5, \"shift\" => 0.0, \"rate_b\" => 2.5, \"br_x\" => 0.092, \"rate_c\" => 2.5, \"g_to\" => 0.0, \"g_fr\" => 0.0, \"source_id\" => Any[\"branch\", 2], \"b_fr\" => 0.079, \"f_bus\" => 4, \"br_status\" => 1, \"t_bus\" => 5, \"b_to\" => 0.079, \"index\" => 2, \"angmin\" => -1.0472, \"angmax\" => 1.0472, \"transformer\" => false, \"tap\" => 1.0)\n",
      "6\n",
      "Dict{String, Any}(\"br_r\" => 0.0085, \"rate_a\" => 2.5, \"shift\" => 0.0, \"rate_b\" => 2.5, \"br_x\" => 0.072, \"rate_c\" => 2.5, \"g_to\" => 0.0, \"g_fr\" => 0.0, \"source_id\" => Any[\"branch\", 6], \"b_fr\" => 0.0745, \"f_bus\" => 7, \"br_status\" => 1, \"t_bus\" => 8, \"b_to\" => 0.0745, \"index\" => 6, \"angmin\" => -1.0472, \"angmax\" => 1.0472, \"transformer\" => false, \"tap\" => 1.0)\n",
      "7\n",
      "Dict{String, Any}(\"br_r\" => 0.0, \"rate_a\" => 2.5, \"shift\" => 0.0, \"rate_b\" => 2.5, \"br_x\" => 0.0625, \"rate_c\" => 2.5, \"g_to\" => 0.0, \"g_fr\" => 0.0, \"source_id\" => Any[\"branch\", 7], \"b_fr\" => 0.0, \"f_bus\" => 8, \"br_status\" => 1, \"t_bus\" => 2, \"b_to\" => 0.0, \"index\" => 7, \"angmin\" => -1.0472, \"angmax\" => 1.0472, \"transformer\" => false, \"tap\" => 1.0)\n",
      "9\n",
      "Dict{String, Any}(\"br_r\" => 0.01, \"rate_a\" => 2.5, \"shift\" => 0.0, \"rate_b\" => 2.5, \"br_x\" => 0.085, \"rate_c\" => 2.5, \"g_to\" => 0.0, \"g_fr\" => 0.0, \"source_id\" => Any[\"branch\", 9], \"b_fr\" => 0.088, \"f_bus\" => 9, \"br_status\" => 1, \"t_bus\" => 4, \"b_to\" => 0.088, \"index\" => 9, \"angmin\" => -1.0472, \"angmax\" => 1.0472, \"transformer\" => false, \"tap\" => 1.0)\n",
      "3\n",
      "Dict{String, Any}(\"br_r\" => 0.039, \"rate_a\" => 1.5, \"shift\" => 0.0, \"rate_b\" => 1.5, \"br_x\" => 0.17, \"rate_c\" => 1.5, \"g_to\" => 0.0, \"g_fr\" => 0.0, \"source_id\" => Any[\"branch\", 3], \"b_fr\" => 0.179, \"f_bus\" => 5, \"br_status\" => 1, \"t_bus\" => 6, \"b_to\" => 0.179, \"index\" => 3, \"angmin\" => -1.0472, \"angmax\" => 1.0472, \"transformer\" => false, \"tap\" => 1.0)\n"
     ]
    }
   ],
   "source": [
    "for (i, branch) in pairs(network_data[\"branch\"])\n",
    "    println(i)\n",
    "    println(branch)\n",
    "end\n"
   ]
  },
  {
   "cell_type": "code",
   "execution_count": 3,
   "metadata": {},
   "outputs": [
    {
     "data": {
      "text/plain": [
       "AbstractDifferentiation.ReverseRuleConfigBackend{Zygote.ZygoteRuleConfig{Zygote.Context{false}}}(Zygote.ZygoteRuleConfig{Zygote.Context{false}}(Zygote.Context{false}(nothing)))"
      ]
     },
     "metadata": {},
     "output_type": "display_data"
    }
   ],
   "source": [
    "# create and test gauss-netwon method\n",
    "\n",
    "\n",
    "import AbstractDifferentiation as AD, Zygote\n",
    "backend = AD.ZygoteBackend() # other backends are available"
   ]
  },
  {
   "cell_type": "code",
   "execution_count": 4,
   "metadata": {},
   "outputs": [
    {
     "data": {
      "text/plain": [
       "r (generic function with 1 method)"
      ]
     },
     "metadata": {},
     "output_type": "display_data"
    }
   ],
   "source": [
    "\"\"\"\n",
    "    gaussnewton(r,β₀,maxiter,tol)\n",
    "\n",
    "Perform Gauss-Newton optimization to minimize the residual function `r` starting from `β₀`. The relevant Jacobian is calculated using automatic differentiation. The algorithm terminates when the norm of the step is less than `tol` or after `maxiter` iterations.\n",
    "\"\"\"\n",
    "function gaussnewton(r, β₀, maxiter, tol)\n",
    "    β = copy(β₀)\n",
    "    for k in 1:maxiter\n",
    "        rβ, Jβ = AD.value_and_jacobian(backend, r, β)\n",
    "        Δ = -(Jβ[1]' * Jβ[1]) \\ (Jβ[1]' * rβ)\n",
    "        β += Δ\n",
    "        \n",
    "        # 计算当前残差的平方和\n",
    "        rss = sum(abs2, rβ)\n",
    "        println(\"Iteration $k: β = $β, Residual sum of squares = $rss\")\n",
    "\n",
    "        # 检查步长是否收敛\n",
    "        if sqrt(sum(abs2, Δ)) < tol\n",
    "            println(\"Converged after $k iterations.\")\n",
    "            break\n",
    "        end\n",
    "    end\n",
    "    return β\n",
    "end\n",
    "\n",
    "function r(β)\n",
    "    x = [1.0, 2.0, 3.0, 4.0, 5.0]  # 输入数据\n",
    "    y = [2.7, 7.3, 20.1, 55.6, 148.4]  # 观测数据 (目标值)\n",
    "    return β[1] * exp.(β[2] * x) .- y  # 计算残差\n",
    "end"
   ]
  },
  {
   "cell_type": "code",
   "execution_count": 13,
   "metadata": {},
   "outputs": [
    {
     "data": {
      "text/plain": [
       "1.0e-6"
      ]
     },
     "metadata": {},
     "output_type": "display_data"
    }
   ],
   "source": [
    "# 参数设置\n",
    "β₀ = [1, 1]  # 初始猜测的参数 the value can affect the convergence strongly\n",
    "maxiter = 100  # 最大迭代次数\n",
    "tol = 1e-6  # 收敛容差"
   ]
  },
  {
   "cell_type": "code",
   "execution_count": 14,
   "metadata": {},
   "outputs": [
    {
     "name": "stdout",
     "output_type": "stream",
     "text": [
      "Iteration 1: β = [1.0495485709151917, 0.9901946495523274], Residual sum of squares = 1.0123509126689505\n",
      "Iteration 2: β = [1.0500089520214102, 0.9903474297133649], Residual sum of squares = 0.5030309661637468\n",
      "Iteration 3: β = [1.050014817262924, 0.9903461518024391], Residual sum of squares = 0.46750369575936307\n",
      "Iteration 4: β = [1.0500147699569493, 0.9903461611136269], Residual sum of squares = 0.4675036789210839\n",
      "Converged after 4 iterations.\n",
      "Optimized β: [1.0500147699569493, 0.9903461611136269]\n"
     ]
    }
   ],
   "source": [
    "# 运行 Gauss-Newton 优化\n",
    "optimized_β = gaussnewton(r, β₀, maxiter, tol)\n",
    "println(\"Optimized β: $optimized_β\")"
   ]
  },
  {
   "cell_type": "code",
   "execution_count": null,
   "metadata": {},
   "outputs": [],
   "source": []
  }
 ],
 "metadata": {
  "kernelspec": {
   "display_name": "Julia 1.11.1",
   "language": "julia",
   "name": "julia-1.11"
  },
  "language_info": {
   "file_extension": ".jl",
   "mimetype": "application/julia",
   "name": "julia",
   "version": "1.11.1"
  }
 },
 "nbformat": 4,
 "nbformat_minor": 2
}
