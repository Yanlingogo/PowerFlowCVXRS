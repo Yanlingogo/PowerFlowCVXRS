{
 "cells": [
  {
   "cell_type": "markdown",
   "metadata": {},
   "source": [
    "This is a quick tutorial for running PowerFlowCVXRS.jl.\n",
    "There are several packages that are used for the code, and the main ones are PowerModels, which is used to read test case data and solve OPF and power flow equations, and JuMP, which is used to solve resulting convex optimization problems using Mosek or Gurobi."
   ]
  },
  {
   "cell_type": "code",
   "execution_count": 1,
   "metadata": {
    "scrolled": true
   },
   "outputs": [
    {
     "ename": "ArgumentError",
     "evalue": "ArgumentError: Package MosekTools not found in current path.\n- Run `import Pkg; Pkg.add(\"MosekTools\")` to install the MosekTools package.",
     "output_type": "error",
     "traceback": [
      "ArgumentError: Package MosekTools not found in current path.\n",
      "- Run `import Pkg; Pkg.add(\"MosekTools\")` to install the MosekTools package.\n",
      "\n",
      "Stacktrace:\n",
      "  [1] macro expansion\n",
      "    @ .\\loading.jl:2223 [inlined]\n",
      "  [2] macro expansion\n",
      "    @ .\\lock.jl:273 [inlined]\n",
      "  [3] __require(into::Module, mod::Symbol)\n",
      "    @ Base .\\loading.jl:2198\n",
      "  [4] #invoke_in_world#3\n",
      "    @ .\\essentials.jl:1089 [inlined]\n",
      "  [5] invoke_in_world\n",
      "    @ .\\essentials.jl:1086 [inlined]\n",
      "  [6] require(into::Module, mod::Symbol)\n",
      "    @ Base .\\loading.jl:2191\n",
      "  [7] eval\n",
      "    @ .\\boot.jl:430 [inlined]\n",
      "  [8] include_string(mapexpr::typeof(REPL.softscope), mod::Module, code::String, filename::String)\n",
      "    @ Base .\\loading.jl:2643\n",
      "  [9] #invokelatest#2\n",
      "    @ .\\essentials.jl:1055 [inlined]\n",
      " [10] invokelatest\n",
      "    @ .\\essentials.jl:1052 [inlined]\n",
      " [11] (::VSCodeServer.var\"#217#218\"{VSCodeServer.NotebookRunCellArguments, String})()\n",
      "    @ VSCodeServer c:\\Users\\Yanlin\\.vscode\\extensions\\julialang.language-julia-1.124.2\\scripts\\packages\\VSCodeServer\\src\\serve_notebook.jl:24\n",
      " [12] withpath(f::VSCodeServer.var\"#217#218\"{VSCodeServer.NotebookRunCellArguments, String}, path::String)\n",
      "    @ VSCodeServer c:\\Users\\Yanlin\\.vscode\\extensions\\julialang.language-julia-1.124.2\\scripts\\packages\\VSCodeServer\\src\\repl.jl:276\n",
      " [13] notebook_runcell_request(conn::VSCodeServer.JSONRPC.JSONRPCEndpoint{Base.PipeEndpoint, Base.PipeEndpoint}, params::VSCodeServer.NotebookRunCellArguments)\n",
      "    @ VSCodeServer c:\\Users\\Yanlin\\.vscode\\extensions\\julialang.language-julia-1.124.2\\scripts\\packages\\VSCodeServer\\src\\serve_notebook.jl:13\n",
      " [14] dispatch_msg(x::VSCodeServer.JSONRPC.JSONRPCEndpoint{Base.PipeEndpoint, Base.PipeEndpoint}, dispatcher::VSCodeServer.JSONRPC.MsgDispatcher, msg::Dict{String, Any})\n",
      "    @ VSCodeServer.JSONRPC c:\\Users\\Yanlin\\.vscode\\extensions\\julialang.language-julia-1.124.2\\scripts\\packages\\JSONRPC\\src\\typed.jl:67\n",
      " [15] serve_notebook(pipename::String, debugger_pipename::String, outputchannel_logger::Base.CoreLogging.SimpleLogger; error_handler::var\"#5#10\"{String})\n",
      "    @ VSCodeServer c:\\Users\\Yanlin\\.vscode\\extensions\\julialang.language-julia-1.124.2\\scripts\\packages\\VSCodeServer\\src\\serve_notebook.jl:147\n",
      " [16] top-level scope\n",
      "    @ c:\\Users\\Yanlin\\.vscode\\extensions\\julialang.language-julia-1.124.2\\scripts\\notebook\\notebook.jl:35"
     ]
    }
   ],
   "source": [
    "using JuMP, MosekTools, Gurobi\n",
    "using SparseArrays, LinearAlgebra, Plots\n",
    "using PowerModels, Ipopt\n",
    "include(\"../src/main.jl\")\n",
    "\n",
    "# Import test case data\n",
    "network_data = PowerModels.parse_file(\"../cases/case9.m\");"
   ]
  },
  {
   "cell_type": "code",
   "execution_count": 8,
   "metadata": {},
   "outputs": [],
   "source": [
    "using CSV\n",
    "using DataFrames\n",
    "using JSON\n"
   ]
  },
  {
   "cell_type": "code",
   "execution_count": 15,
   "metadata": {},
   "outputs": [
    {
     "name": "stdout",
     "output_type": "stream",
     "text": [
      "Dict{String, Any}(\"8\" => Dict{String, Any}(\"zone\" => 1, \"bus_i\" => 8, \"bus_type\" => 1, \"vmax\" => 1.1, \"source_id\" => Any[\"bus\", 8], \"area\" => 1, \"vmin\" => 0.9, \"index\" => 8, \"va\" => 0.0, \"vm\" => 1.0, \"base_kv\" => 345.0), \"4\" => Dict{String, Any}(\"zone\" => 1, \"bus_i\" => 4, \"bus_type\" => 1, \"vmax\" => 1.1, \"source_id\" => Any[\"bus\", 4], \"area\" => 1, \"vmin\" => 0.9, \"index\" => 4, \"va\" => 0.0, \"vm\" => 1.0, \"base_kv\" => 345.0), \"1\" => Dict{String, Any}(\"zone\" => 1, \"bus_i\" => 1, \"bus_type\" => 3, \"vmax\" => 1.1, \"source_id\" => Any[\"bus\", 1], \"area\" => 1, \"vmin\" => 0.9, \"index\" => 1, \"va\" => 0.0, \"vm\" => 1.0, \"base_kv\" => 345.0), \"5\" => Dict{String, Any}(\"zone\" => 1, \"bus_i\" => 5, \"bus_type\" => 1, \"vmax\" => 1.1, \"source_id\" => Any[\"bus\", 5], \"area\" => 1, \"vmin\" => 0.9, \"index\" => 5, \"va\" => 0.0, \"vm\" => 1.0, \"base_kv\" => 345.0), \"2\" => Dict{String, Any}(\"zone\" => 1, \"bus_i\" => 2, \"bus_type\" => 2, \"vmax\" => 1.1, \"source_id\" => Any[\"bus\", 2], \"area\" => 1, \"vmin\" => 0.9, \"index\" => 2, \"va\" => 0.0, \"vm\" => 1.0, \"base_kv\" => 345.0), \"6\" => Dict{String, Any}(\"zone\" => 1, \"bus_i\" => 6, \"bus_type\" => 1, \"vmax\" => 1.1, \"source_id\" => Any[\"bus\", 6], \"area\" => 1, \"vmin\" => 0.9, \"index\" => 6, \"va\" => 0.0, \"vm\" => 1.0, \"base_kv\" => 345.0), \"7\" => Dict{String, Any}(\"zone\" => 1, \"bus_i\" => 7, \"bus_type\" => 1, \"vmax\" => 1.1, \"source_id\" => Any[\"bus\", 7], \"area\" => 1, \"vmin\" => 0.9, \"index\" => 7, \"va\" => 0.0, \"vm\" => 1.0, \"base_kv\" => 345.0), \"9\" => Dict{String, Any}(\"zone\" => 1, \"bus_i\" => 9, \"bus_type\" => 1, \"vmax\" => 1.1, \"source_id\" => Any[\"bus\", 9], \"area\" => 1, \"vmin\" => 0.9, \"index\" => 9, \"va\" => 0.0, \"vm\" => 1.0, \"base_kv\" => 345.0), \"3\" => Dict{String, Any}(\"zone\" => 1, \"bus_i\" => 3, \"bus_type\" => 2, \"vmax\" => 1.1, \"source_id\" => Any[\"bus\", 3], \"area\" => 1, \"vmin\" => 0.9, \"index\" => 3, \"va\" => 0.0, \"vm\" => 1.0, \"base_kv\" => 345.0))\n"
     ]
    }
   ],
   "source": [
    "pprintln(network_data[\"bus\"])"
   ]
  },
  {
   "cell_type": "markdown",
   "metadata": {},
   "source": [
    "The network data format uses parsing from PowerModels.jl.\n",
    "Please refer to https://lanl-ansi.github.io/PowerModels.jl/stable/ for documentation.\n",
    "\n",
    "There are two additional steps for running PowerFlowCVXRS. First, the initial dispatch point need to be solvable. In reality, using the data from measurements should satisfy this requirement, but for simulation here, we will run OPF with stricter constraints by calling \"run opf_initialization.\"\n",
    "Next, the feature for participation factor is added, and it needs to be set.\n",
    "\n",
    "scrs runs sequential convex restriction to minimize the generation cost."
   ]
  },
  {
   "cell_type": "code",
   "execution_count": null,
   "metadata": {
    "scrolled": true
   },
   "outputs": [],
   "source": [
    "## Initialize OPF\n",
    "network_data=opf_initialization(network_data, 0.05)\n",
    "\n",
    "## Set participation factor\n",
    "[network_data[\"gen\"][i][\"ptc_factor\"] = Int(network_data[\"bus\"][string(gen[\"gen_bus\"])][\"bus_type\"]==3) for (i,gen) in network_data[\"gen\"]]\n",
    "\n",
    "network_data=runpf(network_data)\n",
    "println(\"Initial OPF objective solution: \",round(network_data[\"cost\"],digits=2))\n",
    "\n",
    "max_iter_SCRS = 10\n",
    "network_data, result_cvxr = scrs(network_data, max_iter_SCRS); # run sequential convex restriction\n"
   ]
  },
  {
   "cell_type": "markdown",
   "metadata": {},
   "source": [
    "Variables \"result_cvxr[\"pg\"]\" and \"result_cvxr[\"vg\"]\" contains a sequence of dispatch points, and a linear transition between consecutive points are guaranteed to provide a feasible path.\n",
    "\n",
    "Same procedure can be used to ensure robustness of the solution. This requires a set up of \"network_data[\"uncertainty\"],\" which specifies the uncertainty set."
   ]
  },
  {
   "cell_type": "code",
   "execution_count": null,
   "metadata": {
    "scrolled": true
   },
   "outputs": [],
   "source": [
    "## Initialize OPF\n",
    "network_data = opf_initialization(network_data, 0.0)\n",
    "\n",
    "gamma_req=0.2\n",
    "(Σ0,γ0)=network_data[\"uncertainty\"]\n",
    "network_data[\"uncertainty\"]=(Σ0,gamma_req)\n",
    "\n",
    "network_data, result_cvxr = scrs(network_data, max_iter_SCRS);"
   ]
  },
  {
   "cell_type": "markdown",
   "metadata": {},
   "source": [
    "The solution in network_data is guaranteed to be robust against the uncertainty set described by the uncertainty set (Σ0,γ0).\n",
    "\n",
    "Convex restriction can be visualized by creating a grid along two of the axis and solving for the slack variable. The following code provides a quick visualization.\n",
    "\n",
    "For higher-quality visualization, check out https://github.com/dclee131/Visualizing-OPF."
   ]
  },
  {
   "cell_type": "code",
   "execution_count": null,
   "metadata": {},
   "outputs": [],
   "source": [
    "resolution = 20\n",
    "plot_bus = [\"1\",\"2\"] # Pick plot buses\n",
    "plot_rng = [0 2 0 2] # Pick range for the plot [x1_min, x1_max, x2_min, x2_max]\n",
    "\n",
    "U1_plot,U2_plot,exact_plot,cvxrs_plot,u_plot0 = plot2D(network_data,plot_bus,plot_rng,\"pd\",resolution) # Pass \"pd\" option to plot perturbation in loads\n",
    "\n",
    "pyplot()\n",
    "default(show = true)\n",
    "contour(U1_plot,U2_plot,exact_plot,levels=0,color=:blues) # Plot feasible region\n",
    "contour!(U1_plot,U2_plot,cvxrs_plot,levels=0,color=:greens) # Plot convex restriction\n",
    "scatter!([u_plot0[1]],[u_plot0[2]],markersize=6, c=:red) # Plot nominal (base) point"
   ]
  }
 ],
 "metadata": {
  "@webio": {
   "lastCommId": null,
   "lastKernelId": null
  },
  "kernelspec": {
   "display_name": "Julia 1.11.1",
   "language": "julia",
   "name": "julia-1.11"
  },
  "language_info": {
   "file_extension": ".jl",
   "mimetype": "application/julia",
   "name": "julia",
   "version": "1.11.1"
  }
 },
 "nbformat": 4,
 "nbformat_minor": 2
}
