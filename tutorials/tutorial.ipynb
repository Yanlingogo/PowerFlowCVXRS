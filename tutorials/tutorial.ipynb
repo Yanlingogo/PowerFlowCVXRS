{
 "cells": [
  {
   "cell_type": "markdown",
   "metadata": {},
   "source": [
    "This is a quick tutorial for running PowerFlowCVXRS.jl.\n",
    "There are several packages that are used for the code, and the main ones are PowerModels, which is used to read test case data and solve OPF and power flow equations, and JuMP, which is used to solve resulting convex optimization problems using Mosek or Gurobi."
   ]
  },
  {
   "cell_type": "code",
   "execution_count": 1,
   "metadata": {
    "scrolled": true
   },
   "outputs": [
    {
     "name": "stdout",
     "output_type": "stream",
     "text": [
      "Academic license - for non-commercial use only\n",
      "\u001b[35m[warn | PowerModels]: this code only supports angmin values in -90 deg. to 90 deg., tightening the value on branch 8 from -360.0 to -60.0 deg.\u001b[39m\n",
      "\u001b[35m[warn | PowerModels]: this code only supports angmax values in -90 deg. to 90 deg., tightening the value on branch 8 from 360.0 to 60.0 deg.\u001b[39m\n",
      "\u001b[35m[warn | PowerModels]: this code only supports angmin values in -90 deg. to 90 deg., tightening the value on branch 4 from -360.0 to -60.0 deg.\u001b[39m\n",
      "\u001b[35m[warn | PowerModels]: this code only supports angmax values in -90 deg. to 90 deg., tightening the value on branch 4 from 360.0 to 60.0 deg.\u001b[39m\n",
      "\u001b[35m[warn | PowerModels]: this code only supports angmin values in -90 deg. to 90 deg., tightening the value on branch 1 from -360.0 to -60.0 deg.\u001b[39m\n",
      "\u001b[35m[warn | PowerModels]: this code only supports angmax values in -90 deg. to 90 deg., tightening the value on branch 1 from 360.0 to 60.0 deg.\u001b[39m\n",
      "\u001b[35m[warn | PowerModels]: this code only supports angmin values in -90 deg. to 90 deg., tightening the value on branch 5 from -360.0 to -60.0 deg.\u001b[39m\n",
      "\u001b[35m[warn | PowerModels]: this code only supports angmax values in -90 deg. to 90 deg., tightening the value on branch 5 from 360.0 to 60.0 deg.\u001b[39m\n",
      "\u001b[35m[warn | PowerModels]: this code only supports angmin values in -90 deg. to 90 deg., tightening the value on branch 2 from -360.0 to -60.0 deg.\u001b[39m\n",
      "\u001b[35m[warn | PowerModels]: this code only supports angmax values in -90 deg. to 90 deg., tightening the value on branch 2 from 360.0 to 60.0 deg.\u001b[39m\n",
      "\u001b[35m[warn | PowerModels]: this code only supports angmin values in -90 deg. to 90 deg., tightening the value on branch 6 from -360.0 to -60.0 deg.\u001b[39m\n",
      "\u001b[35m[warn | PowerModels]: this code only supports angmax values in -90 deg. to 90 deg., tightening the value on branch 6 from 360.0 to 60.0 deg.\u001b[39m\n",
      "\u001b[35m[warn | PowerModels]: this code only supports angmin values in -90 deg. to 90 deg., tightening the value on branch 7 from -360.0 to -60.0 deg.\u001b[39m\n",
      "\u001b[35m[warn | PowerModels]: this code only supports angmax values in -90 deg. to 90 deg., tightening the value on branch 7 from 360.0 to 60.0 deg.\u001b[39m\n",
      "\u001b[35m[warn | PowerModels]: this code only supports angmin values in -90 deg. to 90 deg., tightening the value on branch 9 from -360.0 to -60.0 deg.\u001b[39m\n",
      "\u001b[35m[warn | PowerModels]: this code only supports angmax values in -90 deg. to 90 deg., tightening the value on branch 9 from 360.0 to 60.0 deg.\u001b[39m\n",
      "\u001b[35m[warn | PowerModels]: this code only supports angmin values in -90 deg. to 90 deg., tightening the value on branch 3 from -360.0 to -60.0 deg.\u001b[39m\n",
      "\u001b[35m[warn | PowerModels]: this code only supports angmax values in -90 deg. to 90 deg., tightening the value on branch 3 from 360.0 to 60.0 deg.\u001b[39m\n"
     ]
    }
   ],
   "source": [
    "using JuMP, MosekTools, Gurobi\n",
    "using SparseArrays, LinearAlgebra, Plots\n",
    "using PowerModels, Ipopt\n",
    "include(\"../src/main.jl\")\n",
    "\n",
    "# Import test case data\n",
    "network_data = PowerModels.parse_file(\"../cases/case9.m\");"
   ]
  },
  {
   "cell_type": "markdown",
   "metadata": {},
   "source": [
    "The network data format uses parsing from PowerModels.jl.\n",
    "Please refer to https://lanl-ansi.github.io/PowerModels.jl/stable/ for documentation.\n",
    "\n",
    "There are two additional steps for running PowerFlowCVXRS. First, the initial dispatch point need to be solvable. In reality, using the data from measurements should satisfy this requirement, but for simulation here, we will run OPF with stricter constraints by calling \"run opf_initialization.\"\n",
    "Next, the feature for participation factor is added, and it needs to be set.\n",
    "\n",
    "scrs runs sequential convex restriction to minimize the generation cost."
   ]
  },
  {
   "cell_type": "code",
   "execution_count": 2,
   "metadata": {
    "scrolled": true
   },
   "outputs": [
    {
     "name": "stdout",
     "output_type": "stream",
     "text": [
      "\n",
      "******************************************************************************\n",
      "This program contains Ipopt, a library for large-scale nonlinear optimization.\n",
      " Ipopt is released as open source code under the Eclipse Public License (EPL).\n",
      "         For more information visit http://projects.coin-or.org/Ipopt\n",
      "******************************************************************************\n",
      "\n",
      "Initial OPF objective solution: 5298.33\n"
     ]
    },
    {
     "name": "stderr",
     "output_type": "stream",
     "text": [
      "┌ Warning: MathOptInterface.VariablePrimalStart() is not supported by MathOptInterface.Bridges.LazyBridgeOptimizer{MosekModel}. This \n",
      "│   information will be discarded. = information will be discarded.\n",
      "└ @ MathOptInterface.Utilities /Users/dc/.julia/packages/MathOptInterface/A2UPd/src/Utilities/copy.jl:140\n"
     ]
    },
    {
     "name": "stdout",
     "output_type": "stream",
     "text": [
      "MOSEK warning 500: The license expires in 0 days.\n",
      "MOSEK warning 500: The license expires in 0 days.\n",
      "Iteration 1: 5298.12  5298.216   OPTIMAL    0.0003   0.0027\n"
     ]
    },
    {
     "name": "stderr",
     "output_type": "stream",
     "text": [
      "┌ Warning: MathOptInterface.VariablePrimalStart() is not supported by MathOptInterface.Bridges.LazyBridgeOptimizer{MosekModel}. This \n",
      "│   information will be discarded. = information will be discarded.\n",
      "└ @ MathOptInterface.Utilities /Users/dc/.julia/packages/MathOptInterface/A2UPd/src/Utilities/copy.jl:140\n"
     ]
    },
    {
     "name": "stdout",
     "output_type": "stream",
     "text": [
      "Iteration 2: 5297.94  5298.027   OPTIMAL    0.0001   0.0022\n"
     ]
    },
    {
     "name": "stderr",
     "output_type": "stream",
     "text": [
      "┌ Warning: MathOptInterface.VariablePrimalStart() is not supported by MathOptInterface.Bridges.LazyBridgeOptimizer{MosekModel}. This \n",
      "│   information will be discarded. = information will be discarded.\n",
      "└ @ MathOptInterface.Utilities /Users/dc/.julia/packages/MathOptInterface/A2UPd/src/Utilities/copy.jl:140\n"
     ]
    },
    {
     "name": "stdout",
     "output_type": "stream",
     "text": [
      "Iteration 3: 5297.79  5297.862   OPTIMAL    0.0001   0.0019\n"
     ]
    },
    {
     "name": "stderr",
     "output_type": "stream",
     "text": [
      "┌ Warning: MathOptInterface.VariablePrimalStart() is not supported by MathOptInterface.Bridges.LazyBridgeOptimizer{MosekModel}. This \n",
      "│   information will be discarded. = information will be discarded.\n",
      "└ @ MathOptInterface.Utilities /Users/dc/.julia/packages/MathOptInterface/A2UPd/src/Utilities/copy.jl:140\n"
     ]
    },
    {
     "name": "stdout",
     "output_type": "stream",
     "text": [
      "Iteration 4: 5297.64  5297.711   OPTIMAL    0.0001   0.0017\n"
     ]
    },
    {
     "name": "stderr",
     "output_type": "stream",
     "text": [
      "┌ Warning: MathOptInterface.VariablePrimalStart() is not supported by MathOptInterface.Bridges.LazyBridgeOptimizer{MosekModel}. This \n",
      "│   information will be discarded. = information will be discarded.\n",
      "└ @ MathOptInterface.Utilities /Users/dc/.julia/packages/MathOptInterface/A2UPd/src/Utilities/copy.jl:140\n"
     ]
    },
    {
     "name": "stdout",
     "output_type": "stream",
     "text": [
      "Iteration 5: 5297.5  5297.568   OPTIMAL    0.0001   0.0016\n"
     ]
    },
    {
     "name": "stderr",
     "output_type": "stream",
     "text": [
      "┌ Warning: MathOptInterface.VariablePrimalStart() is not supported by MathOptInterface.Bridges.LazyBridgeOptimizer{MosekModel}. This \n",
      "│   information will be discarded. = information will be discarded.\n",
      "└ @ MathOptInterface.Utilities /Users/dc/.julia/packages/MathOptInterface/A2UPd/src/Utilities/copy.jl:140\n"
     ]
    },
    {
     "name": "stdout",
     "output_type": "stream",
     "text": [
      "Iteration 6: 5297.36  5297.429   OPTIMAL    0.0001   0.0015\n"
     ]
    },
    {
     "name": "stderr",
     "output_type": "stream",
     "text": [
      "┌ Warning: MathOptInterface.VariablePrimalStart() is not supported by MathOptInterface.Bridges.LazyBridgeOptimizer{MosekModel}. This \n",
      "│   information will be discarded. = information will be discarded.\n",
      "└ @ MathOptInterface.Utilities /Users/dc/.julia/packages/MathOptInterface/A2UPd/src/Utilities/copy.jl:140\n"
     ]
    },
    {
     "name": "stdout",
     "output_type": "stream",
     "text": [
      "Iteration 7: 5297.23  5297.295   OPTIMAL    0.0001   0.0014\n"
     ]
    },
    {
     "name": "stderr",
     "output_type": "stream",
     "text": [
      "┌ Warning: MathOptInterface.VariablePrimalStart() is not supported by MathOptInterface.Bridges.LazyBridgeOptimizer{MosekModel}. This \n",
      "│   information will be discarded. = information will be discarded.\n",
      "└ @ MathOptInterface.Utilities /Users/dc/.julia/packages/MathOptInterface/A2UPd/src/Utilities/copy.jl:140\n"
     ]
    },
    {
     "name": "stdout",
     "output_type": "stream",
     "text": [
      "Iteration 8: 5297.1  5297.163   OPTIMAL    0.0001   0.0014\n"
     ]
    },
    {
     "name": "stderr",
     "output_type": "stream",
     "text": [
      "┌ Warning: MathOptInterface.VariablePrimalStart() is not supported by MathOptInterface.Bridges.LazyBridgeOptimizer{MosekModel}. This \n",
      "│   information will be discarded. = information will be discarded.\n",
      "└ @ MathOptInterface.Utilities /Users/dc/.julia/packages/MathOptInterface/A2UPd/src/Utilities/copy.jl:140\n"
     ]
    },
    {
     "name": "stdout",
     "output_type": "stream",
     "text": [
      "Iteration 9: 5296.97  5297.032   OPTIMAL    0.0001   0.0013\n"
     ]
    },
    {
     "name": "stderr",
     "output_type": "stream",
     "text": [
      "┌ Warning: MathOptInterface.VariablePrimalStart() is not supported by MathOptInterface.Bridges.LazyBridgeOptimizer{MosekModel}. This \n",
      "│   information will be discarded. = information will be discarded.\n",
      "└ @ MathOptInterface.Utilities /Users/dc/.julia/packages/MathOptInterface/A2UPd/src/Utilities/copy.jl:140\n"
     ]
    },
    {
     "name": "stdout",
     "output_type": "stream",
     "text": [
      "Iteration 10: 5296.9  5296.924   OPTIMAL    0.0001   0.0012\n"
     ]
    }
   ],
   "source": [
    "## Initialize OPF\n",
    "network_data=opf_initialization(network_data, 0.05)\n",
    "\n",
    "## Set participation factor\n",
    "[network_data[\"gen\"][i][\"ptc_factor\"] = Int(network_data[\"bus\"][string(gen[\"gen_bus\"])][\"bus_type\"]==3) for (i,gen) in network_data[\"gen\"]]\n",
    "\n",
    "network_data=runpf(network_data)\n",
    "println(\"Initial OPF objective solution: \",round(network_data[\"cost\"],digits=2))\n",
    "\n",
    "max_iter_SCRS = 10\n",
    "network_data, result_cvxr = scrs(network_data, max_iter_SCRS); # run sequential convex restriction\n"
   ]
  },
  {
   "cell_type": "markdown",
   "metadata": {},
   "source": [
    "Variables \"result_cvxr[\"pg\"]\" and \"result_cvxr[\"vg\"]\" contains a sequence of dispatch points, and a linear transition between consecutive points are guaranteed to provide a feasible path.\n",
    "\n",
    "Same procedure can be used to ensure robustness of the solution. This requires a set up of \"network_data[\"uncertainty\"],\" which specifies the uncertainty set."
   ]
  },
  {
   "cell_type": "code",
   "execution_count": 3,
   "metadata": {
    "scrolled": true
   },
   "outputs": [
    {
     "name": "stderr",
     "output_type": "stream",
     "text": [
      "┌ Warning: MathOptInterface.VariablePrimalStart() is not supported by MathOptInterface.Bridges.LazyBridgeOptimizer{MosekModel}. This \n",
      "│   information will be discarded. = information will be discarded.\n",
      "└ @ MathOptInterface.Utilities /Users/dc/.julia/packages/MathOptInterface/A2UPd/src/Utilities/copy.jl:140\n"
     ]
    },
    {
     "name": "stdout",
     "output_type": "stream",
     "text": [
      "Iteration 1: 5376.8  6301.654   OPTIMAL    0.2305   0.008\n"
     ]
    },
    {
     "name": "stderr",
     "output_type": "stream",
     "text": [
      "┌ Warning: MathOptInterface.VariablePrimalStart() is not supported by MathOptInterface.Bridges.LazyBridgeOptimizer{MosekModel}. This \n",
      "│   information will be discarded. = information will be discarded.\n",
      "└ @ MathOptInterface.Utilities /Users/dc/.julia/packages/MathOptInterface/A2UPd/src/Utilities/copy.jl:140\n"
     ]
    },
    {
     "name": "stdout",
     "output_type": "stream",
     "text": [
      "Iteration 2: 5383.97  6270.752   OPTIMAL    0.022   0.0005\n"
     ]
    },
    {
     "name": "stderr",
     "output_type": "stream",
     "text": [
      "┌ Warning: MathOptInterface.VariablePrimalStart() is not supported by MathOptInterface.Bridges.LazyBridgeOptimizer{MosekModel}. This \n",
      "│   information will be discarded. = information will be discarded.\n",
      "└ @ MathOptInterface.Utilities /Users/dc/.julia/packages/MathOptInterface/A2UPd/src/Utilities/copy.jl:140\n"
     ]
    },
    {
     "name": "stdout",
     "output_type": "stream",
     "text": [
      "Iteration 3: 5385.57  6269.994   OPTIMAL    0.0036   0.0002\n"
     ]
    },
    {
     "name": "stderr",
     "output_type": "stream",
     "text": [
      "┌ Warning: MathOptInterface.VariablePrimalStart() is not supported by MathOptInterface.Bridges.LazyBridgeOptimizer{MosekModel}. This \n",
      "│   information will be discarded. = information will be discarded.\n",
      "└ @ MathOptInterface.Utilities /Users/dc/.julia/packages/MathOptInterface/A2UPd/src/Utilities/copy.jl:140\n"
     ]
    },
    {
     "name": "stdout",
     "output_type": "stream",
     "text": [
      "Iteration 4: 5386.24  6269.83   OPTIMAL    0.0011   0.0001\n"
     ]
    },
    {
     "name": "stderr",
     "output_type": "stream",
     "text": [
      "┌ Warning: MathOptInterface.VariablePrimalStart() is not supported by MathOptInterface.Bridges.LazyBridgeOptimizer{MosekModel}. This \n",
      "│   information will be discarded. = information will be discarded.\n",
      "└ @ MathOptInterface.Utilities /Users/dc/.julia/packages/MathOptInterface/A2UPd/src/Utilities/copy.jl:140\n"
     ]
    },
    {
     "name": "stdout",
     "output_type": "stream",
     "text": [
      "Iteration 5: 5386.71  6269.763   OPTIMAL    0.0008   0.0001\n"
     ]
    },
    {
     "name": "stderr",
     "output_type": "stream",
     "text": [
      "┌ Warning: MathOptInterface.VariablePrimalStart() is not supported by MathOptInterface.Bridges.LazyBridgeOptimizer{MosekModel}. This \n",
      "│   information will be discarded. = information will be discarded.\n",
      "└ @ MathOptInterface.Utilities /Users/dc/.julia/packages/MathOptInterface/A2UPd/src/Utilities/copy.jl:140\n"
     ]
    },
    {
     "name": "stdout",
     "output_type": "stream",
     "text": [
      "Iteration 6: 5387.18  6269.719   OPTIMAL    0.0008   0.0001\n"
     ]
    },
    {
     "name": "stderr",
     "output_type": "stream",
     "text": [
      "┌ Warning: MathOptInterface.VariablePrimalStart() is not supported by MathOptInterface.Bridges.LazyBridgeOptimizer{MosekModel}. This \n",
      "│   information will be discarded. = information will be discarded.\n",
      "└ @ MathOptInterface.Utilities /Users/dc/.julia/packages/MathOptInterface/A2UPd/src/Utilities/copy.jl:140\n"
     ]
    },
    {
     "name": "stdout",
     "output_type": "stream",
     "text": [
      "Iteration 7: 5387.64  6269.677   OPTIMAL    0.0008   0.0001\n"
     ]
    },
    {
     "name": "stderr",
     "output_type": "stream",
     "text": [
      "┌ Warning: MathOptInterface.VariablePrimalStart() is not supported by MathOptInterface.Bridges.LazyBridgeOptimizer{MosekModel}. This \n",
      "│   information will be discarded. = information will be discarded.\n",
      "└ @ MathOptInterface.Utilities /Users/dc/.julia/packages/MathOptInterface/A2UPd/src/Utilities/copy.jl:140\n"
     ]
    },
    {
     "name": "stdout",
     "output_type": "stream",
     "text": [
      "Iteration 8: 5388.11  6269.635   OPTIMAL    0.0008   0.0001\n"
     ]
    },
    {
     "name": "stderr",
     "output_type": "stream",
     "text": [
      "┌ Warning: MathOptInterface.VariablePrimalStart() is not supported by MathOptInterface.Bridges.LazyBridgeOptimizer{MosekModel}. This \n",
      "│   information will be discarded. = information will be discarded.\n",
      "└ @ MathOptInterface.Utilities /Users/dc/.julia/packages/MathOptInterface/A2UPd/src/Utilities/copy.jl:140\n"
     ]
    },
    {
     "name": "stdout",
     "output_type": "stream",
     "text": [
      "Iteration 9: 5388.57  6269.595   OPTIMAL    0.0008   0.0001\n"
     ]
    },
    {
     "name": "stderr",
     "output_type": "stream",
     "text": [
      "┌ Warning: MathOptInterface.VariablePrimalStart() is not supported by MathOptInterface.Bridges.LazyBridgeOptimizer{MosekModel}. This \n",
      "│   information will be discarded. = information will be discarded.\n",
      "└ @ MathOptInterface.Utilities /Users/dc/.julia/packages/MathOptInterface/A2UPd/src/Utilities/copy.jl:140\n"
     ]
    },
    {
     "name": "stdout",
     "output_type": "stream",
     "text": [
      "Iteration 10: 5389.04  6269.557   OPTIMAL    0.0008   0.0001\n"
     ]
    }
   ],
   "source": [
    "## Initialize OPF\n",
    "network_data = opf_initialization(network_data, 0.0)\n",
    "\n",
    "gamma_req=0.2\n",
    "(Σ0,γ0)=network_data[\"uncertainty\"]\n",
    "network_data[\"uncertainty\"]=(Σ0,gamma_req)\n",
    "\n",
    "network_data, result_cvxr = scrs(network_data, max_iter_SCRS);"
   ]
  },
  {
   "cell_type": "markdown",
   "metadata": {},
   "source": [
    "The solution in network_data is guaranteed to be robust against the uncertainty set described by the uncertainty set (Σ0,γ0).\n",
    "\n",
    "Convex restriction can be visualized by creating a grid along two of the axis and solving for the slack variable. The following code provides a quick visualization.\n",
    "\n",
    "For higher-quality visualization, check out https://github.com/dclee131/Visualizing-OPF."
   ]
  },
  {
   "cell_type": "code",
   "execution_count": 4,
   "metadata": {},
   "outputs": [
    {
     "name": "stdout",
     "output_type": "stream",
     "text": [
      "progress: 1/20\n"
     ]
    },
    {
     "name": "stderr",
     "output_type": "stream",
     "text": [
      "┌ Warning: MathOptInterface.VariablePrimalStart() is not supported by MathOptInterface.Bridges.LazyBridgeOptimizer{MosekModel}. This \n",
      "│   information will be discarded. = information will be discarded.\n",
      "└ @ MathOptInterface.Utilities /Users/dc/.julia/packages/MathOptInterface/A2UPd/src/Utilities/copy.jl:140\n",
      "┌ Warning: MathOptInterface.VariablePrimalStart() is not supported by MathOptInterface.Bridges.LazyBridgeOptimizer{MosekModel}. This \n",
      "│   information will be discarded. = information will be discarded.\n",
      "└ @ MathOptInterface.Utilities /Users/dc/.julia/packages/MathOptInterface/A2UPd/src/Utilities/copy.jl:140\n",
      "┌ Warning: MathOptInterface.VariablePrimalStart() is not supported by MathOptInterface.Bridges.LazyBridgeOptimizer{MosekModel}. This \n",
      "│   information will be discarded. = information will be discarded.\n",
      "└ @ MathOptInterface.Utilities /Users/dc/.julia/packages/MathOptInterface/A2UPd/src/Utilities/copy.jl:140\n",
      "┌ Warning: MathOptInterface.VariablePrimalStart() is not supported by MathOptInterface.Bridges.LazyBridgeOptimizer{MosekModel}. This \n",
      "│   information will be discarded. = information will be discarded.\n",
      "└ @ MathOptInterface.Utilities /Users/dc/.julia/packages/MathOptInterface/A2UPd/src/Utilities/copy.jl:140\n",
      "┌ Warning: MathOptInterface.VariablePrimalStart() is not supported by MathOptInterface.Bridges.LazyBridgeOptimizer{MosekModel}. This \n",
      "│   information will be discarded. = information will be discarded.\n",
      "└ @ MathOptInterface.Utilities /Users/dc/.julia/packages/MathOptInterface/A2UPd/src/Utilities/copy.jl:140\n",
      "┌ Warning: MathOptInterface.VariablePrimalStart() is not supported by MathOptInterface.Bridges.LazyBridgeOptimizer{MosekModel}. This \n",
      "│   information will be discarded. = information will be discarded.\n",
      "└ @ MathOptInterface.Utilities /Users/dc/.julia/packages/MathOptInterface/A2UPd/src/Utilities/copy.jl:140\n",
      "┌ Warning: MathOptInterface.VariablePrimalStart() is not supported by MathOptInterface.Bridges.LazyBridgeOptimizer{MosekModel}. This \n",
      "│   information will be discarded. = information will be discarded.\n",
      "└ @ MathOptInterface.Utilities /Users/dc/.julia/packages/MathOptInterface/A2UPd/src/Utilities/copy.jl:140\n",
      "┌ Warning: MathOptInterface.VariablePrimalStart() is not supported by MathOptInterface.Bridges.LazyBridgeOptimizer{MosekModel}. This \n",
      "│   information will be discarded. = information will be discarded.\n",
      "└ @ MathOptInterface.Utilities /Users/dc/.julia/packages/MathOptInterface/A2UPd/src/Utilities/copy.jl:140\n",
      "┌ Warning: MathOptInterface.VariablePrimalStart() is not supported by MathOptInterface.Bridges.LazyBridgeOptimizer{MosekModel}. This \n",
      "│   information will be discarded. = information will be discarded.\n",
      "└ @ MathOptInterface.Utilities /Users/dc/.julia/packages/MathOptInterface/A2UPd/src/Utilities/copy.jl:140\n",
      "┌ Warning: MathOptInterface.VariablePrimalStart() is not supported by MathOptInterface.Bridges.LazyBridgeOptimizer{MosekModel}. This \n",
      "│   information will be discarded. = information will be discarded.\n",
      "└ @ MathOptInterface.Utilities /Users/dc/.julia/packages/MathOptInterface/A2UPd/src/Utilities/copy.jl:140\n",
      "┌ Warning: MathOptInterface.VariablePrimalStart() is not supported by MathOptInterface.Bridges.LazyBridgeOptimizer{MosekModel}. This \n",
      "│   information will be discarded. = information will be discarded.\n",
      "└ @ MathOptInterface.Utilities /Users/dc/.julia/packages/MathOptInterface/A2UPd/src/Utilities/copy.jl:140\n",
      "┌ Warning: MathOptInterface.VariablePrimalStart() is not supported by MathOptInterface.Bridges.LazyBridgeOptimizer{MosekModel}. This \n",
      "│   information will be discarded. = information will be discarded.\n",
      "└ @ MathOptInterface.Utilities /Users/dc/.julia/packages/MathOptInterface/A2UPd/src/Utilities/copy.jl:140\n",
      "┌ Warning: MathOptInterface.VariablePrimalStart() is not supported by MathOptInterface.Bridges.LazyBridgeOptimizer{MosekModel}. This \n",
      "│   information will be discarded. = information will be discarded.\n",
      "└ @ MathOptInterface.Utilities /Users/dc/.julia/packages/MathOptInterface/A2UPd/src/Utilities/copy.jl:140\n",
      "┌ Warning: MathOptInterface.VariablePrimalStart() is not supported by MathOptInterface.Bridges.LazyBridgeOptimizer{MosekModel}. This \n",
      "│   information will be discarded. = information will be discarded.\n",
      "└ @ MathOptInterface.Utilities /Users/dc/.julia/packages/MathOptInterface/A2UPd/src/Utilities/copy.jl:140\n",
      "┌ Warning: MathOptInterface.VariablePrimalStart() is not supported by MathOptInterface.Bridges.LazyBridgeOptimizer{MosekModel}. This \n",
      "│   information will be discarded. = information will be discarded.\n",
      "└ @ MathOptInterface.Utilities /Users/dc/.julia/packages/MathOptInterface/A2UPd/src/Utilities/copy.jl:140\n",
      "┌ Warning: MathOptInterface.VariablePrimalStart() is not supported by MathOptInterface.Bridges.LazyBridgeOptimizer{MosekModel}. This \n",
      "│   information will be discarded. = information will be discarded.\n",
      "└ @ MathOptInterface.Utilities /Users/dc/.julia/packages/MathOptInterface/A2UPd/src/Utilities/copy.jl:140\n",
      "┌ Warning: MathOptInterface.VariablePrimalStart() is not supported by MathOptInterface.Bridges.LazyBridgeOptimizer{MosekModel}. This \n",
      "│   information will be discarded. = information will be discarded.\n",
      "└ @ MathOptInterface.Utilities /Users/dc/.julia/packages/MathOptInterface/A2UPd/src/Utilities/copy.jl:140\n",
      "┌ Warning: MathOptInterface.VariablePrimalStart() is not supported by MathOptInterface.Bridges.LazyBridgeOptimizer{MosekModel}. This \n",
      "│   information will be discarded. = information will be discarded.\n",
      "└ @ MathOptInterface.Utilities /Users/dc/.julia/packages/MathOptInterface/A2UPd/src/Utilities/copy.jl:140\n",
      "┌ Warning: MathOptInterface.VariablePrimalStart() is not supported by MathOptInterface.Bridges.LazyBridgeOptimizer{MosekModel}. This \n",
      "│   information will be discarded. = information will be discarded.\n",
      "└ @ MathOptInterface.Utilities /Users/dc/.julia/packages/MathOptInterface/A2UPd/src/Utilities/copy.jl:140\n",
      "┌ Warning: MathOptInterface.VariablePrimalStart() is not supported by MathOptInterface.Bridges.LazyBridgeOptimizer{MosekModel}. This \n",
      "│   information will be discarded. = information will be discarded.\n",
      "└ @ MathOptInterface.Utilities /Users/dc/.julia/packages/MathOptInterface/A2UPd/src/Utilities/copy.jl:140\n"
     ]
    },
    {
     "name": "stdout",
     "output_type": "stream",
     "text": [
      "progress: 2/20\n"
     ]
    },
    {
     "name": "stderr",
     "output_type": "stream",
     "text": [
      "┌ Warning: MathOptInterface.VariablePrimalStart() is not supported by MathOptInterface.Bridges.LazyBridgeOptimizer{MosekModel}. This \n",
      "│   information will be discarded. = information will be discarded.\n",
      "└ @ MathOptInterface.Utilities /Users/dc/.julia/packages/MathOptInterface/A2UPd/src/Utilities/copy.jl:140\n",
      "┌ Warning: MathOptInterface.VariablePrimalStart() is not supported by MathOptInterface.Bridges.LazyBridgeOptimizer{MosekModel}. This \n",
      "│   information will be discarded. = information will be discarded.\n",
      "└ @ MathOptInterface.Utilities /Users/dc/.julia/packages/MathOptInterface/A2UPd/src/Utilities/copy.jl:140\n",
      "┌ Warning: MathOptInterface.VariablePrimalStart() is not supported by MathOptInterface.Bridges.LazyBridgeOptimizer{MosekModel}. This \n",
      "│   information will be discarded. = information will be discarded.\n",
      "└ @ MathOptInterface.Utilities /Users/dc/.julia/packages/MathOptInterface/A2UPd/src/Utilities/copy.jl:140\n",
      "┌ Warning: MathOptInterface.VariablePrimalStart() is not supported by MathOptInterface.Bridges.LazyBridgeOptimizer{MosekModel}. This \n",
      "│   information will be discarded. = information will be discarded.\n",
      "└ @ MathOptInterface.Utilities /Users/dc/.julia/packages/MathOptInterface/A2UPd/src/Utilities/copy.jl:140\n",
      "┌ Warning: MathOptInterface.VariablePrimalStart() is not supported by MathOptInterface.Bridges.LazyBridgeOptimizer{MosekModel}. This \n",
      "│   information will be discarded. = information will be discarded.\n",
      "└ @ MathOptInterface.Utilities /Users/dc/.julia/packages/MathOptInterface/A2UPd/src/Utilities/copy.jl:140\n",
      "┌ Warning: MathOptInterface.VariablePrimalStart() is not supported by MathOptInterface.Bridges.LazyBridgeOptimizer{MosekModel}. This \n",
      "│   information will be discarded. = information will be discarded.\n",
      "└ @ MathOptInterface.Utilities /Users/dc/.julia/packages/MathOptInterface/A2UPd/src/Utilities/copy.jl:140\n",
      "┌ Warning: MathOptInterface.VariablePrimalStart() is not supported by MathOptInterface.Bridges.LazyBridgeOptimizer{MosekModel}. This \n",
      "│   information will be discarded. = information will be discarded.\n",
      "└ @ MathOptInterface.Utilities /Users/dc/.julia/packages/MathOptInterface/A2UPd/src/Utilities/copy.jl:140\n",
      "┌ Warning: MathOptInterface.VariablePrimalStart() is not supported by MathOptInterface.Bridges.LazyBridgeOptimizer{MosekModel}. This \n",
      "│   information will be discarded. = information will be discarded.\n",
      "└ @ MathOptInterface.Utilities /Users/dc/.julia/packages/MathOptInterface/A2UPd/src/Utilities/copy.jl:140\n",
      "┌ Warning: MathOptInterface.VariablePrimalStart() is not supported by MathOptInterface.Bridges.LazyBridgeOptimizer{MosekModel}. This \n",
      "│   information will be discarded. = information will be discarded.\n",
      "└ @ MathOptInterface.Utilities /Users/dc/.julia/packages/MathOptInterface/A2UPd/src/Utilities/copy.jl:140\n",
      "┌ Warning: MathOptInterface.VariablePrimalStart() is not supported by MathOptInterface.Bridges.LazyBridgeOptimizer{MosekModel}. This \n",
      "│   information will be discarded. = information will be discarded.\n",
      "└ @ MathOptInterface.Utilities /Users/dc/.julia/packages/MathOptInterface/A2UPd/src/Utilities/copy.jl:140\n",
      "┌ Warning: MathOptInterface.VariablePrimalStart() is not supported by MathOptInterface.Bridges.LazyBridgeOptimizer{MosekModel}. This \n",
      "│   information will be discarded. = information will be discarded.\n",
      "└ @ MathOptInterface.Utilities /Users/dc/.julia/packages/MathOptInterface/A2UPd/src/Utilities/copy.jl:140\n",
      "┌ Warning: MathOptInterface.VariablePrimalStart() is not supported by MathOptInterface.Bridges.LazyBridgeOptimizer{MosekModel}. This \n",
      "│   information will be discarded. = information will be discarded.\n",
      "└ @ MathOptInterface.Utilities /Users/dc/.julia/packages/MathOptInterface/A2UPd/src/Utilities/copy.jl:140\n",
      "┌ Warning: MathOptInterface.VariablePrimalStart() is not supported by MathOptInterface.Bridges.LazyBridgeOptimizer{MosekModel}. This \n",
      "│   information will be discarded. = information will be discarded.\n",
      "└ @ MathOptInterface.Utilities /Users/dc/.julia/packages/MathOptInterface/A2UPd/src/Utilities/copy.jl:140\n",
      "┌ Warning: MathOptInterface.VariablePrimalStart() is not supported by MathOptInterface.Bridges.LazyBridgeOptimizer{MosekModel}. This \n",
      "│   information will be discarded. = information will be discarded.\n",
      "└ @ MathOptInterface.Utilities /Users/dc/.julia/packages/MathOptInterface/A2UPd/src/Utilities/copy.jl:140\n",
      "┌ Warning: MathOptInterface.VariablePrimalStart() is not supported by MathOptInterface.Bridges.LazyBridgeOptimizer{MosekModel}. This \n",
      "│   information will be discarded. = information will be discarded.\n",
      "└ @ MathOptInterface.Utilities /Users/dc/.julia/packages/MathOptInterface/A2UPd/src/Utilities/copy.jl:140\n",
      "┌ Warning: MathOptInterface.VariablePrimalStart() is not supported by MathOptInterface.Bridges.LazyBridgeOptimizer{MosekModel}. This \n",
      "│   information will be discarded. = information will be discarded.\n",
      "└ @ MathOptInterface.Utilities /Users/dc/.julia/packages/MathOptInterface/A2UPd/src/Utilities/copy.jl:140\n",
      "┌ Warning: MathOptInterface.VariablePrimalStart() is not supported by MathOptInterface.Bridges.LazyBridgeOptimizer{MosekModel}. This \n",
      "│   information will be discarded. = information will be discarded.\n",
      "└ @ MathOptInterface.Utilities /Users/dc/.julia/packages/MathOptInterface/A2UPd/src/Utilities/copy.jl:140\n",
      "┌ Warning: MathOptInterface.VariablePrimalStart() is not supported by MathOptInterface.Bridges.LazyBridgeOptimizer{MosekModel}. This \n",
      "│   information will be discarded. = information will be discarded.\n",
      "└ @ MathOptInterface.Utilities /Users/dc/.julia/packages/MathOptInterface/A2UPd/src/Utilities/copy.jl:140\n",
      "┌ Warning: MathOptInterface.VariablePrimalStart() is not supported by MathOptInterface.Bridges.LazyBridgeOptimizer{MosekModel}. This \n",
      "│   information will be discarded. = information will be discarded.\n",
      "└ @ MathOptInterface.Utilities /Users/dc/.julia/packages/MathOptInterface/A2UPd/src/Utilities/copy.jl:140\n",
      "┌ Warning: MathOptInterface.VariablePrimalStart() is not supported by MathOptInterface.Bridges.LazyBridgeOptimizer{MosekModel}. This \n",
      "│   information will be discarded. = information will be discarded.\n",
      "└ @ MathOptInterface.Utilities /Users/dc/.julia/packages/MathOptInterface/A2UPd/src/Utilities/copy.jl:140\n"
     ]
    },
    {
     "name": "stdout",
     "output_type": "stream",
     "text": [
      "progress: 3/20\n"
     ]
    },
    {
     "name": "stderr",
     "output_type": "stream",
     "text": [
      "┌ Warning: MathOptInterface.VariablePrimalStart() is not supported by MathOptInterface.Bridges.LazyBridgeOptimizer{MosekModel}. This \n",
      "│   information will be discarded. = information will be discarded.\n",
      "└ @ MathOptInterface.Utilities /Users/dc/.julia/packages/MathOptInterface/A2UPd/src/Utilities/copy.jl:140\n",
      "┌ Warning: MathOptInterface.VariablePrimalStart() is not supported by MathOptInterface.Bridges.LazyBridgeOptimizer{MosekModel}. This \n",
      "│   information will be discarded. = information will be discarded.\n",
      "└ @ MathOptInterface.Utilities /Users/dc/.julia/packages/MathOptInterface/A2UPd/src/Utilities/copy.jl:140\n",
      "┌ Warning: MathOptInterface.VariablePrimalStart() is not supported by MathOptInterface.Bridges.LazyBridgeOptimizer{MosekModel}. This \n",
      "│   information will be discarded. = information will be discarded.\n",
      "└ @ MathOptInterface.Utilities /Users/dc/.julia/packages/MathOptInterface/A2UPd/src/Utilities/copy.jl:140\n",
      "┌ Warning: MathOptInterface.VariablePrimalStart() is not supported by MathOptInterface.Bridges.LazyBridgeOptimizer{MosekModel}. This \n",
      "│   information will be discarded. = information will be discarded.\n",
      "└ @ MathOptInterface.Utilities /Users/dc/.julia/packages/MathOptInterface/A2UPd/src/Utilities/copy.jl:140\n",
      "┌ Warning: MathOptInterface.VariablePrimalStart() is not supported by MathOptInterface.Bridges.LazyBridgeOptimizer{MosekModel}. This \n",
      "│   information will be discarded. = information will be discarded.\n",
      "└ @ MathOptInterface.Utilities /Users/dc/.julia/packages/MathOptInterface/A2UPd/src/Utilities/copy.jl:140\n",
      "┌ Warning: MathOptInterface.VariablePrimalStart() is not supported by MathOptInterface.Bridges.LazyBridgeOptimizer{MosekModel}. This \n",
      "│   information will be discarded. = information will be discarded.\n",
      "└ @ MathOptInterface.Utilities /Users/dc/.julia/packages/MathOptInterface/A2UPd/src/Utilities/copy.jl:140\n",
      "┌ Warning: MathOptInterface.VariablePrimalStart() is not supported by MathOptInterface.Bridges.LazyBridgeOptimizer{MosekModel}. This \n",
      "│   information will be discarded. = information will be discarded.\n",
      "└ @ MathOptInterface.Utilities /Users/dc/.julia/packages/MathOptInterface/A2UPd/src/Utilities/copy.jl:140\n",
      "┌ Warning: MathOptInterface.VariablePrimalStart() is not supported by MathOptInterface.Bridges.LazyBridgeOptimizer{MosekModel}. This \n",
      "│   information will be discarded. = information will be discarded.\n",
      "└ @ MathOptInterface.Utilities /Users/dc/.julia/packages/MathOptInterface/A2UPd/src/Utilities/copy.jl:140\n",
      "┌ Warning: MathOptInterface.VariablePrimalStart() is not supported by MathOptInterface.Bridges.LazyBridgeOptimizer{MosekModel}. This \n",
      "│   information will be discarded. = information will be discarded.\n",
      "└ @ MathOptInterface.Utilities /Users/dc/.julia/packages/MathOptInterface/A2UPd/src/Utilities/copy.jl:140\n",
      "┌ Warning: MathOptInterface.VariablePrimalStart() is not supported by MathOptInterface.Bridges.LazyBridgeOptimizer{MosekModel}. This \n",
      "│   information will be discarded. = information will be discarded.\n",
      "└ @ MathOptInterface.Utilities /Users/dc/.julia/packages/MathOptInterface/A2UPd/src/Utilities/copy.jl:140\n",
      "┌ Warning: MathOptInterface.VariablePrimalStart() is not supported by MathOptInterface.Bridges.LazyBridgeOptimizer{MosekModel}. This \n",
      "│   information will be discarded. = information will be discarded.\n",
      "└ @ MathOptInterface.Utilities /Users/dc/.julia/packages/MathOptInterface/A2UPd/src/Utilities/copy.jl:140\n",
      "┌ Warning: MathOptInterface.VariablePrimalStart() is not supported by MathOptInterface.Bridges.LazyBridgeOptimizer{MosekModel}. This \n",
      "│   information will be discarded. = information will be discarded.\n",
      "└ @ MathOptInterface.Utilities /Users/dc/.julia/packages/MathOptInterface/A2UPd/src/Utilities/copy.jl:140\n",
      "┌ Warning: MathOptInterface.VariablePrimalStart() is not supported by MathOptInterface.Bridges.LazyBridgeOptimizer{MosekModel}. This \n",
      "│   information will be discarded. = information will be discarded.\n",
      "└ @ MathOptInterface.Utilities /Users/dc/.julia/packages/MathOptInterface/A2UPd/src/Utilities/copy.jl:140\n",
      "┌ Warning: MathOptInterface.VariablePrimalStart() is not supported by MathOptInterface.Bridges.LazyBridgeOptimizer{MosekModel}. This \n",
      "│   information will be discarded. = information will be discarded.\n",
      "└ @ MathOptInterface.Utilities /Users/dc/.julia/packages/MathOptInterface/A2UPd/src/Utilities/copy.jl:140\n",
      "┌ Warning: MathOptInterface.VariablePrimalStart() is not supported by MathOptInterface.Bridges.LazyBridgeOptimizer{MosekModel}. This \n",
      "│   information will be discarded. = information will be discarded.\n",
      "└ @ MathOptInterface.Utilities /Users/dc/.julia/packages/MathOptInterface/A2UPd/src/Utilities/copy.jl:140\n",
      "┌ Warning: MathOptInterface.VariablePrimalStart() is not supported by MathOptInterface.Bridges.LazyBridgeOptimizer{MosekModel}. This \n",
      "│   information will be discarded. = information will be discarded.\n",
      "└ @ MathOptInterface.Utilities /Users/dc/.julia/packages/MathOptInterface/A2UPd/src/Utilities/copy.jl:140\n",
      "┌ Warning: MathOptInterface.VariablePrimalStart() is not supported by MathOptInterface.Bridges.LazyBridgeOptimizer{MosekModel}. This \n",
      "│   information will be discarded. = information will be discarded.\n",
      "└ @ MathOptInterface.Utilities /Users/dc/.julia/packages/MathOptInterface/A2UPd/src/Utilities/copy.jl:140\n",
      "┌ Warning: MathOptInterface.VariablePrimalStart() is not supported by MathOptInterface.Bridges.LazyBridgeOptimizer{MosekModel}. This \n",
      "│   information will be discarded. = information will be discarded.\n",
      "└ @ MathOptInterface.Utilities /Users/dc/.julia/packages/MathOptInterface/A2UPd/src/Utilities/copy.jl:140\n",
      "┌ Warning: MathOptInterface.VariablePrimalStart() is not supported by MathOptInterface.Bridges.LazyBridgeOptimizer{MosekModel}. This \n",
      "│   information will be discarded. = information will be discarded.\n",
      "└ @ MathOptInterface.Utilities /Users/dc/.julia/packages/MathOptInterface/A2UPd/src/Utilities/copy.jl:140\n",
      "┌ Warning: MathOptInterface.VariablePrimalStart() is not supported by MathOptInterface.Bridges.LazyBridgeOptimizer{MosekModel}. This \n",
      "│   information will be discarded. = information will be discarded.\n",
      "└ @ MathOptInterface.Utilities /Users/dc/.julia/packages/MathOptInterface/A2UPd/src/Utilities/copy.jl:140\n"
     ]
    },
    {
     "name": "stdout",
     "output_type": "stream",
     "text": [
      "progress: 4/20\n"
     ]
    },
    {
     "name": "stderr",
     "output_type": "stream",
     "text": [
      "┌ Warning: MathOptInterface.VariablePrimalStart() is not supported by MathOptInterface.Bridges.LazyBridgeOptimizer{MosekModel}. This \n",
      "│   information will be discarded. = information will be discarded.\n",
      "└ @ MathOptInterface.Utilities /Users/dc/.julia/packages/MathOptInterface/A2UPd/src/Utilities/copy.jl:140\n",
      "┌ Warning: MathOptInterface.VariablePrimalStart() is not supported by MathOptInterface.Bridges.LazyBridgeOptimizer{MosekModel}. This \n",
      "│   information will be discarded. = information will be discarded.\n",
      "└ @ MathOptInterface.Utilities /Users/dc/.julia/packages/MathOptInterface/A2UPd/src/Utilities/copy.jl:140\n",
      "┌ Warning: MathOptInterface.VariablePrimalStart() is not supported by MathOptInterface.Bridges.LazyBridgeOptimizer{MosekModel}. This \n",
      "│   information will be discarded. = information will be discarded.\n",
      "└ @ MathOptInterface.Utilities /Users/dc/.julia/packages/MathOptInterface/A2UPd/src/Utilities/copy.jl:140\n",
      "┌ Warning: MathOptInterface.VariablePrimalStart() is not supported by MathOptInterface.Bridges.LazyBridgeOptimizer{MosekModel}. This \n",
      "│   information will be discarded. = information will be discarded.\n",
      "└ @ MathOptInterface.Utilities /Users/dc/.julia/packages/MathOptInterface/A2UPd/src/Utilities/copy.jl:140\n",
      "┌ Warning: MathOptInterface.VariablePrimalStart() is not supported by MathOptInterface.Bridges.LazyBridgeOptimizer{MosekModel}. This \n",
      "│   information will be discarded. = information will be discarded.\n",
      "└ @ MathOptInterface.Utilities /Users/dc/.julia/packages/MathOptInterface/A2UPd/src/Utilities/copy.jl:140\n",
      "┌ Warning: MathOptInterface.VariablePrimalStart() is not supported by MathOptInterface.Bridges.LazyBridgeOptimizer{MosekModel}. This \n",
      "│   information will be discarded. = information will be discarded.\n",
      "└ @ MathOptInterface.Utilities /Users/dc/.julia/packages/MathOptInterface/A2UPd/src/Utilities/copy.jl:140\n",
      "┌ Warning: MathOptInterface.VariablePrimalStart() is not supported by MathOptInterface.Bridges.LazyBridgeOptimizer{MosekModel}. This \n",
      "│   information will be discarded. = information will be discarded.\n",
      "└ @ MathOptInterface.Utilities /Users/dc/.julia/packages/MathOptInterface/A2UPd/src/Utilities/copy.jl:140\n",
      "┌ Warning: MathOptInterface.VariablePrimalStart() is not supported by MathOptInterface.Bridges.LazyBridgeOptimizer{MosekModel}. This \n",
      "│   information will be discarded. = information will be discarded.\n",
      "└ @ MathOptInterface.Utilities /Users/dc/.julia/packages/MathOptInterface/A2UPd/src/Utilities/copy.jl:140\n",
      "┌ Warning: MathOptInterface.VariablePrimalStart() is not supported by MathOptInterface.Bridges.LazyBridgeOptimizer{MosekModel}. This \n",
      "│   information will be discarded. = information will be discarded.\n",
      "└ @ MathOptInterface.Utilities /Users/dc/.julia/packages/MathOptInterface/A2UPd/src/Utilities/copy.jl:140\n",
      "┌ Warning: MathOptInterface.VariablePrimalStart() is not supported by MathOptInterface.Bridges.LazyBridgeOptimizer{MosekModel}. This \n",
      "│   information will be discarded. = information will be discarded.\n",
      "└ @ MathOptInterface.Utilities /Users/dc/.julia/packages/MathOptInterface/A2UPd/src/Utilities/copy.jl:140\n",
      "┌ Warning: MathOptInterface.VariablePrimalStart() is not supported by MathOptInterface.Bridges.LazyBridgeOptimizer{MosekModel}. This \n",
      "│   information will be discarded. = information will be discarded.\n",
      "└ @ MathOptInterface.Utilities /Users/dc/.julia/packages/MathOptInterface/A2UPd/src/Utilities/copy.jl:140\n",
      "┌ Warning: MathOptInterface.VariablePrimalStart() is not supported by MathOptInterface.Bridges.LazyBridgeOptimizer{MosekModel}. This \n",
      "│   information will be discarded. = information will be discarded.\n",
      "└ @ MathOptInterface.Utilities /Users/dc/.julia/packages/MathOptInterface/A2UPd/src/Utilities/copy.jl:140\n",
      "┌ Warning: MathOptInterface.VariablePrimalStart() is not supported by MathOptInterface.Bridges.LazyBridgeOptimizer{MosekModel}. This \n",
      "│   information will be discarded. = information will be discarded.\n",
      "└ @ MathOptInterface.Utilities /Users/dc/.julia/packages/MathOptInterface/A2UPd/src/Utilities/copy.jl:140\n",
      "┌ Warning: MathOptInterface.VariablePrimalStart() is not supported by MathOptInterface.Bridges.LazyBridgeOptimizer{MosekModel}. This \n",
      "│   information will be discarded. = information will be discarded.\n",
      "└ @ MathOptInterface.Utilities /Users/dc/.julia/packages/MathOptInterface/A2UPd/src/Utilities/copy.jl:140\n",
      "┌ Warning: MathOptInterface.VariablePrimalStart() is not supported by MathOptInterface.Bridges.LazyBridgeOptimizer{MosekModel}. This \n",
      "│   information will be discarded. = information will be discarded.\n",
      "└ @ MathOptInterface.Utilities /Users/dc/.julia/packages/MathOptInterface/A2UPd/src/Utilities/copy.jl:140\n",
      "┌ Warning: MathOptInterface.VariablePrimalStart() is not supported by MathOptInterface.Bridges.LazyBridgeOptimizer{MosekModel}. This \n",
      "│   information will be discarded. = information will be discarded.\n",
      "└ @ MathOptInterface.Utilities /Users/dc/.julia/packages/MathOptInterface/A2UPd/src/Utilities/copy.jl:140\n",
      "┌ Warning: MathOptInterface.VariablePrimalStart() is not supported by MathOptInterface.Bridges.LazyBridgeOptimizer{MosekModel}. This \n",
      "│   information will be discarded. = information will be discarded.\n",
      "└ @ MathOptInterface.Utilities /Users/dc/.julia/packages/MathOptInterface/A2UPd/src/Utilities/copy.jl:140\n",
      "┌ Warning: MathOptInterface.VariablePrimalStart() is not supported by MathOptInterface.Bridges.LazyBridgeOptimizer{MosekModel}. This \n",
      "│   information will be discarded. = information will be discarded.\n",
      "└ @ MathOptInterface.Utilities /Users/dc/.julia/packages/MathOptInterface/A2UPd/src/Utilities/copy.jl:140\n",
      "┌ Warning: MathOptInterface.VariablePrimalStart() is not supported by MathOptInterface.Bridges.LazyBridgeOptimizer{MosekModel}. This \n",
      "│   information will be discarded. = information will be discarded.\n",
      "└ @ MathOptInterface.Utilities /Users/dc/.julia/packages/MathOptInterface/A2UPd/src/Utilities/copy.jl:140\n",
      "┌ Warning: MathOptInterface.VariablePrimalStart() is not supported by MathOptInterface.Bridges.LazyBridgeOptimizer{MosekModel}. This \n",
      "│   information will be discarded. = information will be discarded.\n",
      "└ @ MathOptInterface.Utilities /Users/dc/.julia/packages/MathOptInterface/A2UPd/src/Utilities/copy.jl:140\n"
     ]
    },
    {
     "name": "stdout",
     "output_type": "stream",
     "text": [
      "progress: 5/20\n"
     ]
    },
    {
     "name": "stderr",
     "output_type": "stream",
     "text": [
      "┌ Warning: MathOptInterface.VariablePrimalStart() is not supported by MathOptInterface.Bridges.LazyBridgeOptimizer{MosekModel}. This \n",
      "│   information will be discarded. = information will be discarded.\n",
      "└ @ MathOptInterface.Utilities /Users/dc/.julia/packages/MathOptInterface/A2UPd/src/Utilities/copy.jl:140\n",
      "┌ Warning: MathOptInterface.VariablePrimalStart() is not supported by MathOptInterface.Bridges.LazyBridgeOptimizer{MosekModel}. This \n",
      "│   information will be discarded. = information will be discarded.\n",
      "└ @ MathOptInterface.Utilities /Users/dc/.julia/packages/MathOptInterface/A2UPd/src/Utilities/copy.jl:140\n",
      "┌ Warning: MathOptInterface.VariablePrimalStart() is not supported by MathOptInterface.Bridges.LazyBridgeOptimizer{MosekModel}. This \n",
      "│   information will be discarded. = information will be discarded.\n",
      "└ @ MathOptInterface.Utilities /Users/dc/.julia/packages/MathOptInterface/A2UPd/src/Utilities/copy.jl:140\n",
      "┌ Warning: MathOptInterface.VariablePrimalStart() is not supported by MathOptInterface.Bridges.LazyBridgeOptimizer{MosekModel}. This \n",
      "│   information will be discarded. = information will be discarded.\n",
      "└ @ MathOptInterface.Utilities /Users/dc/.julia/packages/MathOptInterface/A2UPd/src/Utilities/copy.jl:140\n",
      "┌ Warning: MathOptInterface.VariablePrimalStart() is not supported by MathOptInterface.Bridges.LazyBridgeOptimizer{MosekModel}. This \n",
      "│   information will be discarded. = information will be discarded.\n",
      "└ @ MathOptInterface.Utilities /Users/dc/.julia/packages/MathOptInterface/A2UPd/src/Utilities/copy.jl:140\n",
      "┌ Warning: MathOptInterface.VariablePrimalStart() is not supported by MathOptInterface.Bridges.LazyBridgeOptimizer{MosekModel}. This \n",
      "│   information will be discarded. = information will be discarded.\n",
      "└ @ MathOptInterface.Utilities /Users/dc/.julia/packages/MathOptInterface/A2UPd/src/Utilities/copy.jl:140\n",
      "┌ Warning: MathOptInterface.VariablePrimalStart() is not supported by MathOptInterface.Bridges.LazyBridgeOptimizer{MosekModel}. This \n",
      "│   information will be discarded. = information will be discarded.\n",
      "└ @ MathOptInterface.Utilities /Users/dc/.julia/packages/MathOptInterface/A2UPd/src/Utilities/copy.jl:140\n",
      "┌ Warning: MathOptInterface.VariablePrimalStart() is not supported by MathOptInterface.Bridges.LazyBridgeOptimizer{MosekModel}. This \n",
      "│   information will be discarded. = information will be discarded.\n",
      "└ @ MathOptInterface.Utilities /Users/dc/.julia/packages/MathOptInterface/A2UPd/src/Utilities/copy.jl:140\n",
      "┌ Warning: MathOptInterface.VariablePrimalStart() is not supported by MathOptInterface.Bridges.LazyBridgeOptimizer{MosekModel}. This \n",
      "│   information will be discarded. = information will be discarded.\n",
      "└ @ MathOptInterface.Utilities /Users/dc/.julia/packages/MathOptInterface/A2UPd/src/Utilities/copy.jl:140\n",
      "┌ Warning: MathOptInterface.VariablePrimalStart() is not supported by MathOptInterface.Bridges.LazyBridgeOptimizer{MosekModel}. This \n",
      "│   information will be discarded. = information will be discarded.\n",
      "└ @ MathOptInterface.Utilities /Users/dc/.julia/packages/MathOptInterface/A2UPd/src/Utilities/copy.jl:140\n",
      "┌ Warning: MathOptInterface.VariablePrimalStart() is not supported by MathOptInterface.Bridges.LazyBridgeOptimizer{MosekModel}. This \n",
      "│   information will be discarded. = information will be discarded.\n",
      "└ @ MathOptInterface.Utilities /Users/dc/.julia/packages/MathOptInterface/A2UPd/src/Utilities/copy.jl:140\n",
      "┌ Warning: MathOptInterface.VariablePrimalStart() is not supported by MathOptInterface.Bridges.LazyBridgeOptimizer{MosekModel}. This \n",
      "│   information will be discarded. = information will be discarded.\n",
      "└ @ MathOptInterface.Utilities /Users/dc/.julia/packages/MathOptInterface/A2UPd/src/Utilities/copy.jl:140\n",
      "┌ Warning: MathOptInterface.VariablePrimalStart() is not supported by MathOptInterface.Bridges.LazyBridgeOptimizer{MosekModel}. This \n",
      "│   information will be discarded. = information will be discarded.\n",
      "└ @ MathOptInterface.Utilities /Users/dc/.julia/packages/MathOptInterface/A2UPd/src/Utilities/copy.jl:140\n",
      "┌ Warning: MathOptInterface.VariablePrimalStart() is not supported by MathOptInterface.Bridges.LazyBridgeOptimizer{MosekModel}. This \n",
      "│   information will be discarded. = information will be discarded.\n",
      "└ @ MathOptInterface.Utilities /Users/dc/.julia/packages/MathOptInterface/A2UPd/src/Utilities/copy.jl:140\n",
      "┌ Warning: MathOptInterface.VariablePrimalStart() is not supported by MathOptInterface.Bridges.LazyBridgeOptimizer{MosekModel}. This \n",
      "│   information will be discarded. = information will be discarded.\n",
      "└ @ MathOptInterface.Utilities /Users/dc/.julia/packages/MathOptInterface/A2UPd/src/Utilities/copy.jl:140\n",
      "┌ Warning: MathOptInterface.VariablePrimalStart() is not supported by MathOptInterface.Bridges.LazyBridgeOptimizer{MosekModel}. This \n",
      "│   information will be discarded. = information will be discarded.\n",
      "└ @ MathOptInterface.Utilities /Users/dc/.julia/packages/MathOptInterface/A2UPd/src/Utilities/copy.jl:140\n",
      "┌ Warning: MathOptInterface.VariablePrimalStart() is not supported by MathOptInterface.Bridges.LazyBridgeOptimizer{MosekModel}. This \n",
      "│   information will be discarded. = information will be discarded.\n",
      "└ @ MathOptInterface.Utilities /Users/dc/.julia/packages/MathOptInterface/A2UPd/src/Utilities/copy.jl:140\n",
      "┌ Warning: MathOptInterface.VariablePrimalStart() is not supported by MathOptInterface.Bridges.LazyBridgeOptimizer{MosekModel}. This \n",
      "│   information will be discarded. = information will be discarded.\n",
      "└ @ MathOptInterface.Utilities /Users/dc/.julia/packages/MathOptInterface/A2UPd/src/Utilities/copy.jl:140\n",
      "┌ Warning: MathOptInterface.VariablePrimalStart() is not supported by MathOptInterface.Bridges.LazyBridgeOptimizer{MosekModel}. This \n",
      "│   information will be discarded. = information will be discarded.\n",
      "└ @ MathOptInterface.Utilities /Users/dc/.julia/packages/MathOptInterface/A2UPd/src/Utilities/copy.jl:140\n",
      "┌ Warning: MathOptInterface.VariablePrimalStart() is not supported by MathOptInterface.Bridges.LazyBridgeOptimizer{MosekModel}. This \n",
      "│   information will be discarded. = information will be discarded.\n",
      "└ @ MathOptInterface.Utilities /Users/dc/.julia/packages/MathOptInterface/A2UPd/src/Utilities/copy.jl:140\n"
     ]
    },
    {
     "name": "stdout",
     "output_type": "stream",
     "text": [
      "progress: 6/20\n"
     ]
    },
    {
     "name": "stderr",
     "output_type": "stream",
     "text": [
      "┌ Warning: MathOptInterface.VariablePrimalStart() is not supported by MathOptInterface.Bridges.LazyBridgeOptimizer{MosekModel}. This \n",
      "│   information will be discarded. = information will be discarded.\n",
      "└ @ MathOptInterface.Utilities /Users/dc/.julia/packages/MathOptInterface/A2UPd/src/Utilities/copy.jl:140\n",
      "┌ Warning: MathOptInterface.VariablePrimalStart() is not supported by MathOptInterface.Bridges.LazyBridgeOptimizer{MosekModel}. This \n",
      "│   information will be discarded. = information will be discarded.\n",
      "└ @ MathOptInterface.Utilities /Users/dc/.julia/packages/MathOptInterface/A2UPd/src/Utilities/copy.jl:140\n",
      "┌ Warning: MathOptInterface.VariablePrimalStart() is not supported by MathOptInterface.Bridges.LazyBridgeOptimizer{MosekModel}. This \n",
      "│   information will be discarded. = information will be discarded.\n",
      "└ @ MathOptInterface.Utilities /Users/dc/.julia/packages/MathOptInterface/A2UPd/src/Utilities/copy.jl:140\n",
      "┌ Warning: MathOptInterface.VariablePrimalStart() is not supported by MathOptInterface.Bridges.LazyBridgeOptimizer{MosekModel}. This \n",
      "│   information will be discarded. = information will be discarded.\n",
      "└ @ MathOptInterface.Utilities /Users/dc/.julia/packages/MathOptInterface/A2UPd/src/Utilities/copy.jl:140\n",
      "┌ Warning: MathOptInterface.VariablePrimalStart() is not supported by MathOptInterface.Bridges.LazyBridgeOptimizer{MosekModel}. This \n",
      "│   information will be discarded. = information will be discarded.\n",
      "└ @ MathOptInterface.Utilities /Users/dc/.julia/packages/MathOptInterface/A2UPd/src/Utilities/copy.jl:140\n",
      "┌ Warning: MathOptInterface.VariablePrimalStart() is not supported by MathOptInterface.Bridges.LazyBridgeOptimizer{MosekModel}. This \n",
      "│   information will be discarded. = information will be discarded.\n",
      "└ @ MathOptInterface.Utilities /Users/dc/.julia/packages/MathOptInterface/A2UPd/src/Utilities/copy.jl:140\n",
      "┌ Warning: MathOptInterface.VariablePrimalStart() is not supported by MathOptInterface.Bridges.LazyBridgeOptimizer{MosekModel}. This \n",
      "│   information will be discarded. = information will be discarded.\n",
      "└ @ MathOptInterface.Utilities /Users/dc/.julia/packages/MathOptInterface/A2UPd/src/Utilities/copy.jl:140\n",
      "┌ Warning: MathOptInterface.VariablePrimalStart() is not supported by MathOptInterface.Bridges.LazyBridgeOptimizer{MosekModel}. This \n",
      "│   information will be discarded. = information will be discarded.\n",
      "└ @ MathOptInterface.Utilities /Users/dc/.julia/packages/MathOptInterface/A2UPd/src/Utilities/copy.jl:140\n",
      "┌ Warning: MathOptInterface.VariablePrimalStart() is not supported by MathOptInterface.Bridges.LazyBridgeOptimizer{MosekModel}. This \n",
      "│   information will be discarded. = information will be discarded.\n",
      "└ @ MathOptInterface.Utilities /Users/dc/.julia/packages/MathOptInterface/A2UPd/src/Utilities/copy.jl:140\n",
      "┌ Warning: MathOptInterface.VariablePrimalStart() is not supported by MathOptInterface.Bridges.LazyBridgeOptimizer{MosekModel}. This \n",
      "│   information will be discarded. = information will be discarded.\n",
      "└ @ MathOptInterface.Utilities /Users/dc/.julia/packages/MathOptInterface/A2UPd/src/Utilities/copy.jl:140\n",
      "┌ Warning: MathOptInterface.VariablePrimalStart() is not supported by MathOptInterface.Bridges.LazyBridgeOptimizer{MosekModel}. This \n",
      "│   information will be discarded. = information will be discarded.\n",
      "└ @ MathOptInterface.Utilities /Users/dc/.julia/packages/MathOptInterface/A2UPd/src/Utilities/copy.jl:140\n",
      "┌ Warning: MathOptInterface.VariablePrimalStart() is not supported by MathOptInterface.Bridges.LazyBridgeOptimizer{MosekModel}. This \n",
      "│   information will be discarded. = information will be discarded.\n",
      "└ @ MathOptInterface.Utilities /Users/dc/.julia/packages/MathOptInterface/A2UPd/src/Utilities/copy.jl:140\n",
      "┌ Warning: MathOptInterface.VariablePrimalStart() is not supported by MathOptInterface.Bridges.LazyBridgeOptimizer{MosekModel}. This \n",
      "│   information will be discarded. = information will be discarded.\n",
      "└ @ MathOptInterface.Utilities /Users/dc/.julia/packages/MathOptInterface/A2UPd/src/Utilities/copy.jl:140\n",
      "┌ Warning: MathOptInterface.VariablePrimalStart() is not supported by MathOptInterface.Bridges.LazyBridgeOptimizer{MosekModel}. This \n",
      "│   information will be discarded. = information will be discarded.\n",
      "└ @ MathOptInterface.Utilities /Users/dc/.julia/packages/MathOptInterface/A2UPd/src/Utilities/copy.jl:140\n",
      "┌ Warning: MathOptInterface.VariablePrimalStart() is not supported by MathOptInterface.Bridges.LazyBridgeOptimizer{MosekModel}. This \n",
      "│   information will be discarded. = information will be discarded.\n",
      "└ @ MathOptInterface.Utilities /Users/dc/.julia/packages/MathOptInterface/A2UPd/src/Utilities/copy.jl:140\n",
      "┌ Warning: MathOptInterface.VariablePrimalStart() is not supported by MathOptInterface.Bridges.LazyBridgeOptimizer{MosekModel}. This \n",
      "│   information will be discarded. = information will be discarded.\n",
      "└ @ MathOptInterface.Utilities /Users/dc/.julia/packages/MathOptInterface/A2UPd/src/Utilities/copy.jl:140\n",
      "┌ Warning: MathOptInterface.VariablePrimalStart() is not supported by MathOptInterface.Bridges.LazyBridgeOptimizer{MosekModel}. This \n",
      "│   information will be discarded. = information will be discarded.\n",
      "└ @ MathOptInterface.Utilities /Users/dc/.julia/packages/MathOptInterface/A2UPd/src/Utilities/copy.jl:140\n",
      "┌ Warning: MathOptInterface.VariablePrimalStart() is not supported by MathOptInterface.Bridges.LazyBridgeOptimizer{MosekModel}. This \n",
      "│   information will be discarded. = information will be discarded.\n",
      "└ @ MathOptInterface.Utilities /Users/dc/.julia/packages/MathOptInterface/A2UPd/src/Utilities/copy.jl:140\n",
      "┌ Warning: MathOptInterface.VariablePrimalStart() is not supported by MathOptInterface.Bridges.LazyBridgeOptimizer{MosekModel}. This \n",
      "│   information will be discarded. = information will be discarded.\n",
      "└ @ MathOptInterface.Utilities /Users/dc/.julia/packages/MathOptInterface/A2UPd/src/Utilities/copy.jl:140\n",
      "┌ Warning: MathOptInterface.VariablePrimalStart() is not supported by MathOptInterface.Bridges.LazyBridgeOptimizer{MosekModel}. This \n",
      "│   information will be discarded. = information will be discarded.\n",
      "└ @ MathOptInterface.Utilities /Users/dc/.julia/packages/MathOptInterface/A2UPd/src/Utilities/copy.jl:140\n"
     ]
    },
    {
     "name": "stdout",
     "output_type": "stream",
     "text": [
      "progress: 7/20\n"
     ]
    },
    {
     "name": "stderr",
     "output_type": "stream",
     "text": [
      "┌ Warning: MathOptInterface.VariablePrimalStart() is not supported by MathOptInterface.Bridges.LazyBridgeOptimizer{MosekModel}. This \n",
      "│   information will be discarded. = information will be discarded.\n",
      "└ @ MathOptInterface.Utilities /Users/dc/.julia/packages/MathOptInterface/A2UPd/src/Utilities/copy.jl:140\n",
      "┌ Warning: MathOptInterface.VariablePrimalStart() is not supported by MathOptInterface.Bridges.LazyBridgeOptimizer{MosekModel}. This \n",
      "│   information will be discarded. = information will be discarded.\n",
      "└ @ MathOptInterface.Utilities /Users/dc/.julia/packages/MathOptInterface/A2UPd/src/Utilities/copy.jl:140\n",
      "┌ Warning: MathOptInterface.VariablePrimalStart() is not supported by MathOptInterface.Bridges.LazyBridgeOptimizer{MosekModel}. This \n",
      "│   information will be discarded. = information will be discarded.\n",
      "└ @ MathOptInterface.Utilities /Users/dc/.julia/packages/MathOptInterface/A2UPd/src/Utilities/copy.jl:140\n",
      "┌ Warning: MathOptInterface.VariablePrimalStart() is not supported by MathOptInterface.Bridges.LazyBridgeOptimizer{MosekModel}. This \n",
      "│   information will be discarded. = information will be discarded.\n",
      "└ @ MathOptInterface.Utilities /Users/dc/.julia/packages/MathOptInterface/A2UPd/src/Utilities/copy.jl:140\n",
      "┌ Warning: MathOptInterface.VariablePrimalStart() is not supported by MathOptInterface.Bridges.LazyBridgeOptimizer{MosekModel}. This \n",
      "│   information will be discarded. = information will be discarded.\n",
      "└ @ MathOptInterface.Utilities /Users/dc/.julia/packages/MathOptInterface/A2UPd/src/Utilities/copy.jl:140\n",
      "┌ Warning: MathOptInterface.VariablePrimalStart() is not supported by MathOptInterface.Bridges.LazyBridgeOptimizer{MosekModel}. This \n",
      "│   information will be discarded. = information will be discarded.\n",
      "└ @ MathOptInterface.Utilities /Users/dc/.julia/packages/MathOptInterface/A2UPd/src/Utilities/copy.jl:140\n",
      "┌ Warning: MathOptInterface.VariablePrimalStart() is not supported by MathOptInterface.Bridges.LazyBridgeOptimizer{MosekModel}. This \n",
      "│   information will be discarded. = information will be discarded.\n",
      "└ @ MathOptInterface.Utilities /Users/dc/.julia/packages/MathOptInterface/A2UPd/src/Utilities/copy.jl:140\n",
      "┌ Warning: MathOptInterface.VariablePrimalStart() is not supported by MathOptInterface.Bridges.LazyBridgeOptimizer{MosekModel}. This \n",
      "│   information will be discarded. = information will be discarded.\n",
      "└ @ MathOptInterface.Utilities /Users/dc/.julia/packages/MathOptInterface/A2UPd/src/Utilities/copy.jl:140\n",
      "┌ Warning: MathOptInterface.VariablePrimalStart() is not supported by MathOptInterface.Bridges.LazyBridgeOptimizer{MosekModel}. This \n",
      "│   information will be discarded. = information will be discarded.\n",
      "└ @ MathOptInterface.Utilities /Users/dc/.julia/packages/MathOptInterface/A2UPd/src/Utilities/copy.jl:140\n",
      "┌ Warning: MathOptInterface.VariablePrimalStart() is not supported by MathOptInterface.Bridges.LazyBridgeOptimizer{MosekModel}. This \n",
      "│   information will be discarded. = information will be discarded.\n",
      "└ @ MathOptInterface.Utilities /Users/dc/.julia/packages/MathOptInterface/A2UPd/src/Utilities/copy.jl:140\n",
      "┌ Warning: MathOptInterface.VariablePrimalStart() is not supported by MathOptInterface.Bridges.LazyBridgeOptimizer{MosekModel}. This \n",
      "│   information will be discarded. = information will be discarded.\n",
      "└ @ MathOptInterface.Utilities /Users/dc/.julia/packages/MathOptInterface/A2UPd/src/Utilities/copy.jl:140\n",
      "┌ Warning: MathOptInterface.VariablePrimalStart() is not supported by MathOptInterface.Bridges.LazyBridgeOptimizer{MosekModel}. This \n",
      "│   information will be discarded. = information will be discarded.\n",
      "└ @ MathOptInterface.Utilities /Users/dc/.julia/packages/MathOptInterface/A2UPd/src/Utilities/copy.jl:140\n",
      "┌ Warning: MathOptInterface.VariablePrimalStart() is not supported by MathOptInterface.Bridges.LazyBridgeOptimizer{MosekModel}. This \n",
      "│   information will be discarded. = information will be discarded.\n",
      "└ @ MathOptInterface.Utilities /Users/dc/.julia/packages/MathOptInterface/A2UPd/src/Utilities/copy.jl:140\n",
      "┌ Warning: MathOptInterface.VariablePrimalStart() is not supported by MathOptInterface.Bridges.LazyBridgeOptimizer{MosekModel}. This \n",
      "│   information will be discarded. = information will be discarded.\n",
      "└ @ MathOptInterface.Utilities /Users/dc/.julia/packages/MathOptInterface/A2UPd/src/Utilities/copy.jl:140\n",
      "┌ Warning: MathOptInterface.VariablePrimalStart() is not supported by MathOptInterface.Bridges.LazyBridgeOptimizer{MosekModel}. This \n",
      "│   information will be discarded. = information will be discarded.\n",
      "└ @ MathOptInterface.Utilities /Users/dc/.julia/packages/MathOptInterface/A2UPd/src/Utilities/copy.jl:140\n",
      "┌ Warning: MathOptInterface.VariablePrimalStart() is not supported by MathOptInterface.Bridges.LazyBridgeOptimizer{MosekModel}. This \n",
      "│   information will be discarded. = information will be discarded.\n",
      "└ @ MathOptInterface.Utilities /Users/dc/.julia/packages/MathOptInterface/A2UPd/src/Utilities/copy.jl:140\n",
      "┌ Warning: MathOptInterface.VariablePrimalStart() is not supported by MathOptInterface.Bridges.LazyBridgeOptimizer{MosekModel}. This \n",
      "│   information will be discarded. = information will be discarded.\n",
      "└ @ MathOptInterface.Utilities /Users/dc/.julia/packages/MathOptInterface/A2UPd/src/Utilities/copy.jl:140\n",
      "┌ Warning: MathOptInterface.VariablePrimalStart() is not supported by MathOptInterface.Bridges.LazyBridgeOptimizer{MosekModel}. This \n",
      "│   information will be discarded. = information will be discarded.\n",
      "└ @ MathOptInterface.Utilities /Users/dc/.julia/packages/MathOptInterface/A2UPd/src/Utilities/copy.jl:140\n",
      "┌ Warning: MathOptInterface.VariablePrimalStart() is not supported by MathOptInterface.Bridges.LazyBridgeOptimizer{MosekModel}. This \n",
      "│   information will be discarded. = information will be discarded.\n",
      "└ @ MathOptInterface.Utilities /Users/dc/.julia/packages/MathOptInterface/A2UPd/src/Utilities/copy.jl:140\n",
      "┌ Warning: MathOptInterface.VariablePrimalStart() is not supported by MathOptInterface.Bridges.LazyBridgeOptimizer{MosekModel}. This \n",
      "│   information will be discarded. = information will be discarded.\n",
      "└ @ MathOptInterface.Utilities /Users/dc/.julia/packages/MathOptInterface/A2UPd/src/Utilities/copy.jl:140\n"
     ]
    },
    {
     "name": "stdout",
     "output_type": "stream",
     "text": [
      "progress: 8/20\n"
     ]
    },
    {
     "name": "stderr",
     "output_type": "stream",
     "text": [
      "┌ Warning: MathOptInterface.VariablePrimalStart() is not supported by MathOptInterface.Bridges.LazyBridgeOptimizer{MosekModel}. This \n",
      "│   information will be discarded. = information will be discarded.\n",
      "└ @ MathOptInterface.Utilities /Users/dc/.julia/packages/MathOptInterface/A2UPd/src/Utilities/copy.jl:140\n",
      "┌ Warning: MathOptInterface.VariablePrimalStart() is not supported by MathOptInterface.Bridges.LazyBridgeOptimizer{MosekModel}. This \n",
      "│   information will be discarded. = information will be discarded.\n",
      "└ @ MathOptInterface.Utilities /Users/dc/.julia/packages/MathOptInterface/A2UPd/src/Utilities/copy.jl:140\n",
      "┌ Warning: MathOptInterface.VariablePrimalStart() is not supported by MathOptInterface.Bridges.LazyBridgeOptimizer{MosekModel}. This \n",
      "│   information will be discarded. = information will be discarded.\n",
      "└ @ MathOptInterface.Utilities /Users/dc/.julia/packages/MathOptInterface/A2UPd/src/Utilities/copy.jl:140\n",
      "┌ Warning: MathOptInterface.VariablePrimalStart() is not supported by MathOptInterface.Bridges.LazyBridgeOptimizer{MosekModel}. This \n",
      "│   information will be discarded. = information will be discarded.\n",
      "└ @ MathOptInterface.Utilities /Users/dc/.julia/packages/MathOptInterface/A2UPd/src/Utilities/copy.jl:140\n",
      "┌ Warning: MathOptInterface.VariablePrimalStart() is not supported by MathOptInterface.Bridges.LazyBridgeOptimizer{MosekModel}. This \n",
      "│   information will be discarded. = information will be discarded.\n",
      "└ @ MathOptInterface.Utilities /Users/dc/.julia/packages/MathOptInterface/A2UPd/src/Utilities/copy.jl:140\n",
      "┌ Warning: MathOptInterface.VariablePrimalStart() is not supported by MathOptInterface.Bridges.LazyBridgeOptimizer{MosekModel}. This \n",
      "│   information will be discarded. = information will be discarded.\n",
      "└ @ MathOptInterface.Utilities /Users/dc/.julia/packages/MathOptInterface/A2UPd/src/Utilities/copy.jl:140\n",
      "┌ Warning: MathOptInterface.VariablePrimalStart() is not supported by MathOptInterface.Bridges.LazyBridgeOptimizer{MosekModel}. This \n",
      "│   information will be discarded. = information will be discarded.\n",
      "└ @ MathOptInterface.Utilities /Users/dc/.julia/packages/MathOptInterface/A2UPd/src/Utilities/copy.jl:140\n",
      "┌ Warning: MathOptInterface.VariablePrimalStart() is not supported by MathOptInterface.Bridges.LazyBridgeOptimizer{MosekModel}. This \n",
      "│   information will be discarded. = information will be discarded.\n",
      "└ @ MathOptInterface.Utilities /Users/dc/.julia/packages/MathOptInterface/A2UPd/src/Utilities/copy.jl:140\n",
      "┌ Warning: MathOptInterface.VariablePrimalStart() is not supported by MathOptInterface.Bridges.LazyBridgeOptimizer{MosekModel}. This \n",
      "│   information will be discarded. = information will be discarded.\n",
      "└ @ MathOptInterface.Utilities /Users/dc/.julia/packages/MathOptInterface/A2UPd/src/Utilities/copy.jl:140\n",
      "┌ Warning: MathOptInterface.VariablePrimalStart() is not supported by MathOptInterface.Bridges.LazyBridgeOptimizer{MosekModel}. This \n",
      "│   information will be discarded. = information will be discarded.\n",
      "└ @ MathOptInterface.Utilities /Users/dc/.julia/packages/MathOptInterface/A2UPd/src/Utilities/copy.jl:140\n",
      "┌ Warning: MathOptInterface.VariablePrimalStart() is not supported by MathOptInterface.Bridges.LazyBridgeOptimizer{MosekModel}. This \n",
      "│   information will be discarded. = information will be discarded.\n",
      "└ @ MathOptInterface.Utilities /Users/dc/.julia/packages/MathOptInterface/A2UPd/src/Utilities/copy.jl:140\n",
      "┌ Warning: MathOptInterface.VariablePrimalStart() is not supported by MathOptInterface.Bridges.LazyBridgeOptimizer{MosekModel}. This \n",
      "│   information will be discarded. = information will be discarded.\n",
      "└ @ MathOptInterface.Utilities /Users/dc/.julia/packages/MathOptInterface/A2UPd/src/Utilities/copy.jl:140\n",
      "┌ Warning: MathOptInterface.VariablePrimalStart() is not supported by MathOptInterface.Bridges.LazyBridgeOptimizer{MosekModel}. This \n",
      "│   information will be discarded. = information will be discarded.\n",
      "└ @ MathOptInterface.Utilities /Users/dc/.julia/packages/MathOptInterface/A2UPd/src/Utilities/copy.jl:140\n",
      "┌ Warning: MathOptInterface.VariablePrimalStart() is not supported by MathOptInterface.Bridges.LazyBridgeOptimizer{MosekModel}. This \n",
      "│   information will be discarded. = information will be discarded.\n",
      "└ @ MathOptInterface.Utilities /Users/dc/.julia/packages/MathOptInterface/A2UPd/src/Utilities/copy.jl:140\n",
      "┌ Warning: MathOptInterface.VariablePrimalStart() is not supported by MathOptInterface.Bridges.LazyBridgeOptimizer{MosekModel}. This \n",
      "│   information will be discarded. = information will be discarded.\n",
      "└ @ MathOptInterface.Utilities /Users/dc/.julia/packages/MathOptInterface/A2UPd/src/Utilities/copy.jl:140\n",
      "┌ Warning: MathOptInterface.VariablePrimalStart() is not supported by MathOptInterface.Bridges.LazyBridgeOptimizer{MosekModel}. This \n",
      "│   information will be discarded. = information will be discarded.\n",
      "└ @ MathOptInterface.Utilities /Users/dc/.julia/packages/MathOptInterface/A2UPd/src/Utilities/copy.jl:140\n",
      "┌ Warning: MathOptInterface.VariablePrimalStart() is not supported by MathOptInterface.Bridges.LazyBridgeOptimizer{MosekModel}. This \n",
      "│   information will be discarded. = information will be discarded.\n",
      "└ @ MathOptInterface.Utilities /Users/dc/.julia/packages/MathOptInterface/A2UPd/src/Utilities/copy.jl:140\n",
      "┌ Warning: MathOptInterface.VariablePrimalStart() is not supported by MathOptInterface.Bridges.LazyBridgeOptimizer{MosekModel}. This \n",
      "│   information will be discarded. = information will be discarded.\n",
      "└ @ MathOptInterface.Utilities /Users/dc/.julia/packages/MathOptInterface/A2UPd/src/Utilities/copy.jl:140\n",
      "┌ Warning: MathOptInterface.VariablePrimalStart() is not supported by MathOptInterface.Bridges.LazyBridgeOptimizer{MosekModel}. This \n",
      "│   information will be discarded. = information will be discarded.\n",
      "└ @ MathOptInterface.Utilities /Users/dc/.julia/packages/MathOptInterface/A2UPd/src/Utilities/copy.jl:140\n",
      "┌ Warning: MathOptInterface.VariablePrimalStart() is not supported by MathOptInterface.Bridges.LazyBridgeOptimizer{MosekModel}. This \n",
      "│   information will be discarded. = information will be discarded.\n",
      "└ @ MathOptInterface.Utilities /Users/dc/.julia/packages/MathOptInterface/A2UPd/src/Utilities/copy.jl:140\n"
     ]
    },
    {
     "name": "stdout",
     "output_type": "stream",
     "text": [
      "progress: 9/20\n"
     ]
    },
    {
     "name": "stderr",
     "output_type": "stream",
     "text": [
      "┌ Warning: MathOptInterface.VariablePrimalStart() is not supported by MathOptInterface.Bridges.LazyBridgeOptimizer{MosekModel}. This \n",
      "│   information will be discarded. = information will be discarded.\n",
      "└ @ MathOptInterface.Utilities /Users/dc/.julia/packages/MathOptInterface/A2UPd/src/Utilities/copy.jl:140\n",
      "┌ Warning: MathOptInterface.VariablePrimalStart() is not supported by MathOptInterface.Bridges.LazyBridgeOptimizer{MosekModel}. This \n",
      "│   information will be discarded. = information will be discarded.\n",
      "└ @ MathOptInterface.Utilities /Users/dc/.julia/packages/MathOptInterface/A2UPd/src/Utilities/copy.jl:140\n",
      "┌ Warning: MathOptInterface.VariablePrimalStart() is not supported by MathOptInterface.Bridges.LazyBridgeOptimizer{MosekModel}. This \n",
      "│   information will be discarded. = information will be discarded.\n",
      "└ @ MathOptInterface.Utilities /Users/dc/.julia/packages/MathOptInterface/A2UPd/src/Utilities/copy.jl:140\n",
      "┌ Warning: MathOptInterface.VariablePrimalStart() is not supported by MathOptInterface.Bridges.LazyBridgeOptimizer{MosekModel}. This \n",
      "│   information will be discarded. = information will be discarded.\n",
      "└ @ MathOptInterface.Utilities /Users/dc/.julia/packages/MathOptInterface/A2UPd/src/Utilities/copy.jl:140\n",
      "┌ Warning: MathOptInterface.VariablePrimalStart() is not supported by MathOptInterface.Bridges.LazyBridgeOptimizer{MosekModel}. This \n",
      "│   information will be discarded. = information will be discarded.\n",
      "└ @ MathOptInterface.Utilities /Users/dc/.julia/packages/MathOptInterface/A2UPd/src/Utilities/copy.jl:140\n",
      "┌ Warning: MathOptInterface.VariablePrimalStart() is not supported by MathOptInterface.Bridges.LazyBridgeOptimizer{MosekModel}. This \n",
      "│   information will be discarded. = information will be discarded.\n",
      "└ @ MathOptInterface.Utilities /Users/dc/.julia/packages/MathOptInterface/A2UPd/src/Utilities/copy.jl:140\n",
      "┌ Warning: MathOptInterface.VariablePrimalStart() is not supported by MathOptInterface.Bridges.LazyBridgeOptimizer{MosekModel}. This \n",
      "│   information will be discarded. = information will be discarded.\n",
      "└ @ MathOptInterface.Utilities /Users/dc/.julia/packages/MathOptInterface/A2UPd/src/Utilities/copy.jl:140\n",
      "┌ Warning: MathOptInterface.VariablePrimalStart() is not supported by MathOptInterface.Bridges.LazyBridgeOptimizer{MosekModel}. This \n",
      "│   information will be discarded. = information will be discarded.\n",
      "└ @ MathOptInterface.Utilities /Users/dc/.julia/packages/MathOptInterface/A2UPd/src/Utilities/copy.jl:140\n",
      "┌ Warning: MathOptInterface.VariablePrimalStart() is not supported by MathOptInterface.Bridges.LazyBridgeOptimizer{MosekModel}. This \n",
      "│   information will be discarded. = information will be discarded.\n",
      "└ @ MathOptInterface.Utilities /Users/dc/.julia/packages/MathOptInterface/A2UPd/src/Utilities/copy.jl:140\n",
      "┌ Warning: MathOptInterface.VariablePrimalStart() is not supported by MathOptInterface.Bridges.LazyBridgeOptimizer{MosekModel}. This \n",
      "│   information will be discarded. = information will be discarded.\n",
      "└ @ MathOptInterface.Utilities /Users/dc/.julia/packages/MathOptInterface/A2UPd/src/Utilities/copy.jl:140\n",
      "┌ Warning: MathOptInterface.VariablePrimalStart() is not supported by MathOptInterface.Bridges.LazyBridgeOptimizer{MosekModel}. This \n",
      "│   information will be discarded. = information will be discarded.\n",
      "└ @ MathOptInterface.Utilities /Users/dc/.julia/packages/MathOptInterface/A2UPd/src/Utilities/copy.jl:140\n",
      "┌ Warning: MathOptInterface.VariablePrimalStart() is not supported by MathOptInterface.Bridges.LazyBridgeOptimizer{MosekModel}. This \n",
      "│   information will be discarded. = information will be discarded.\n",
      "└ @ MathOptInterface.Utilities /Users/dc/.julia/packages/MathOptInterface/A2UPd/src/Utilities/copy.jl:140\n",
      "┌ Warning: MathOptInterface.VariablePrimalStart() is not supported by MathOptInterface.Bridges.LazyBridgeOptimizer{MosekModel}. This \n",
      "│   information will be discarded. = information will be discarded.\n",
      "└ @ MathOptInterface.Utilities /Users/dc/.julia/packages/MathOptInterface/A2UPd/src/Utilities/copy.jl:140\n",
      "┌ Warning: MathOptInterface.VariablePrimalStart() is not supported by MathOptInterface.Bridges.LazyBridgeOptimizer{MosekModel}. This \n",
      "│   information will be discarded. = information will be discarded.\n",
      "└ @ MathOptInterface.Utilities /Users/dc/.julia/packages/MathOptInterface/A2UPd/src/Utilities/copy.jl:140\n",
      "┌ Warning: MathOptInterface.VariablePrimalStart() is not supported by MathOptInterface.Bridges.LazyBridgeOptimizer{MosekModel}. This \n",
      "│   information will be discarded. = information will be discarded.\n",
      "└ @ MathOptInterface.Utilities /Users/dc/.julia/packages/MathOptInterface/A2UPd/src/Utilities/copy.jl:140\n",
      "┌ Warning: MathOptInterface.VariablePrimalStart() is not supported by MathOptInterface.Bridges.LazyBridgeOptimizer{MosekModel}. This \n",
      "│   information will be discarded. = information will be discarded.\n",
      "└ @ MathOptInterface.Utilities /Users/dc/.julia/packages/MathOptInterface/A2UPd/src/Utilities/copy.jl:140\n",
      "┌ Warning: MathOptInterface.VariablePrimalStart() is not supported by MathOptInterface.Bridges.LazyBridgeOptimizer{MosekModel}. This \n",
      "│   information will be discarded. = information will be discarded.\n",
      "└ @ MathOptInterface.Utilities /Users/dc/.julia/packages/MathOptInterface/A2UPd/src/Utilities/copy.jl:140\n",
      "┌ Warning: MathOptInterface.VariablePrimalStart() is not supported by MathOptInterface.Bridges.LazyBridgeOptimizer{MosekModel}. This \n",
      "│   information will be discarded. = information will be discarded.\n",
      "└ @ MathOptInterface.Utilities /Users/dc/.julia/packages/MathOptInterface/A2UPd/src/Utilities/copy.jl:140\n",
      "┌ Warning: MathOptInterface.VariablePrimalStart() is not supported by MathOptInterface.Bridges.LazyBridgeOptimizer{MosekModel}. This \n",
      "│   information will be discarded. = information will be discarded.\n",
      "└ @ MathOptInterface.Utilities /Users/dc/.julia/packages/MathOptInterface/A2UPd/src/Utilities/copy.jl:140\n",
      "┌ Warning: MathOptInterface.VariablePrimalStart() is not supported by MathOptInterface.Bridges.LazyBridgeOptimizer{MosekModel}. This \n",
      "│   information will be discarded. = information will be discarded.\n",
      "└ @ MathOptInterface.Utilities /Users/dc/.julia/packages/MathOptInterface/A2UPd/src/Utilities/copy.jl:140\n"
     ]
    },
    {
     "name": "stdout",
     "output_type": "stream",
     "text": [
      "progress: 10/20\n"
     ]
    },
    {
     "name": "stderr",
     "output_type": "stream",
     "text": [
      "┌ Warning: MathOptInterface.VariablePrimalStart() is not supported by MathOptInterface.Bridges.LazyBridgeOptimizer{MosekModel}. This \n",
      "│   information will be discarded. = information will be discarded.\n",
      "└ @ MathOptInterface.Utilities /Users/dc/.julia/packages/MathOptInterface/A2UPd/src/Utilities/copy.jl:140\n",
      "┌ Warning: MathOptInterface.VariablePrimalStart() is not supported by MathOptInterface.Bridges.LazyBridgeOptimizer{MosekModel}. This \n",
      "│   information will be discarded. = information will be discarded.\n",
      "└ @ MathOptInterface.Utilities /Users/dc/.julia/packages/MathOptInterface/A2UPd/src/Utilities/copy.jl:140\n",
      "┌ Warning: MathOptInterface.VariablePrimalStart() is not supported by MathOptInterface.Bridges.LazyBridgeOptimizer{MosekModel}. This \n",
      "│   information will be discarded. = information will be discarded.\n",
      "└ @ MathOptInterface.Utilities /Users/dc/.julia/packages/MathOptInterface/A2UPd/src/Utilities/copy.jl:140\n",
      "┌ Warning: MathOptInterface.VariablePrimalStart() is not supported by MathOptInterface.Bridges.LazyBridgeOptimizer{MosekModel}. This \n",
      "│   information will be discarded. = information will be discarded.\n",
      "└ @ MathOptInterface.Utilities /Users/dc/.julia/packages/MathOptInterface/A2UPd/src/Utilities/copy.jl:140\n",
      "┌ Warning: MathOptInterface.VariablePrimalStart() is not supported by MathOptInterface.Bridges.LazyBridgeOptimizer{MosekModel}. This \n",
      "│   information will be discarded. = information will be discarded.\n",
      "└ @ MathOptInterface.Utilities /Users/dc/.julia/packages/MathOptInterface/A2UPd/src/Utilities/copy.jl:140\n",
      "┌ Warning: MathOptInterface.VariablePrimalStart() is not supported by MathOptInterface.Bridges.LazyBridgeOptimizer{MosekModel}. This \n",
      "│   information will be discarded. = information will be discarded.\n",
      "└ @ MathOptInterface.Utilities /Users/dc/.julia/packages/MathOptInterface/A2UPd/src/Utilities/copy.jl:140\n",
      "┌ Warning: MathOptInterface.VariablePrimalStart() is not supported by MathOptInterface.Bridges.LazyBridgeOptimizer{MosekModel}. This \n",
      "│   information will be discarded. = information will be discarded.\n",
      "└ @ MathOptInterface.Utilities /Users/dc/.julia/packages/MathOptInterface/A2UPd/src/Utilities/copy.jl:140\n",
      "┌ Warning: MathOptInterface.VariablePrimalStart() is not supported by MathOptInterface.Bridges.LazyBridgeOptimizer{MosekModel}. This \n",
      "│   information will be discarded. = information will be discarded.\n",
      "└ @ MathOptInterface.Utilities /Users/dc/.julia/packages/MathOptInterface/A2UPd/src/Utilities/copy.jl:140\n",
      "┌ Warning: MathOptInterface.VariablePrimalStart() is not supported by MathOptInterface.Bridges.LazyBridgeOptimizer{MosekModel}. This \n",
      "│   information will be discarded. = information will be discarded.\n",
      "└ @ MathOptInterface.Utilities /Users/dc/.julia/packages/MathOptInterface/A2UPd/src/Utilities/copy.jl:140\n",
      "┌ Warning: MathOptInterface.VariablePrimalStart() is not supported by MathOptInterface.Bridges.LazyBridgeOptimizer{MosekModel}. This \n",
      "│   information will be discarded. = information will be discarded.\n",
      "└ @ MathOptInterface.Utilities /Users/dc/.julia/packages/MathOptInterface/A2UPd/src/Utilities/copy.jl:140\n",
      "┌ Warning: MathOptInterface.VariablePrimalStart() is not supported by MathOptInterface.Bridges.LazyBridgeOptimizer{MosekModel}. This \n",
      "│   information will be discarded. = information will be discarded.\n",
      "└ @ MathOptInterface.Utilities /Users/dc/.julia/packages/MathOptInterface/A2UPd/src/Utilities/copy.jl:140\n",
      "┌ Warning: MathOptInterface.VariablePrimalStart() is not supported by MathOptInterface.Bridges.LazyBridgeOptimizer{MosekModel}. This \n",
      "│   information will be discarded. = information will be discarded.\n",
      "└ @ MathOptInterface.Utilities /Users/dc/.julia/packages/MathOptInterface/A2UPd/src/Utilities/copy.jl:140\n",
      "┌ Warning: MathOptInterface.VariablePrimalStart() is not supported by MathOptInterface.Bridges.LazyBridgeOptimizer{MosekModel}. This \n",
      "│   information will be discarded. = information will be discarded.\n",
      "└ @ MathOptInterface.Utilities /Users/dc/.julia/packages/MathOptInterface/A2UPd/src/Utilities/copy.jl:140\n",
      "┌ Warning: MathOptInterface.VariablePrimalStart() is not supported by MathOptInterface.Bridges.LazyBridgeOptimizer{MosekModel}. This \n",
      "│   information will be discarded. = information will be discarded.\n",
      "└ @ MathOptInterface.Utilities /Users/dc/.julia/packages/MathOptInterface/A2UPd/src/Utilities/copy.jl:140\n",
      "┌ Warning: MathOptInterface.VariablePrimalStart() is not supported by MathOptInterface.Bridges.LazyBridgeOptimizer{MosekModel}. This \n",
      "│   information will be discarded. = information will be discarded.\n",
      "└ @ MathOptInterface.Utilities /Users/dc/.julia/packages/MathOptInterface/A2UPd/src/Utilities/copy.jl:140\n",
      "┌ Warning: MathOptInterface.VariablePrimalStart() is not supported by MathOptInterface.Bridges.LazyBridgeOptimizer{MosekModel}. This \n",
      "│   information will be discarded. = information will be discarded.\n",
      "└ @ MathOptInterface.Utilities /Users/dc/.julia/packages/MathOptInterface/A2UPd/src/Utilities/copy.jl:140\n",
      "┌ Warning: MathOptInterface.VariablePrimalStart() is not supported by MathOptInterface.Bridges.LazyBridgeOptimizer{MosekModel}. This \n",
      "│   information will be discarded. = information will be discarded.\n",
      "└ @ MathOptInterface.Utilities /Users/dc/.julia/packages/MathOptInterface/A2UPd/src/Utilities/copy.jl:140\n",
      "┌ Warning: MathOptInterface.VariablePrimalStart() is not supported by MathOptInterface.Bridges.LazyBridgeOptimizer{MosekModel}. This \n",
      "│   information will be discarded. = information will be discarded.\n",
      "└ @ MathOptInterface.Utilities /Users/dc/.julia/packages/MathOptInterface/A2UPd/src/Utilities/copy.jl:140\n",
      "┌ Warning: MathOptInterface.VariablePrimalStart() is not supported by MathOptInterface.Bridges.LazyBridgeOptimizer{MosekModel}. This \n",
      "│   information will be discarded. = information will be discarded.\n",
      "└ @ MathOptInterface.Utilities /Users/dc/.julia/packages/MathOptInterface/A2UPd/src/Utilities/copy.jl:140\n",
      "┌ Warning: MathOptInterface.VariablePrimalStart() is not supported by MathOptInterface.Bridges.LazyBridgeOptimizer{MosekModel}. This \n",
      "│   information will be discarded. = information will be discarded.\n",
      "└ @ MathOptInterface.Utilities /Users/dc/.julia/packages/MathOptInterface/A2UPd/src/Utilities/copy.jl:140\n"
     ]
    },
    {
     "name": "stdout",
     "output_type": "stream",
     "text": [
      "progress: 11/20\n"
     ]
    },
    {
     "name": "stderr",
     "output_type": "stream",
     "text": [
      "┌ Warning: MathOptInterface.VariablePrimalStart() is not supported by MathOptInterface.Bridges.LazyBridgeOptimizer{MosekModel}. This \n",
      "│   information will be discarded. = information will be discarded.\n",
      "└ @ MathOptInterface.Utilities /Users/dc/.julia/packages/MathOptInterface/A2UPd/src/Utilities/copy.jl:140\n",
      "┌ Warning: MathOptInterface.VariablePrimalStart() is not supported by MathOptInterface.Bridges.LazyBridgeOptimizer{MosekModel}. This \n",
      "│   information will be discarded. = information will be discarded.\n",
      "└ @ MathOptInterface.Utilities /Users/dc/.julia/packages/MathOptInterface/A2UPd/src/Utilities/copy.jl:140\n",
      "┌ Warning: MathOptInterface.VariablePrimalStart() is not supported by MathOptInterface.Bridges.LazyBridgeOptimizer{MosekModel}. This \n",
      "│   information will be discarded. = information will be discarded.\n",
      "└ @ MathOptInterface.Utilities /Users/dc/.julia/packages/MathOptInterface/A2UPd/src/Utilities/copy.jl:140\n",
      "┌ Warning: MathOptInterface.VariablePrimalStart() is not supported by MathOptInterface.Bridges.LazyBridgeOptimizer{MosekModel}. This \n",
      "│   information will be discarded. = information will be discarded.\n",
      "└ @ MathOptInterface.Utilities /Users/dc/.julia/packages/MathOptInterface/A2UPd/src/Utilities/copy.jl:140\n",
      "┌ Warning: MathOptInterface.VariablePrimalStart() is not supported by MathOptInterface.Bridges.LazyBridgeOptimizer{MosekModel}. This \n",
      "│   information will be discarded. = information will be discarded.\n",
      "└ @ MathOptInterface.Utilities /Users/dc/.julia/packages/MathOptInterface/A2UPd/src/Utilities/copy.jl:140\n",
      "┌ Warning: MathOptInterface.VariablePrimalStart() is not supported by MathOptInterface.Bridges.LazyBridgeOptimizer{MosekModel}. This \n",
      "│   information will be discarded. = information will be discarded.\n",
      "└ @ MathOptInterface.Utilities /Users/dc/.julia/packages/MathOptInterface/A2UPd/src/Utilities/copy.jl:140\n",
      "┌ Warning: MathOptInterface.VariablePrimalStart() is not supported by MathOptInterface.Bridges.LazyBridgeOptimizer{MosekModel}. This \n",
      "│   information will be discarded. = information will be discarded.\n",
      "└ @ MathOptInterface.Utilities /Users/dc/.julia/packages/MathOptInterface/A2UPd/src/Utilities/copy.jl:140\n",
      "┌ Warning: MathOptInterface.VariablePrimalStart() is not supported by MathOptInterface.Bridges.LazyBridgeOptimizer{MosekModel}. This \n",
      "│   information will be discarded. = information will be discarded.\n",
      "└ @ MathOptInterface.Utilities /Users/dc/.julia/packages/MathOptInterface/A2UPd/src/Utilities/copy.jl:140\n",
      "┌ Warning: MathOptInterface.VariablePrimalStart() is not supported by MathOptInterface.Bridges.LazyBridgeOptimizer{MosekModel}. This \n",
      "│   information will be discarded. = information will be discarded.\n",
      "└ @ MathOptInterface.Utilities /Users/dc/.julia/packages/MathOptInterface/A2UPd/src/Utilities/copy.jl:140\n",
      "┌ Warning: MathOptInterface.VariablePrimalStart() is not supported by MathOptInterface.Bridges.LazyBridgeOptimizer{MosekModel}. This \n",
      "│   information will be discarded. = information will be discarded.\n",
      "└ @ MathOptInterface.Utilities /Users/dc/.julia/packages/MathOptInterface/A2UPd/src/Utilities/copy.jl:140\n",
      "┌ Warning: MathOptInterface.VariablePrimalStart() is not supported by MathOptInterface.Bridges.LazyBridgeOptimizer{MosekModel}. This \n",
      "│   information will be discarded. = information will be discarded.\n",
      "└ @ MathOptInterface.Utilities /Users/dc/.julia/packages/MathOptInterface/A2UPd/src/Utilities/copy.jl:140\n",
      "┌ Warning: MathOptInterface.VariablePrimalStart() is not supported by MathOptInterface.Bridges.LazyBridgeOptimizer{MosekModel}. This \n",
      "│   information will be discarded. = information will be discarded.\n",
      "└ @ MathOptInterface.Utilities /Users/dc/.julia/packages/MathOptInterface/A2UPd/src/Utilities/copy.jl:140\n",
      "┌ Warning: MathOptInterface.VariablePrimalStart() is not supported by MathOptInterface.Bridges.LazyBridgeOptimizer{MosekModel}. This \n",
      "│   information will be discarded. = information will be discarded.\n",
      "└ @ MathOptInterface.Utilities /Users/dc/.julia/packages/MathOptInterface/A2UPd/src/Utilities/copy.jl:140\n",
      "┌ Warning: MathOptInterface.VariablePrimalStart() is not supported by MathOptInterface.Bridges.LazyBridgeOptimizer{MosekModel}. This \n",
      "│   information will be discarded. = information will be discarded.\n",
      "└ @ MathOptInterface.Utilities /Users/dc/.julia/packages/MathOptInterface/A2UPd/src/Utilities/copy.jl:140\n",
      "┌ Warning: MathOptInterface.VariablePrimalStart() is not supported by MathOptInterface.Bridges.LazyBridgeOptimizer{MosekModel}. This \n",
      "│   information will be discarded. = information will be discarded.\n",
      "└ @ MathOptInterface.Utilities /Users/dc/.julia/packages/MathOptInterface/A2UPd/src/Utilities/copy.jl:140\n",
      "┌ Warning: MathOptInterface.VariablePrimalStart() is not supported by MathOptInterface.Bridges.LazyBridgeOptimizer{MosekModel}. This \n",
      "│   information will be discarded. = information will be discarded.\n",
      "└ @ MathOptInterface.Utilities /Users/dc/.julia/packages/MathOptInterface/A2UPd/src/Utilities/copy.jl:140\n",
      "┌ Warning: MathOptInterface.VariablePrimalStart() is not supported by MathOptInterface.Bridges.LazyBridgeOptimizer{MosekModel}. This \n",
      "│   information will be discarded. = information will be discarded.\n",
      "└ @ MathOptInterface.Utilities /Users/dc/.julia/packages/MathOptInterface/A2UPd/src/Utilities/copy.jl:140\n",
      "┌ Warning: MathOptInterface.VariablePrimalStart() is not supported by MathOptInterface.Bridges.LazyBridgeOptimizer{MosekModel}. This \n",
      "│   information will be discarded. = information will be discarded.\n",
      "└ @ MathOptInterface.Utilities /Users/dc/.julia/packages/MathOptInterface/A2UPd/src/Utilities/copy.jl:140\n",
      "┌ Warning: MathOptInterface.VariablePrimalStart() is not supported by MathOptInterface.Bridges.LazyBridgeOptimizer{MosekModel}. This \n",
      "│   information will be discarded. = information will be discarded.\n",
      "└ @ MathOptInterface.Utilities /Users/dc/.julia/packages/MathOptInterface/A2UPd/src/Utilities/copy.jl:140\n",
      "┌ Warning: MathOptInterface.VariablePrimalStart() is not supported by MathOptInterface.Bridges.LazyBridgeOptimizer{MosekModel}. This \n",
      "│   information will be discarded. = information will be discarded.\n",
      "└ @ MathOptInterface.Utilities /Users/dc/.julia/packages/MathOptInterface/A2UPd/src/Utilities/copy.jl:140\n"
     ]
    },
    {
     "name": "stdout",
     "output_type": "stream",
     "text": [
      "progress: 12/20\n"
     ]
    },
    {
     "name": "stderr",
     "output_type": "stream",
     "text": [
      "┌ Warning: MathOptInterface.VariablePrimalStart() is not supported by MathOptInterface.Bridges.LazyBridgeOptimizer{MosekModel}. This \n",
      "│   information will be discarded. = information will be discarded.\n",
      "└ @ MathOptInterface.Utilities /Users/dc/.julia/packages/MathOptInterface/A2UPd/src/Utilities/copy.jl:140\n",
      "┌ Warning: MathOptInterface.VariablePrimalStart() is not supported by MathOptInterface.Bridges.LazyBridgeOptimizer{MosekModel}. This \n",
      "│   information will be discarded. = information will be discarded.\n",
      "└ @ MathOptInterface.Utilities /Users/dc/.julia/packages/MathOptInterface/A2UPd/src/Utilities/copy.jl:140\n",
      "┌ Warning: MathOptInterface.VariablePrimalStart() is not supported by MathOptInterface.Bridges.LazyBridgeOptimizer{MosekModel}. This \n",
      "│   information will be discarded. = information will be discarded.\n",
      "└ @ MathOptInterface.Utilities /Users/dc/.julia/packages/MathOptInterface/A2UPd/src/Utilities/copy.jl:140\n",
      "┌ Warning: MathOptInterface.VariablePrimalStart() is not supported by MathOptInterface.Bridges.LazyBridgeOptimizer{MosekModel}. This \n",
      "│   information will be discarded. = information will be discarded.\n",
      "└ @ MathOptInterface.Utilities /Users/dc/.julia/packages/MathOptInterface/A2UPd/src/Utilities/copy.jl:140\n",
      "┌ Warning: MathOptInterface.VariablePrimalStart() is not supported by MathOptInterface.Bridges.LazyBridgeOptimizer{MosekModel}. This \n",
      "│   information will be discarded. = information will be discarded.\n",
      "└ @ MathOptInterface.Utilities /Users/dc/.julia/packages/MathOptInterface/A2UPd/src/Utilities/copy.jl:140\n",
      "┌ Warning: MathOptInterface.VariablePrimalStart() is not supported by MathOptInterface.Bridges.LazyBridgeOptimizer{MosekModel}. This \n",
      "│   information will be discarded. = information will be discarded.\n",
      "└ @ MathOptInterface.Utilities /Users/dc/.julia/packages/MathOptInterface/A2UPd/src/Utilities/copy.jl:140\n",
      "┌ Warning: MathOptInterface.VariablePrimalStart() is not supported by MathOptInterface.Bridges.LazyBridgeOptimizer{MosekModel}. This \n",
      "│   information will be discarded. = information will be discarded.\n",
      "└ @ MathOptInterface.Utilities /Users/dc/.julia/packages/MathOptInterface/A2UPd/src/Utilities/copy.jl:140\n",
      "┌ Warning: MathOptInterface.VariablePrimalStart() is not supported by MathOptInterface.Bridges.LazyBridgeOptimizer{MosekModel}. This \n",
      "│   information will be discarded. = information will be discarded.\n",
      "└ @ MathOptInterface.Utilities /Users/dc/.julia/packages/MathOptInterface/A2UPd/src/Utilities/copy.jl:140\n",
      "┌ Warning: MathOptInterface.VariablePrimalStart() is not supported by MathOptInterface.Bridges.LazyBridgeOptimizer{MosekModel}. This \n",
      "│   information will be discarded. = information will be discarded.\n",
      "└ @ MathOptInterface.Utilities /Users/dc/.julia/packages/MathOptInterface/A2UPd/src/Utilities/copy.jl:140\n",
      "┌ Warning: MathOptInterface.VariablePrimalStart() is not supported by MathOptInterface.Bridges.LazyBridgeOptimizer{MosekModel}. This \n",
      "│   information will be discarded. = information will be discarded.\n",
      "└ @ MathOptInterface.Utilities /Users/dc/.julia/packages/MathOptInterface/A2UPd/src/Utilities/copy.jl:140\n",
      "┌ Warning: MathOptInterface.VariablePrimalStart() is not supported by MathOptInterface.Bridges.LazyBridgeOptimizer{MosekModel}. This \n",
      "│   information will be discarded. = information will be discarded.\n",
      "└ @ MathOptInterface.Utilities /Users/dc/.julia/packages/MathOptInterface/A2UPd/src/Utilities/copy.jl:140\n",
      "┌ Warning: MathOptInterface.VariablePrimalStart() is not supported by MathOptInterface.Bridges.LazyBridgeOptimizer{MosekModel}. This \n",
      "│   information will be discarded. = information will be discarded.\n",
      "└ @ MathOptInterface.Utilities /Users/dc/.julia/packages/MathOptInterface/A2UPd/src/Utilities/copy.jl:140\n",
      "┌ Warning: MathOptInterface.VariablePrimalStart() is not supported by MathOptInterface.Bridges.LazyBridgeOptimizer{MosekModel}. This \n",
      "│   information will be discarded. = information will be discarded.\n",
      "└ @ MathOptInterface.Utilities /Users/dc/.julia/packages/MathOptInterface/A2UPd/src/Utilities/copy.jl:140\n",
      "┌ Warning: MathOptInterface.VariablePrimalStart() is not supported by MathOptInterface.Bridges.LazyBridgeOptimizer{MosekModel}. This \n",
      "│   information will be discarded. = information will be discarded.\n",
      "└ @ MathOptInterface.Utilities /Users/dc/.julia/packages/MathOptInterface/A2UPd/src/Utilities/copy.jl:140\n",
      "┌ Warning: MathOptInterface.VariablePrimalStart() is not supported by MathOptInterface.Bridges.LazyBridgeOptimizer{MosekModel}. This \n",
      "│   information will be discarded. = information will be discarded.\n",
      "└ @ MathOptInterface.Utilities /Users/dc/.julia/packages/MathOptInterface/A2UPd/src/Utilities/copy.jl:140\n",
      "┌ Warning: MathOptInterface.VariablePrimalStart() is not supported by MathOptInterface.Bridges.LazyBridgeOptimizer{MosekModel}. This \n",
      "│   information will be discarded. = information will be discarded.\n",
      "└ @ MathOptInterface.Utilities /Users/dc/.julia/packages/MathOptInterface/A2UPd/src/Utilities/copy.jl:140\n",
      "┌ Warning: MathOptInterface.VariablePrimalStart() is not supported by MathOptInterface.Bridges.LazyBridgeOptimizer{MosekModel}. This \n",
      "│   information will be discarded. = information will be discarded.\n",
      "└ @ MathOptInterface.Utilities /Users/dc/.julia/packages/MathOptInterface/A2UPd/src/Utilities/copy.jl:140\n",
      "┌ Warning: MathOptInterface.VariablePrimalStart() is not supported by MathOptInterface.Bridges.LazyBridgeOptimizer{MosekModel}. This \n",
      "│   information will be discarded. = information will be discarded.\n",
      "└ @ MathOptInterface.Utilities /Users/dc/.julia/packages/MathOptInterface/A2UPd/src/Utilities/copy.jl:140\n",
      "┌ Warning: MathOptInterface.VariablePrimalStart() is not supported by MathOptInterface.Bridges.LazyBridgeOptimizer{MosekModel}. This \n",
      "│   information will be discarded. = information will be discarded.\n",
      "└ @ MathOptInterface.Utilities /Users/dc/.julia/packages/MathOptInterface/A2UPd/src/Utilities/copy.jl:140\n",
      "┌ Warning: MathOptInterface.VariablePrimalStart() is not supported by MathOptInterface.Bridges.LazyBridgeOptimizer{MosekModel}. This \n",
      "│   information will be discarded. = information will be discarded.\n",
      "└ @ MathOptInterface.Utilities /Users/dc/.julia/packages/MathOptInterface/A2UPd/src/Utilities/copy.jl:140\n"
     ]
    },
    {
     "name": "stdout",
     "output_type": "stream",
     "text": [
      "progress: 13/20\n"
     ]
    },
    {
     "name": "stderr",
     "output_type": "stream",
     "text": [
      "┌ Warning: MathOptInterface.VariablePrimalStart() is not supported by MathOptInterface.Bridges.LazyBridgeOptimizer{MosekModel}. This \n",
      "│   information will be discarded. = information will be discarded.\n",
      "└ @ MathOptInterface.Utilities /Users/dc/.julia/packages/MathOptInterface/A2UPd/src/Utilities/copy.jl:140\n",
      "┌ Warning: MathOptInterface.VariablePrimalStart() is not supported by MathOptInterface.Bridges.LazyBridgeOptimizer{MosekModel}. This \n",
      "│   information will be discarded. = information will be discarded.\n",
      "└ @ MathOptInterface.Utilities /Users/dc/.julia/packages/MathOptInterface/A2UPd/src/Utilities/copy.jl:140\n",
      "┌ Warning: MathOptInterface.VariablePrimalStart() is not supported by MathOptInterface.Bridges.LazyBridgeOptimizer{MosekModel}. This \n",
      "│   information will be discarded. = information will be discarded.\n",
      "└ @ MathOptInterface.Utilities /Users/dc/.julia/packages/MathOptInterface/A2UPd/src/Utilities/copy.jl:140\n",
      "┌ Warning: MathOptInterface.VariablePrimalStart() is not supported by MathOptInterface.Bridges.LazyBridgeOptimizer{MosekModel}. This \n",
      "│   information will be discarded. = information will be discarded.\n",
      "└ @ MathOptInterface.Utilities /Users/dc/.julia/packages/MathOptInterface/A2UPd/src/Utilities/copy.jl:140\n",
      "┌ Warning: MathOptInterface.VariablePrimalStart() is not supported by MathOptInterface.Bridges.LazyBridgeOptimizer{MosekModel}. This \n",
      "│   information will be discarded. = information will be discarded.\n",
      "└ @ MathOptInterface.Utilities /Users/dc/.julia/packages/MathOptInterface/A2UPd/src/Utilities/copy.jl:140\n",
      "┌ Warning: MathOptInterface.VariablePrimalStart() is not supported by MathOptInterface.Bridges.LazyBridgeOptimizer{MosekModel}. This \n",
      "│   information will be discarded. = information will be discarded.\n",
      "└ @ MathOptInterface.Utilities /Users/dc/.julia/packages/MathOptInterface/A2UPd/src/Utilities/copy.jl:140\n",
      "┌ Warning: MathOptInterface.VariablePrimalStart() is not supported by MathOptInterface.Bridges.LazyBridgeOptimizer{MosekModel}. This \n",
      "│   information will be discarded. = information will be discarded.\n",
      "└ @ MathOptInterface.Utilities /Users/dc/.julia/packages/MathOptInterface/A2UPd/src/Utilities/copy.jl:140\n",
      "┌ Warning: MathOptInterface.VariablePrimalStart() is not supported by MathOptInterface.Bridges.LazyBridgeOptimizer{MosekModel}. This \n",
      "│   information will be discarded. = information will be discarded.\n",
      "└ @ MathOptInterface.Utilities /Users/dc/.julia/packages/MathOptInterface/A2UPd/src/Utilities/copy.jl:140\n",
      "┌ Warning: MathOptInterface.VariablePrimalStart() is not supported by MathOptInterface.Bridges.LazyBridgeOptimizer{MosekModel}. This \n",
      "│   information will be discarded. = information will be discarded.\n",
      "└ @ MathOptInterface.Utilities /Users/dc/.julia/packages/MathOptInterface/A2UPd/src/Utilities/copy.jl:140\n",
      "┌ Warning: MathOptInterface.VariablePrimalStart() is not supported by MathOptInterface.Bridges.LazyBridgeOptimizer{MosekModel}. This \n",
      "│   information will be discarded. = information will be discarded.\n",
      "└ @ MathOptInterface.Utilities /Users/dc/.julia/packages/MathOptInterface/A2UPd/src/Utilities/copy.jl:140\n",
      "┌ Warning: MathOptInterface.VariablePrimalStart() is not supported by MathOptInterface.Bridges.LazyBridgeOptimizer{MosekModel}. This \n",
      "│   information will be discarded. = information will be discarded.\n",
      "└ @ MathOptInterface.Utilities /Users/dc/.julia/packages/MathOptInterface/A2UPd/src/Utilities/copy.jl:140\n",
      "┌ Warning: MathOptInterface.VariablePrimalStart() is not supported by MathOptInterface.Bridges.LazyBridgeOptimizer{MosekModel}. This \n",
      "│   information will be discarded. = information will be discarded.\n",
      "└ @ MathOptInterface.Utilities /Users/dc/.julia/packages/MathOptInterface/A2UPd/src/Utilities/copy.jl:140\n",
      "┌ Warning: MathOptInterface.VariablePrimalStart() is not supported by MathOptInterface.Bridges.LazyBridgeOptimizer{MosekModel}. This \n",
      "│   information will be discarded. = information will be discarded.\n",
      "└ @ MathOptInterface.Utilities /Users/dc/.julia/packages/MathOptInterface/A2UPd/src/Utilities/copy.jl:140\n",
      "┌ Warning: MathOptInterface.VariablePrimalStart() is not supported by MathOptInterface.Bridges.LazyBridgeOptimizer{MosekModel}. This \n",
      "│   information will be discarded. = information will be discarded.\n",
      "└ @ MathOptInterface.Utilities /Users/dc/.julia/packages/MathOptInterface/A2UPd/src/Utilities/copy.jl:140\n",
      "┌ Warning: MathOptInterface.VariablePrimalStart() is not supported by MathOptInterface.Bridges.LazyBridgeOptimizer{MosekModel}. This \n",
      "│   information will be discarded. = information will be discarded.\n",
      "└ @ MathOptInterface.Utilities /Users/dc/.julia/packages/MathOptInterface/A2UPd/src/Utilities/copy.jl:140\n",
      "┌ Warning: MathOptInterface.VariablePrimalStart() is not supported by MathOptInterface.Bridges.LazyBridgeOptimizer{MosekModel}. This \n",
      "│   information will be discarded. = information will be discarded.\n",
      "└ @ MathOptInterface.Utilities /Users/dc/.julia/packages/MathOptInterface/A2UPd/src/Utilities/copy.jl:140\n",
      "┌ Warning: MathOptInterface.VariablePrimalStart() is not supported by MathOptInterface.Bridges.LazyBridgeOptimizer{MosekModel}. This \n",
      "│   information will be discarded. = information will be discarded.\n",
      "└ @ MathOptInterface.Utilities /Users/dc/.julia/packages/MathOptInterface/A2UPd/src/Utilities/copy.jl:140\n",
      "┌ Warning: MathOptInterface.VariablePrimalStart() is not supported by MathOptInterface.Bridges.LazyBridgeOptimizer{MosekModel}. This \n",
      "│   information will be discarded. = information will be discarded.\n",
      "└ @ MathOptInterface.Utilities /Users/dc/.julia/packages/MathOptInterface/A2UPd/src/Utilities/copy.jl:140\n",
      "┌ Warning: MathOptInterface.VariablePrimalStart() is not supported by MathOptInterface.Bridges.LazyBridgeOptimizer{MosekModel}. This \n",
      "│   information will be discarded. = information will be discarded.\n",
      "└ @ MathOptInterface.Utilities /Users/dc/.julia/packages/MathOptInterface/A2UPd/src/Utilities/copy.jl:140\n",
      "┌ Warning: MathOptInterface.VariablePrimalStart() is not supported by MathOptInterface.Bridges.LazyBridgeOptimizer{MosekModel}. This \n",
      "│   information will be discarded. = information will be discarded.\n",
      "└ @ MathOptInterface.Utilities /Users/dc/.julia/packages/MathOptInterface/A2UPd/src/Utilities/copy.jl:140\n"
     ]
    },
    {
     "name": "stdout",
     "output_type": "stream",
     "text": [
      "progress: 14/20\n"
     ]
    },
    {
     "name": "stderr",
     "output_type": "stream",
     "text": [
      "┌ Warning: MathOptInterface.VariablePrimalStart() is not supported by MathOptInterface.Bridges.LazyBridgeOptimizer{MosekModel}. This \n",
      "│   information will be discarded. = information will be discarded.\n",
      "└ @ MathOptInterface.Utilities /Users/dc/.julia/packages/MathOptInterface/A2UPd/src/Utilities/copy.jl:140\n",
      "┌ Warning: MathOptInterface.VariablePrimalStart() is not supported by MathOptInterface.Bridges.LazyBridgeOptimizer{MosekModel}. This \n",
      "│   information will be discarded. = information will be discarded.\n",
      "└ @ MathOptInterface.Utilities /Users/dc/.julia/packages/MathOptInterface/A2UPd/src/Utilities/copy.jl:140\n",
      "┌ Warning: MathOptInterface.VariablePrimalStart() is not supported by MathOptInterface.Bridges.LazyBridgeOptimizer{MosekModel}. This \n",
      "│   information will be discarded. = information will be discarded.\n",
      "└ @ MathOptInterface.Utilities /Users/dc/.julia/packages/MathOptInterface/A2UPd/src/Utilities/copy.jl:140\n",
      "┌ Warning: MathOptInterface.VariablePrimalStart() is not supported by MathOptInterface.Bridges.LazyBridgeOptimizer{MosekModel}. This \n",
      "│   information will be discarded. = information will be discarded.\n",
      "└ @ MathOptInterface.Utilities /Users/dc/.julia/packages/MathOptInterface/A2UPd/src/Utilities/copy.jl:140\n",
      "┌ Warning: MathOptInterface.VariablePrimalStart() is not supported by MathOptInterface.Bridges.LazyBridgeOptimizer{MosekModel}. This \n",
      "│   information will be discarded. = information will be discarded.\n",
      "└ @ MathOptInterface.Utilities /Users/dc/.julia/packages/MathOptInterface/A2UPd/src/Utilities/copy.jl:140\n",
      "┌ Warning: MathOptInterface.VariablePrimalStart() is not supported by MathOptInterface.Bridges.LazyBridgeOptimizer{MosekModel}. This \n",
      "│   information will be discarded. = information will be discarded.\n",
      "└ @ MathOptInterface.Utilities /Users/dc/.julia/packages/MathOptInterface/A2UPd/src/Utilities/copy.jl:140\n",
      "┌ Warning: MathOptInterface.VariablePrimalStart() is not supported by MathOptInterface.Bridges.LazyBridgeOptimizer{MosekModel}. This \n",
      "│   information will be discarded. = information will be discarded.\n",
      "└ @ MathOptInterface.Utilities /Users/dc/.julia/packages/MathOptInterface/A2UPd/src/Utilities/copy.jl:140\n",
      "┌ Warning: MathOptInterface.VariablePrimalStart() is not supported by MathOptInterface.Bridges.LazyBridgeOptimizer{MosekModel}. This \n",
      "│   information will be discarded. = information will be discarded.\n",
      "└ @ MathOptInterface.Utilities /Users/dc/.julia/packages/MathOptInterface/A2UPd/src/Utilities/copy.jl:140\n",
      "┌ Warning: MathOptInterface.VariablePrimalStart() is not supported by MathOptInterface.Bridges.LazyBridgeOptimizer{MosekModel}. This \n",
      "│   information will be discarded. = information will be discarded.\n",
      "└ @ MathOptInterface.Utilities /Users/dc/.julia/packages/MathOptInterface/A2UPd/src/Utilities/copy.jl:140\n",
      "┌ Warning: MathOptInterface.VariablePrimalStart() is not supported by MathOptInterface.Bridges.LazyBridgeOptimizer{MosekModel}. This \n",
      "│   information will be discarded. = information will be discarded.\n",
      "└ @ MathOptInterface.Utilities /Users/dc/.julia/packages/MathOptInterface/A2UPd/src/Utilities/copy.jl:140\n",
      "┌ Warning: MathOptInterface.VariablePrimalStart() is not supported by MathOptInterface.Bridges.LazyBridgeOptimizer{MosekModel}. This \n",
      "│   information will be discarded. = information will be discarded.\n",
      "└ @ MathOptInterface.Utilities /Users/dc/.julia/packages/MathOptInterface/A2UPd/src/Utilities/copy.jl:140\n",
      "┌ Warning: MathOptInterface.VariablePrimalStart() is not supported by MathOptInterface.Bridges.LazyBridgeOptimizer{MosekModel}. This \n",
      "│   information will be discarded. = information will be discarded.\n",
      "└ @ MathOptInterface.Utilities /Users/dc/.julia/packages/MathOptInterface/A2UPd/src/Utilities/copy.jl:140\n",
      "┌ Warning: MathOptInterface.VariablePrimalStart() is not supported by MathOptInterface.Bridges.LazyBridgeOptimizer{MosekModel}. This \n",
      "│   information will be discarded. = information will be discarded.\n",
      "└ @ MathOptInterface.Utilities /Users/dc/.julia/packages/MathOptInterface/A2UPd/src/Utilities/copy.jl:140\n",
      "┌ Warning: MathOptInterface.VariablePrimalStart() is not supported by MathOptInterface.Bridges.LazyBridgeOptimizer{MosekModel}. This \n",
      "│   information will be discarded. = information will be discarded.\n",
      "└ @ MathOptInterface.Utilities /Users/dc/.julia/packages/MathOptInterface/A2UPd/src/Utilities/copy.jl:140\n",
      "┌ Warning: MathOptInterface.VariablePrimalStart() is not supported by MathOptInterface.Bridges.LazyBridgeOptimizer{MosekModel}. This \n",
      "│   information will be discarded. = information will be discarded.\n",
      "└ @ MathOptInterface.Utilities /Users/dc/.julia/packages/MathOptInterface/A2UPd/src/Utilities/copy.jl:140\n",
      "┌ Warning: MathOptInterface.VariablePrimalStart() is not supported by MathOptInterface.Bridges.LazyBridgeOptimizer{MosekModel}. This \n",
      "│   information will be discarded. = information will be discarded.\n",
      "└ @ MathOptInterface.Utilities /Users/dc/.julia/packages/MathOptInterface/A2UPd/src/Utilities/copy.jl:140\n",
      "┌ Warning: MathOptInterface.VariablePrimalStart() is not supported by MathOptInterface.Bridges.LazyBridgeOptimizer{MosekModel}. This \n",
      "│   information will be discarded. = information will be discarded.\n",
      "└ @ MathOptInterface.Utilities /Users/dc/.julia/packages/MathOptInterface/A2UPd/src/Utilities/copy.jl:140\n",
      "┌ Warning: MathOptInterface.VariablePrimalStart() is not supported by MathOptInterface.Bridges.LazyBridgeOptimizer{MosekModel}. This \n",
      "│   information will be discarded. = information will be discarded.\n",
      "└ @ MathOptInterface.Utilities /Users/dc/.julia/packages/MathOptInterface/A2UPd/src/Utilities/copy.jl:140\n",
      "┌ Warning: MathOptInterface.VariablePrimalStart() is not supported by MathOptInterface.Bridges.LazyBridgeOptimizer{MosekModel}. This \n",
      "│   information will be discarded. = information will be discarded.\n",
      "└ @ MathOptInterface.Utilities /Users/dc/.julia/packages/MathOptInterface/A2UPd/src/Utilities/copy.jl:140\n",
      "┌ Warning: MathOptInterface.VariablePrimalStart() is not supported by MathOptInterface.Bridges.LazyBridgeOptimizer{MosekModel}. This \n",
      "│   information will be discarded. = information will be discarded.\n",
      "└ @ MathOptInterface.Utilities /Users/dc/.julia/packages/MathOptInterface/A2UPd/src/Utilities/copy.jl:140\n"
     ]
    },
    {
     "name": "stdout",
     "output_type": "stream",
     "text": [
      "progress: 15/20\n"
     ]
    },
    {
     "name": "stderr",
     "output_type": "stream",
     "text": [
      "┌ Warning: MathOptInterface.VariablePrimalStart() is not supported by MathOptInterface.Bridges.LazyBridgeOptimizer{MosekModel}. This \n",
      "│   information will be discarded. = information will be discarded.\n",
      "└ @ MathOptInterface.Utilities /Users/dc/.julia/packages/MathOptInterface/A2UPd/src/Utilities/copy.jl:140\n",
      "┌ Warning: MathOptInterface.VariablePrimalStart() is not supported by MathOptInterface.Bridges.LazyBridgeOptimizer{MosekModel}. This \n",
      "│   information will be discarded. = information will be discarded.\n",
      "└ @ MathOptInterface.Utilities /Users/dc/.julia/packages/MathOptInterface/A2UPd/src/Utilities/copy.jl:140\n",
      "┌ Warning: MathOptInterface.VariablePrimalStart() is not supported by MathOptInterface.Bridges.LazyBridgeOptimizer{MosekModel}. This \n",
      "│   information will be discarded. = information will be discarded.\n",
      "└ @ MathOptInterface.Utilities /Users/dc/.julia/packages/MathOptInterface/A2UPd/src/Utilities/copy.jl:140\n",
      "┌ Warning: MathOptInterface.VariablePrimalStart() is not supported by MathOptInterface.Bridges.LazyBridgeOptimizer{MosekModel}. This \n",
      "│   information will be discarded. = information will be discarded.\n",
      "└ @ MathOptInterface.Utilities /Users/dc/.julia/packages/MathOptInterface/A2UPd/src/Utilities/copy.jl:140\n",
      "┌ Warning: MathOptInterface.VariablePrimalStart() is not supported by MathOptInterface.Bridges.LazyBridgeOptimizer{MosekModel}. This \n",
      "│   information will be discarded. = information will be discarded.\n",
      "└ @ MathOptInterface.Utilities /Users/dc/.julia/packages/MathOptInterface/A2UPd/src/Utilities/copy.jl:140\n",
      "┌ Warning: MathOptInterface.VariablePrimalStart() is not supported by MathOptInterface.Bridges.LazyBridgeOptimizer{MosekModel}. This \n",
      "│   information will be discarded. = information will be discarded.\n",
      "└ @ MathOptInterface.Utilities /Users/dc/.julia/packages/MathOptInterface/A2UPd/src/Utilities/copy.jl:140\n",
      "┌ Warning: MathOptInterface.VariablePrimalStart() is not supported by MathOptInterface.Bridges.LazyBridgeOptimizer{MosekModel}. This \n",
      "│   information will be discarded. = information will be discarded.\n",
      "└ @ MathOptInterface.Utilities /Users/dc/.julia/packages/MathOptInterface/A2UPd/src/Utilities/copy.jl:140\n",
      "┌ Warning: MathOptInterface.VariablePrimalStart() is not supported by MathOptInterface.Bridges.LazyBridgeOptimizer{MosekModel}. This \n",
      "│   information will be discarded. = information will be discarded.\n",
      "└ @ MathOptInterface.Utilities /Users/dc/.julia/packages/MathOptInterface/A2UPd/src/Utilities/copy.jl:140\n",
      "┌ Warning: MathOptInterface.VariablePrimalStart() is not supported by MathOptInterface.Bridges.LazyBridgeOptimizer{MosekModel}. This \n",
      "│   information will be discarded. = information will be discarded.\n",
      "└ @ MathOptInterface.Utilities /Users/dc/.julia/packages/MathOptInterface/A2UPd/src/Utilities/copy.jl:140\n",
      "┌ Warning: MathOptInterface.VariablePrimalStart() is not supported by MathOptInterface.Bridges.LazyBridgeOptimizer{MosekModel}. This \n",
      "│   information will be discarded. = information will be discarded.\n",
      "└ @ MathOptInterface.Utilities /Users/dc/.julia/packages/MathOptInterface/A2UPd/src/Utilities/copy.jl:140\n",
      "┌ Warning: MathOptInterface.VariablePrimalStart() is not supported by MathOptInterface.Bridges.LazyBridgeOptimizer{MosekModel}. This \n",
      "│   information will be discarded. = information will be discarded.\n",
      "└ @ MathOptInterface.Utilities /Users/dc/.julia/packages/MathOptInterface/A2UPd/src/Utilities/copy.jl:140\n",
      "┌ Warning: MathOptInterface.VariablePrimalStart() is not supported by MathOptInterface.Bridges.LazyBridgeOptimizer{MosekModel}. This \n",
      "│   information will be discarded. = information will be discarded.\n",
      "└ @ MathOptInterface.Utilities /Users/dc/.julia/packages/MathOptInterface/A2UPd/src/Utilities/copy.jl:140\n",
      "┌ Warning: MathOptInterface.VariablePrimalStart() is not supported by MathOptInterface.Bridges.LazyBridgeOptimizer{MosekModel}. This \n",
      "│   information will be discarded. = information will be discarded.\n",
      "└ @ MathOptInterface.Utilities /Users/dc/.julia/packages/MathOptInterface/A2UPd/src/Utilities/copy.jl:140\n",
      "┌ Warning: MathOptInterface.VariablePrimalStart() is not supported by MathOptInterface.Bridges.LazyBridgeOptimizer{MosekModel}. This \n",
      "│   information will be discarded. = information will be discarded.\n",
      "└ @ MathOptInterface.Utilities /Users/dc/.julia/packages/MathOptInterface/A2UPd/src/Utilities/copy.jl:140\n",
      "┌ Warning: MathOptInterface.VariablePrimalStart() is not supported by MathOptInterface.Bridges.LazyBridgeOptimizer{MosekModel}. This \n",
      "│   information will be discarded. = information will be discarded.\n",
      "└ @ MathOptInterface.Utilities /Users/dc/.julia/packages/MathOptInterface/A2UPd/src/Utilities/copy.jl:140\n",
      "┌ Warning: MathOptInterface.VariablePrimalStart() is not supported by MathOptInterface.Bridges.LazyBridgeOptimizer{MosekModel}. This \n",
      "│   information will be discarded. = information will be discarded.\n",
      "└ @ MathOptInterface.Utilities /Users/dc/.julia/packages/MathOptInterface/A2UPd/src/Utilities/copy.jl:140\n",
      "┌ Warning: MathOptInterface.VariablePrimalStart() is not supported by MathOptInterface.Bridges.LazyBridgeOptimizer{MosekModel}. This \n",
      "│   information will be discarded. = information will be discarded.\n",
      "└ @ MathOptInterface.Utilities /Users/dc/.julia/packages/MathOptInterface/A2UPd/src/Utilities/copy.jl:140\n",
      "┌ Warning: MathOptInterface.VariablePrimalStart() is not supported by MathOptInterface.Bridges.LazyBridgeOptimizer{MosekModel}. This \n",
      "│   information will be discarded. = information will be discarded.\n",
      "└ @ MathOptInterface.Utilities /Users/dc/.julia/packages/MathOptInterface/A2UPd/src/Utilities/copy.jl:140\n",
      "┌ Warning: MathOptInterface.VariablePrimalStart() is not supported by MathOptInterface.Bridges.LazyBridgeOptimizer{MosekModel}. This \n",
      "│   information will be discarded. = information will be discarded.\n",
      "└ @ MathOptInterface.Utilities /Users/dc/.julia/packages/MathOptInterface/A2UPd/src/Utilities/copy.jl:140\n",
      "┌ Warning: MathOptInterface.VariablePrimalStart() is not supported by MathOptInterface.Bridges.LazyBridgeOptimizer{MosekModel}. This \n",
      "│   information will be discarded. = information will be discarded.\n",
      "└ @ MathOptInterface.Utilities /Users/dc/.julia/packages/MathOptInterface/A2UPd/src/Utilities/copy.jl:140\n"
     ]
    },
    {
     "name": "stdout",
     "output_type": "stream",
     "text": [
      "progress: 16/20\n"
     ]
    },
    {
     "name": "stderr",
     "output_type": "stream",
     "text": [
      "┌ Warning: MathOptInterface.VariablePrimalStart() is not supported by MathOptInterface.Bridges.LazyBridgeOptimizer{MosekModel}. This \n",
      "│   information will be discarded. = information will be discarded.\n",
      "└ @ MathOptInterface.Utilities /Users/dc/.julia/packages/MathOptInterface/A2UPd/src/Utilities/copy.jl:140\n",
      "┌ Warning: MathOptInterface.VariablePrimalStart() is not supported by MathOptInterface.Bridges.LazyBridgeOptimizer{MosekModel}. This \n",
      "│   information will be discarded. = information will be discarded.\n",
      "└ @ MathOptInterface.Utilities /Users/dc/.julia/packages/MathOptInterface/A2UPd/src/Utilities/copy.jl:140\n",
      "┌ Warning: MathOptInterface.VariablePrimalStart() is not supported by MathOptInterface.Bridges.LazyBridgeOptimizer{MosekModel}. This \n",
      "│   information will be discarded. = information will be discarded.\n",
      "└ @ MathOptInterface.Utilities /Users/dc/.julia/packages/MathOptInterface/A2UPd/src/Utilities/copy.jl:140\n",
      "┌ Warning: MathOptInterface.VariablePrimalStart() is not supported by MathOptInterface.Bridges.LazyBridgeOptimizer{MosekModel}. This \n",
      "│   information will be discarded. = information will be discarded.\n",
      "└ @ MathOptInterface.Utilities /Users/dc/.julia/packages/MathOptInterface/A2UPd/src/Utilities/copy.jl:140\n",
      "┌ Warning: MathOptInterface.VariablePrimalStart() is not supported by MathOptInterface.Bridges.LazyBridgeOptimizer{MosekModel}. This \n",
      "│   information will be discarded. = information will be discarded.\n",
      "└ @ MathOptInterface.Utilities /Users/dc/.julia/packages/MathOptInterface/A2UPd/src/Utilities/copy.jl:140\n",
      "┌ Warning: MathOptInterface.VariablePrimalStart() is not supported by MathOptInterface.Bridges.LazyBridgeOptimizer{MosekModel}. This \n",
      "│   information will be discarded. = information will be discarded.\n",
      "└ @ MathOptInterface.Utilities /Users/dc/.julia/packages/MathOptInterface/A2UPd/src/Utilities/copy.jl:140\n",
      "┌ Warning: MathOptInterface.VariablePrimalStart() is not supported by MathOptInterface.Bridges.LazyBridgeOptimizer{MosekModel}. This \n",
      "│   information will be discarded. = information will be discarded.\n",
      "└ @ MathOptInterface.Utilities /Users/dc/.julia/packages/MathOptInterface/A2UPd/src/Utilities/copy.jl:140\n",
      "┌ Warning: MathOptInterface.VariablePrimalStart() is not supported by MathOptInterface.Bridges.LazyBridgeOptimizer{MosekModel}. This \n",
      "│   information will be discarded. = information will be discarded.\n",
      "└ @ MathOptInterface.Utilities /Users/dc/.julia/packages/MathOptInterface/A2UPd/src/Utilities/copy.jl:140\n",
      "┌ Warning: MathOptInterface.VariablePrimalStart() is not supported by MathOptInterface.Bridges.LazyBridgeOptimizer{MosekModel}. This \n",
      "│   information will be discarded. = information will be discarded.\n",
      "└ @ MathOptInterface.Utilities /Users/dc/.julia/packages/MathOptInterface/A2UPd/src/Utilities/copy.jl:140\n",
      "┌ Warning: MathOptInterface.VariablePrimalStart() is not supported by MathOptInterface.Bridges.LazyBridgeOptimizer{MosekModel}. This \n",
      "│   information will be discarded. = information will be discarded.\n",
      "└ @ MathOptInterface.Utilities /Users/dc/.julia/packages/MathOptInterface/A2UPd/src/Utilities/copy.jl:140\n",
      "┌ Warning: MathOptInterface.VariablePrimalStart() is not supported by MathOptInterface.Bridges.LazyBridgeOptimizer{MosekModel}. This \n",
      "│   information will be discarded. = information will be discarded.\n",
      "└ @ MathOptInterface.Utilities /Users/dc/.julia/packages/MathOptInterface/A2UPd/src/Utilities/copy.jl:140\n",
      "┌ Warning: MathOptInterface.VariablePrimalStart() is not supported by MathOptInterface.Bridges.LazyBridgeOptimizer{MosekModel}. This \n",
      "│   information will be discarded. = information will be discarded.\n",
      "└ @ MathOptInterface.Utilities /Users/dc/.julia/packages/MathOptInterface/A2UPd/src/Utilities/copy.jl:140\n",
      "┌ Warning: MathOptInterface.VariablePrimalStart() is not supported by MathOptInterface.Bridges.LazyBridgeOptimizer{MosekModel}. This \n",
      "│   information will be discarded. = information will be discarded.\n",
      "└ @ MathOptInterface.Utilities /Users/dc/.julia/packages/MathOptInterface/A2UPd/src/Utilities/copy.jl:140\n",
      "┌ Warning: MathOptInterface.VariablePrimalStart() is not supported by MathOptInterface.Bridges.LazyBridgeOptimizer{MosekModel}. This \n",
      "│   information will be discarded. = information will be discarded.\n",
      "└ @ MathOptInterface.Utilities /Users/dc/.julia/packages/MathOptInterface/A2UPd/src/Utilities/copy.jl:140\n",
      "┌ Warning: MathOptInterface.VariablePrimalStart() is not supported by MathOptInterface.Bridges.LazyBridgeOptimizer{MosekModel}. This \n",
      "│   information will be discarded. = information will be discarded.\n",
      "└ @ MathOptInterface.Utilities /Users/dc/.julia/packages/MathOptInterface/A2UPd/src/Utilities/copy.jl:140\n",
      "┌ Warning: MathOptInterface.VariablePrimalStart() is not supported by MathOptInterface.Bridges.LazyBridgeOptimizer{MosekModel}. This \n",
      "│   information will be discarded. = information will be discarded.\n",
      "└ @ MathOptInterface.Utilities /Users/dc/.julia/packages/MathOptInterface/A2UPd/src/Utilities/copy.jl:140\n",
      "┌ Warning: MathOptInterface.VariablePrimalStart() is not supported by MathOptInterface.Bridges.LazyBridgeOptimizer{MosekModel}. This \n",
      "│   information will be discarded. = information will be discarded.\n",
      "└ @ MathOptInterface.Utilities /Users/dc/.julia/packages/MathOptInterface/A2UPd/src/Utilities/copy.jl:140\n",
      "┌ Warning: MathOptInterface.VariablePrimalStart() is not supported by MathOptInterface.Bridges.LazyBridgeOptimizer{MosekModel}. This \n",
      "│   information will be discarded. = information will be discarded.\n",
      "└ @ MathOptInterface.Utilities /Users/dc/.julia/packages/MathOptInterface/A2UPd/src/Utilities/copy.jl:140\n",
      "┌ Warning: MathOptInterface.VariablePrimalStart() is not supported by MathOptInterface.Bridges.LazyBridgeOptimizer{MosekModel}. This \n",
      "│   information will be discarded. = information will be discarded.\n",
      "└ @ MathOptInterface.Utilities /Users/dc/.julia/packages/MathOptInterface/A2UPd/src/Utilities/copy.jl:140\n",
      "┌ Warning: MathOptInterface.VariablePrimalStart() is not supported by MathOptInterface.Bridges.LazyBridgeOptimizer{MosekModel}. This \n",
      "│   information will be discarded. = information will be discarded.\n",
      "└ @ MathOptInterface.Utilities /Users/dc/.julia/packages/MathOptInterface/A2UPd/src/Utilities/copy.jl:140\n"
     ]
    },
    {
     "name": "stdout",
     "output_type": "stream",
     "text": [
      "progress: 17/20\n"
     ]
    },
    {
     "name": "stderr",
     "output_type": "stream",
     "text": [
      "┌ Warning: MathOptInterface.VariablePrimalStart() is not supported by MathOptInterface.Bridges.LazyBridgeOptimizer{MosekModel}. This \n",
      "│   information will be discarded. = information will be discarded.\n",
      "└ @ MathOptInterface.Utilities /Users/dc/.julia/packages/MathOptInterface/A2UPd/src/Utilities/copy.jl:140\n",
      "┌ Warning: MathOptInterface.VariablePrimalStart() is not supported by MathOptInterface.Bridges.LazyBridgeOptimizer{MosekModel}. This \n",
      "│   information will be discarded. = information will be discarded.\n",
      "└ @ MathOptInterface.Utilities /Users/dc/.julia/packages/MathOptInterface/A2UPd/src/Utilities/copy.jl:140\n",
      "┌ Warning: MathOptInterface.VariablePrimalStart() is not supported by MathOptInterface.Bridges.LazyBridgeOptimizer{MosekModel}. This \n",
      "│   information will be discarded. = information will be discarded.\n",
      "└ @ MathOptInterface.Utilities /Users/dc/.julia/packages/MathOptInterface/A2UPd/src/Utilities/copy.jl:140\n",
      "┌ Warning: MathOptInterface.VariablePrimalStart() is not supported by MathOptInterface.Bridges.LazyBridgeOptimizer{MosekModel}. This \n",
      "│   information will be discarded. = information will be discarded.\n",
      "└ @ MathOptInterface.Utilities /Users/dc/.julia/packages/MathOptInterface/A2UPd/src/Utilities/copy.jl:140\n",
      "┌ Warning: MathOptInterface.VariablePrimalStart() is not supported by MathOptInterface.Bridges.LazyBridgeOptimizer{MosekModel}. This \n",
      "│   information will be discarded. = information will be discarded.\n",
      "└ @ MathOptInterface.Utilities /Users/dc/.julia/packages/MathOptInterface/A2UPd/src/Utilities/copy.jl:140\n",
      "┌ Warning: MathOptInterface.VariablePrimalStart() is not supported by MathOptInterface.Bridges.LazyBridgeOptimizer{MosekModel}. This \n",
      "│   information will be discarded. = information will be discarded.\n",
      "└ @ MathOptInterface.Utilities /Users/dc/.julia/packages/MathOptInterface/A2UPd/src/Utilities/copy.jl:140\n",
      "┌ Warning: MathOptInterface.VariablePrimalStart() is not supported by MathOptInterface.Bridges.LazyBridgeOptimizer{MosekModel}. This \n",
      "│   information will be discarded. = information will be discarded.\n",
      "└ @ MathOptInterface.Utilities /Users/dc/.julia/packages/MathOptInterface/A2UPd/src/Utilities/copy.jl:140\n",
      "┌ Warning: MathOptInterface.VariablePrimalStart() is not supported by MathOptInterface.Bridges.LazyBridgeOptimizer{MosekModel}. This \n",
      "│   information will be discarded. = information will be discarded.\n",
      "└ @ MathOptInterface.Utilities /Users/dc/.julia/packages/MathOptInterface/A2UPd/src/Utilities/copy.jl:140\n",
      "┌ Warning: MathOptInterface.VariablePrimalStart() is not supported by MathOptInterface.Bridges.LazyBridgeOptimizer{MosekModel}. This \n",
      "│   information will be discarded. = information will be discarded.\n",
      "└ @ MathOptInterface.Utilities /Users/dc/.julia/packages/MathOptInterface/A2UPd/src/Utilities/copy.jl:140\n",
      "┌ Warning: MathOptInterface.VariablePrimalStart() is not supported by MathOptInterface.Bridges.LazyBridgeOptimizer{MosekModel}. This \n",
      "│   information will be discarded. = information will be discarded.\n",
      "└ @ MathOptInterface.Utilities /Users/dc/.julia/packages/MathOptInterface/A2UPd/src/Utilities/copy.jl:140\n",
      "┌ Warning: MathOptInterface.VariablePrimalStart() is not supported by MathOptInterface.Bridges.LazyBridgeOptimizer{MosekModel}. This \n",
      "│   information will be discarded. = information will be discarded.\n",
      "└ @ MathOptInterface.Utilities /Users/dc/.julia/packages/MathOptInterface/A2UPd/src/Utilities/copy.jl:140\n",
      "┌ Warning: MathOptInterface.VariablePrimalStart() is not supported by MathOptInterface.Bridges.LazyBridgeOptimizer{MosekModel}. This \n",
      "│   information will be discarded. = information will be discarded.\n",
      "└ @ MathOptInterface.Utilities /Users/dc/.julia/packages/MathOptInterface/A2UPd/src/Utilities/copy.jl:140\n",
      "┌ Warning: MathOptInterface.VariablePrimalStart() is not supported by MathOptInterface.Bridges.LazyBridgeOptimizer{MosekModel}. This \n",
      "│   information will be discarded. = information will be discarded.\n",
      "└ @ MathOptInterface.Utilities /Users/dc/.julia/packages/MathOptInterface/A2UPd/src/Utilities/copy.jl:140\n",
      "┌ Warning: MathOptInterface.VariablePrimalStart() is not supported by MathOptInterface.Bridges.LazyBridgeOptimizer{MosekModel}. This \n",
      "│   information will be discarded. = information will be discarded.\n",
      "└ @ MathOptInterface.Utilities /Users/dc/.julia/packages/MathOptInterface/A2UPd/src/Utilities/copy.jl:140\n",
      "┌ Warning: MathOptInterface.VariablePrimalStart() is not supported by MathOptInterface.Bridges.LazyBridgeOptimizer{MosekModel}. This \n",
      "│   information will be discarded. = information will be discarded.\n",
      "└ @ MathOptInterface.Utilities /Users/dc/.julia/packages/MathOptInterface/A2UPd/src/Utilities/copy.jl:140\n",
      "┌ Warning: MathOptInterface.VariablePrimalStart() is not supported by MathOptInterface.Bridges.LazyBridgeOptimizer{MosekModel}. This \n",
      "│   information will be discarded. = information will be discarded.\n",
      "└ @ MathOptInterface.Utilities /Users/dc/.julia/packages/MathOptInterface/A2UPd/src/Utilities/copy.jl:140\n",
      "┌ Warning: MathOptInterface.VariablePrimalStart() is not supported by MathOptInterface.Bridges.LazyBridgeOptimizer{MosekModel}. This \n",
      "│   information will be discarded. = information will be discarded.\n",
      "└ @ MathOptInterface.Utilities /Users/dc/.julia/packages/MathOptInterface/A2UPd/src/Utilities/copy.jl:140\n",
      "┌ Warning: MathOptInterface.VariablePrimalStart() is not supported by MathOptInterface.Bridges.LazyBridgeOptimizer{MosekModel}. This \n",
      "│   information will be discarded. = information will be discarded.\n",
      "└ @ MathOptInterface.Utilities /Users/dc/.julia/packages/MathOptInterface/A2UPd/src/Utilities/copy.jl:140\n",
      "┌ Warning: MathOptInterface.VariablePrimalStart() is not supported by MathOptInterface.Bridges.LazyBridgeOptimizer{MosekModel}. This \n",
      "│   information will be discarded. = information will be discarded.\n",
      "└ @ MathOptInterface.Utilities /Users/dc/.julia/packages/MathOptInterface/A2UPd/src/Utilities/copy.jl:140\n",
      "┌ Warning: MathOptInterface.VariablePrimalStart() is not supported by MathOptInterface.Bridges.LazyBridgeOptimizer{MosekModel}. This \n",
      "│   information will be discarded. = information will be discarded.\n",
      "└ @ MathOptInterface.Utilities /Users/dc/.julia/packages/MathOptInterface/A2UPd/src/Utilities/copy.jl:140\n"
     ]
    },
    {
     "name": "stdout",
     "output_type": "stream",
     "text": [
      "progress: 18/20\n"
     ]
    },
    {
     "name": "stderr",
     "output_type": "stream",
     "text": [
      "┌ Warning: MathOptInterface.VariablePrimalStart() is not supported by MathOptInterface.Bridges.LazyBridgeOptimizer{MosekModel}. This \n",
      "│   information will be discarded. = information will be discarded.\n",
      "└ @ MathOptInterface.Utilities /Users/dc/.julia/packages/MathOptInterface/A2UPd/src/Utilities/copy.jl:140\n",
      "┌ Warning: MathOptInterface.VariablePrimalStart() is not supported by MathOptInterface.Bridges.LazyBridgeOptimizer{MosekModel}. This \n",
      "│   information will be discarded. = information will be discarded.\n",
      "└ @ MathOptInterface.Utilities /Users/dc/.julia/packages/MathOptInterface/A2UPd/src/Utilities/copy.jl:140\n",
      "┌ Warning: MathOptInterface.VariablePrimalStart() is not supported by MathOptInterface.Bridges.LazyBridgeOptimizer{MosekModel}. This \n",
      "│   information will be discarded. = information will be discarded.\n",
      "└ @ MathOptInterface.Utilities /Users/dc/.julia/packages/MathOptInterface/A2UPd/src/Utilities/copy.jl:140\n",
      "┌ Warning: MathOptInterface.VariablePrimalStart() is not supported by MathOptInterface.Bridges.LazyBridgeOptimizer{MosekModel}. This \n",
      "│   information will be discarded. = information will be discarded.\n",
      "└ @ MathOptInterface.Utilities /Users/dc/.julia/packages/MathOptInterface/A2UPd/src/Utilities/copy.jl:140\n",
      "┌ Warning: MathOptInterface.VariablePrimalStart() is not supported by MathOptInterface.Bridges.LazyBridgeOptimizer{MosekModel}. This \n",
      "│   information will be discarded. = information will be discarded.\n",
      "└ @ MathOptInterface.Utilities /Users/dc/.julia/packages/MathOptInterface/A2UPd/src/Utilities/copy.jl:140\n",
      "┌ Warning: MathOptInterface.VariablePrimalStart() is not supported by MathOptInterface.Bridges.LazyBridgeOptimizer{MosekModel}. This \n",
      "│   information will be discarded. = information will be discarded.\n",
      "└ @ MathOptInterface.Utilities /Users/dc/.julia/packages/MathOptInterface/A2UPd/src/Utilities/copy.jl:140\n",
      "┌ Warning: MathOptInterface.VariablePrimalStart() is not supported by MathOptInterface.Bridges.LazyBridgeOptimizer{MosekModel}. This \n",
      "│   information will be discarded. = information will be discarded.\n",
      "└ @ MathOptInterface.Utilities /Users/dc/.julia/packages/MathOptInterface/A2UPd/src/Utilities/copy.jl:140\n",
      "┌ Warning: MathOptInterface.VariablePrimalStart() is not supported by MathOptInterface.Bridges.LazyBridgeOptimizer{MosekModel}. This \n",
      "│   information will be discarded. = information will be discarded.\n",
      "└ @ MathOptInterface.Utilities /Users/dc/.julia/packages/MathOptInterface/A2UPd/src/Utilities/copy.jl:140\n",
      "┌ Warning: MathOptInterface.VariablePrimalStart() is not supported by MathOptInterface.Bridges.LazyBridgeOptimizer{MosekModel}. This \n",
      "│   information will be discarded. = information will be discarded.\n",
      "└ @ MathOptInterface.Utilities /Users/dc/.julia/packages/MathOptInterface/A2UPd/src/Utilities/copy.jl:140\n",
      "┌ Warning: MathOptInterface.VariablePrimalStart() is not supported by MathOptInterface.Bridges.LazyBridgeOptimizer{MosekModel}. This \n",
      "│   information will be discarded. = information will be discarded.\n",
      "└ @ MathOptInterface.Utilities /Users/dc/.julia/packages/MathOptInterface/A2UPd/src/Utilities/copy.jl:140\n",
      "┌ Warning: MathOptInterface.VariablePrimalStart() is not supported by MathOptInterface.Bridges.LazyBridgeOptimizer{MosekModel}. This \n",
      "│   information will be discarded. = information will be discarded.\n",
      "└ @ MathOptInterface.Utilities /Users/dc/.julia/packages/MathOptInterface/A2UPd/src/Utilities/copy.jl:140\n",
      "┌ Warning: MathOptInterface.VariablePrimalStart() is not supported by MathOptInterface.Bridges.LazyBridgeOptimizer{MosekModel}. This \n",
      "│   information will be discarded. = information will be discarded.\n",
      "└ @ MathOptInterface.Utilities /Users/dc/.julia/packages/MathOptInterface/A2UPd/src/Utilities/copy.jl:140\n",
      "┌ Warning: MathOptInterface.VariablePrimalStart() is not supported by MathOptInterface.Bridges.LazyBridgeOptimizer{MosekModel}. This \n",
      "│   information will be discarded. = information will be discarded.\n",
      "└ @ MathOptInterface.Utilities /Users/dc/.julia/packages/MathOptInterface/A2UPd/src/Utilities/copy.jl:140\n",
      "┌ Warning: MathOptInterface.VariablePrimalStart() is not supported by MathOptInterface.Bridges.LazyBridgeOptimizer{MosekModel}. This \n",
      "│   information will be discarded. = information will be discarded.\n",
      "└ @ MathOptInterface.Utilities /Users/dc/.julia/packages/MathOptInterface/A2UPd/src/Utilities/copy.jl:140\n",
      "┌ Warning: MathOptInterface.VariablePrimalStart() is not supported by MathOptInterface.Bridges.LazyBridgeOptimizer{MosekModel}. This \n",
      "│   information will be discarded. = information will be discarded.\n",
      "└ @ MathOptInterface.Utilities /Users/dc/.julia/packages/MathOptInterface/A2UPd/src/Utilities/copy.jl:140\n",
      "┌ Warning: MathOptInterface.VariablePrimalStart() is not supported by MathOptInterface.Bridges.LazyBridgeOptimizer{MosekModel}. This \n",
      "│   information will be discarded. = information will be discarded.\n",
      "└ @ MathOptInterface.Utilities /Users/dc/.julia/packages/MathOptInterface/A2UPd/src/Utilities/copy.jl:140\n",
      "┌ Warning: MathOptInterface.VariablePrimalStart() is not supported by MathOptInterface.Bridges.LazyBridgeOptimizer{MosekModel}. This \n",
      "│   information will be discarded. = information will be discarded.\n",
      "└ @ MathOptInterface.Utilities /Users/dc/.julia/packages/MathOptInterface/A2UPd/src/Utilities/copy.jl:140\n",
      "┌ Warning: MathOptInterface.VariablePrimalStart() is not supported by MathOptInterface.Bridges.LazyBridgeOptimizer{MosekModel}. This \n",
      "│   information will be discarded. = information will be discarded.\n",
      "└ @ MathOptInterface.Utilities /Users/dc/.julia/packages/MathOptInterface/A2UPd/src/Utilities/copy.jl:140\n",
      "┌ Warning: MathOptInterface.VariablePrimalStart() is not supported by MathOptInterface.Bridges.LazyBridgeOptimizer{MosekModel}. This \n",
      "│   information will be discarded. = information will be discarded.\n",
      "└ @ MathOptInterface.Utilities /Users/dc/.julia/packages/MathOptInterface/A2UPd/src/Utilities/copy.jl:140\n",
      "┌ Warning: MathOptInterface.VariablePrimalStart() is not supported by MathOptInterface.Bridges.LazyBridgeOptimizer{MosekModel}. This \n",
      "│   information will be discarded. = information will be discarded.\n",
      "└ @ MathOptInterface.Utilities /Users/dc/.julia/packages/MathOptInterface/A2UPd/src/Utilities/copy.jl:140\n"
     ]
    },
    {
     "name": "stdout",
     "output_type": "stream",
     "text": [
      "progress: 19/20\n"
     ]
    },
    {
     "name": "stderr",
     "output_type": "stream",
     "text": [
      "┌ Warning: MathOptInterface.VariablePrimalStart() is not supported by MathOptInterface.Bridges.LazyBridgeOptimizer{MosekModel}. This \n",
      "│   information will be discarded. = information will be discarded.\n",
      "└ @ MathOptInterface.Utilities /Users/dc/.julia/packages/MathOptInterface/A2UPd/src/Utilities/copy.jl:140\n",
      "┌ Warning: MathOptInterface.VariablePrimalStart() is not supported by MathOptInterface.Bridges.LazyBridgeOptimizer{MosekModel}. This \n",
      "│   information will be discarded. = information will be discarded.\n",
      "└ @ MathOptInterface.Utilities /Users/dc/.julia/packages/MathOptInterface/A2UPd/src/Utilities/copy.jl:140\n",
      "┌ Warning: MathOptInterface.VariablePrimalStart() is not supported by MathOptInterface.Bridges.LazyBridgeOptimizer{MosekModel}. This \n",
      "│   information will be discarded. = information will be discarded.\n",
      "└ @ MathOptInterface.Utilities /Users/dc/.julia/packages/MathOptInterface/A2UPd/src/Utilities/copy.jl:140\n",
      "┌ Warning: MathOptInterface.VariablePrimalStart() is not supported by MathOptInterface.Bridges.LazyBridgeOptimizer{MosekModel}. This \n",
      "│   information will be discarded. = information will be discarded.\n",
      "└ @ MathOptInterface.Utilities /Users/dc/.julia/packages/MathOptInterface/A2UPd/src/Utilities/copy.jl:140\n",
      "┌ Warning: MathOptInterface.VariablePrimalStart() is not supported by MathOptInterface.Bridges.LazyBridgeOptimizer{MosekModel}. This \n",
      "│   information will be discarded. = information will be discarded.\n",
      "└ @ MathOptInterface.Utilities /Users/dc/.julia/packages/MathOptInterface/A2UPd/src/Utilities/copy.jl:140\n",
      "┌ Warning: MathOptInterface.VariablePrimalStart() is not supported by MathOptInterface.Bridges.LazyBridgeOptimizer{MosekModel}. This \n",
      "│   information will be discarded. = information will be discarded.\n",
      "└ @ MathOptInterface.Utilities /Users/dc/.julia/packages/MathOptInterface/A2UPd/src/Utilities/copy.jl:140\n",
      "┌ Warning: MathOptInterface.VariablePrimalStart() is not supported by MathOptInterface.Bridges.LazyBridgeOptimizer{MosekModel}. This \n",
      "│   information will be discarded. = information will be discarded.\n",
      "└ @ MathOptInterface.Utilities /Users/dc/.julia/packages/MathOptInterface/A2UPd/src/Utilities/copy.jl:140\n",
      "┌ Warning: MathOptInterface.VariablePrimalStart() is not supported by MathOptInterface.Bridges.LazyBridgeOptimizer{MosekModel}. This \n",
      "│   information will be discarded. = information will be discarded.\n",
      "└ @ MathOptInterface.Utilities /Users/dc/.julia/packages/MathOptInterface/A2UPd/src/Utilities/copy.jl:140\n",
      "┌ Warning: MathOptInterface.VariablePrimalStart() is not supported by MathOptInterface.Bridges.LazyBridgeOptimizer{MosekModel}. This \n",
      "│   information will be discarded. = information will be discarded.\n",
      "└ @ MathOptInterface.Utilities /Users/dc/.julia/packages/MathOptInterface/A2UPd/src/Utilities/copy.jl:140\n",
      "┌ Warning: MathOptInterface.VariablePrimalStart() is not supported by MathOptInterface.Bridges.LazyBridgeOptimizer{MosekModel}. This \n",
      "│   information will be discarded. = information will be discarded.\n",
      "└ @ MathOptInterface.Utilities /Users/dc/.julia/packages/MathOptInterface/A2UPd/src/Utilities/copy.jl:140\n",
      "┌ Warning: MathOptInterface.VariablePrimalStart() is not supported by MathOptInterface.Bridges.LazyBridgeOptimizer{MosekModel}. This \n",
      "│   information will be discarded. = information will be discarded.\n",
      "└ @ MathOptInterface.Utilities /Users/dc/.julia/packages/MathOptInterface/A2UPd/src/Utilities/copy.jl:140\n",
      "┌ Warning: MathOptInterface.VariablePrimalStart() is not supported by MathOptInterface.Bridges.LazyBridgeOptimizer{MosekModel}. This \n",
      "│   information will be discarded. = information will be discarded.\n",
      "└ @ MathOptInterface.Utilities /Users/dc/.julia/packages/MathOptInterface/A2UPd/src/Utilities/copy.jl:140\n",
      "┌ Warning: MathOptInterface.VariablePrimalStart() is not supported by MathOptInterface.Bridges.LazyBridgeOptimizer{MosekModel}. This \n",
      "│   information will be discarded. = information will be discarded.\n",
      "└ @ MathOptInterface.Utilities /Users/dc/.julia/packages/MathOptInterface/A2UPd/src/Utilities/copy.jl:140\n",
      "┌ Warning: MathOptInterface.VariablePrimalStart() is not supported by MathOptInterface.Bridges.LazyBridgeOptimizer{MosekModel}. This \n",
      "│   information will be discarded. = information will be discarded.\n",
      "└ @ MathOptInterface.Utilities /Users/dc/.julia/packages/MathOptInterface/A2UPd/src/Utilities/copy.jl:140\n",
      "┌ Warning: MathOptInterface.VariablePrimalStart() is not supported by MathOptInterface.Bridges.LazyBridgeOptimizer{MosekModel}. This \n",
      "│   information will be discarded. = information will be discarded.\n",
      "└ @ MathOptInterface.Utilities /Users/dc/.julia/packages/MathOptInterface/A2UPd/src/Utilities/copy.jl:140\n",
      "┌ Warning: MathOptInterface.VariablePrimalStart() is not supported by MathOptInterface.Bridges.LazyBridgeOptimizer{MosekModel}. This \n",
      "│   information will be discarded. = information will be discarded.\n",
      "└ @ MathOptInterface.Utilities /Users/dc/.julia/packages/MathOptInterface/A2UPd/src/Utilities/copy.jl:140\n",
      "┌ Warning: MathOptInterface.VariablePrimalStart() is not supported by MathOptInterface.Bridges.LazyBridgeOptimizer{MosekModel}. This \n",
      "│   information will be discarded. = information will be discarded.\n",
      "└ @ MathOptInterface.Utilities /Users/dc/.julia/packages/MathOptInterface/A2UPd/src/Utilities/copy.jl:140\n",
      "┌ Warning: MathOptInterface.VariablePrimalStart() is not supported by MathOptInterface.Bridges.LazyBridgeOptimizer{MosekModel}. This \n",
      "│   information will be discarded. = information will be discarded.\n",
      "└ @ MathOptInterface.Utilities /Users/dc/.julia/packages/MathOptInterface/A2UPd/src/Utilities/copy.jl:140\n",
      "┌ Warning: MathOptInterface.VariablePrimalStart() is not supported by MathOptInterface.Bridges.LazyBridgeOptimizer{MosekModel}. This \n",
      "│   information will be discarded. = information will be discarded.\n",
      "└ @ MathOptInterface.Utilities /Users/dc/.julia/packages/MathOptInterface/A2UPd/src/Utilities/copy.jl:140\n",
      "┌ Warning: MathOptInterface.VariablePrimalStart() is not supported by MathOptInterface.Bridges.LazyBridgeOptimizer{MosekModel}. This \n",
      "│   information will be discarded. = information will be discarded.\n",
      "└ @ MathOptInterface.Utilities /Users/dc/.julia/packages/MathOptInterface/A2UPd/src/Utilities/copy.jl:140\n"
     ]
    },
    {
     "name": "stdout",
     "output_type": "stream",
     "text": [
      "progress: 20/20\n"
     ]
    },
    {
     "name": "stderr",
     "output_type": "stream",
     "text": [
      "┌ Warning: MathOptInterface.VariablePrimalStart() is not supported by MathOptInterface.Bridges.LazyBridgeOptimizer{MosekModel}. This \n",
      "│   information will be discarded. = information will be discarded.\n",
      "└ @ MathOptInterface.Utilities /Users/dc/.julia/packages/MathOptInterface/A2UPd/src/Utilities/copy.jl:140\n",
      "┌ Warning: MathOptInterface.VariablePrimalStart() is not supported by MathOptInterface.Bridges.LazyBridgeOptimizer{MosekModel}. This \n",
      "│   information will be discarded. = information will be discarded.\n",
      "└ @ MathOptInterface.Utilities /Users/dc/.julia/packages/MathOptInterface/A2UPd/src/Utilities/copy.jl:140\n",
      "┌ Warning: MathOptInterface.VariablePrimalStart() is not supported by MathOptInterface.Bridges.LazyBridgeOptimizer{MosekModel}. This \n",
      "│   information will be discarded. = information will be discarded.\n",
      "└ @ MathOptInterface.Utilities /Users/dc/.julia/packages/MathOptInterface/A2UPd/src/Utilities/copy.jl:140\n",
      "┌ Warning: MathOptInterface.VariablePrimalStart() is not supported by MathOptInterface.Bridges.LazyBridgeOptimizer{MosekModel}. This \n",
      "│   information will be discarded. = information will be discarded.\n",
      "└ @ MathOptInterface.Utilities /Users/dc/.julia/packages/MathOptInterface/A2UPd/src/Utilities/copy.jl:140\n",
      "┌ Warning: MathOptInterface.VariablePrimalStart() is not supported by MathOptInterface.Bridges.LazyBridgeOptimizer{MosekModel}. This \n",
      "│   information will be discarded. = information will be discarded.\n",
      "└ @ MathOptInterface.Utilities /Users/dc/.julia/packages/MathOptInterface/A2UPd/src/Utilities/copy.jl:140\n",
      "┌ Warning: MathOptInterface.VariablePrimalStart() is not supported by MathOptInterface.Bridges.LazyBridgeOptimizer{MosekModel}. This \n",
      "│   information will be discarded. = information will be discarded.\n",
      "└ @ MathOptInterface.Utilities /Users/dc/.julia/packages/MathOptInterface/A2UPd/src/Utilities/copy.jl:140\n",
      "┌ Warning: MathOptInterface.VariablePrimalStart() is not supported by MathOptInterface.Bridges.LazyBridgeOptimizer{MosekModel}. This \n",
      "│   information will be discarded. = information will be discarded.\n",
      "└ @ MathOptInterface.Utilities /Users/dc/.julia/packages/MathOptInterface/A2UPd/src/Utilities/copy.jl:140\n",
      "┌ Warning: MathOptInterface.VariablePrimalStart() is not supported by MathOptInterface.Bridges.LazyBridgeOptimizer{MosekModel}. This \n",
      "│   information will be discarded. = information will be discarded.\n",
      "└ @ MathOptInterface.Utilities /Users/dc/.julia/packages/MathOptInterface/A2UPd/src/Utilities/copy.jl:140\n",
      "┌ Warning: MathOptInterface.VariablePrimalStart() is not supported by MathOptInterface.Bridges.LazyBridgeOptimizer{MosekModel}. This \n",
      "│   information will be discarded. = information will be discarded.\n",
      "└ @ MathOptInterface.Utilities /Users/dc/.julia/packages/MathOptInterface/A2UPd/src/Utilities/copy.jl:140\n",
      "┌ Warning: MathOptInterface.VariablePrimalStart() is not supported by MathOptInterface.Bridges.LazyBridgeOptimizer{MosekModel}. This \n",
      "│   information will be discarded. = information will be discarded.\n",
      "└ @ MathOptInterface.Utilities /Users/dc/.julia/packages/MathOptInterface/A2UPd/src/Utilities/copy.jl:140\n",
      "┌ Warning: MathOptInterface.VariablePrimalStart() is not supported by MathOptInterface.Bridges.LazyBridgeOptimizer{MosekModel}. This \n",
      "│   information will be discarded. = information will be discarded.\n",
      "└ @ MathOptInterface.Utilities /Users/dc/.julia/packages/MathOptInterface/A2UPd/src/Utilities/copy.jl:140\n",
      "┌ Warning: MathOptInterface.VariablePrimalStart() is not supported by MathOptInterface.Bridges.LazyBridgeOptimizer{MosekModel}. This \n",
      "│   information will be discarded. = information will be discarded.\n",
      "└ @ MathOptInterface.Utilities /Users/dc/.julia/packages/MathOptInterface/A2UPd/src/Utilities/copy.jl:140\n",
      "┌ Warning: MathOptInterface.VariablePrimalStart() is not supported by MathOptInterface.Bridges.LazyBridgeOptimizer{MosekModel}. This \n",
      "│   information will be discarded. = information will be discarded.\n",
      "└ @ MathOptInterface.Utilities /Users/dc/.julia/packages/MathOptInterface/A2UPd/src/Utilities/copy.jl:140\n",
      "┌ Warning: MathOptInterface.VariablePrimalStart() is not supported by MathOptInterface.Bridges.LazyBridgeOptimizer{MosekModel}. This \n",
      "│   information will be discarded. = information will be discarded.\n",
      "└ @ MathOptInterface.Utilities /Users/dc/.julia/packages/MathOptInterface/A2UPd/src/Utilities/copy.jl:140\n",
      "┌ Warning: MathOptInterface.VariablePrimalStart() is not supported by MathOptInterface.Bridges.LazyBridgeOptimizer{MosekModel}. This \n",
      "│   information will be discarded. = information will be discarded.\n",
      "└ @ MathOptInterface.Utilities /Users/dc/.julia/packages/MathOptInterface/A2UPd/src/Utilities/copy.jl:140\n",
      "┌ Warning: MathOptInterface.VariablePrimalStart() is not supported by MathOptInterface.Bridges.LazyBridgeOptimizer{MosekModel}. This \n",
      "│   information will be discarded. = information will be discarded.\n",
      "└ @ MathOptInterface.Utilities /Users/dc/.julia/packages/MathOptInterface/A2UPd/src/Utilities/copy.jl:140\n",
      "┌ Warning: MathOptInterface.VariablePrimalStart() is not supported by MathOptInterface.Bridges.LazyBridgeOptimizer{MosekModel}. This \n",
      "│   information will be discarded. = information will be discarded.\n",
      "└ @ MathOptInterface.Utilities /Users/dc/.julia/packages/MathOptInterface/A2UPd/src/Utilities/copy.jl:140\n",
      "┌ Warning: MathOptInterface.VariablePrimalStart() is not supported by MathOptInterface.Bridges.LazyBridgeOptimizer{MosekModel}. This \n",
      "│   information will be discarded. = information will be discarded.\n",
      "└ @ MathOptInterface.Utilities /Users/dc/.julia/packages/MathOptInterface/A2UPd/src/Utilities/copy.jl:140\n",
      "┌ Warning: MathOptInterface.VariablePrimalStart() is not supported by MathOptInterface.Bridges.LazyBridgeOptimizer{MosekModel}. This \n",
      "│   information will be discarded. = information will be discarded.\n",
      "└ @ MathOptInterface.Utilities /Users/dc/.julia/packages/MathOptInterface/A2UPd/src/Utilities/copy.jl:140\n",
      "┌ Warning: MathOptInterface.VariablePrimalStart() is not supported by MathOptInterface.Bridges.LazyBridgeOptimizer{MosekModel}. This \n",
      "│   information will be discarded. = information will be discarded.\n",
      "└ @ MathOptInterface.Utilities /Users/dc/.julia/packages/MathOptInterface/A2UPd/src/Utilities/copy.jl:140\n"
     ]
    },
    {
     "data": {
      "image/png": "[encoded data removed]",
      "text/plain": [
       "PyPlot.Figure(PyObject <Figure size 600x400 with 2 Axes>)"
      ]
     },
     "metadata": {},
     "output_type": "display_data"
    },
    {
     "data": {
      "image/png": "[encoded data removed]"
     },
     "execution_count": 4,
     "metadata": {},
     "output_type": "execute_result"
    }
   ],
   "source": [
    "resolution = 20\n",
    "plot_bus = [\"1\",\"2\"] # Pick plot buses\n",
    "plot_rng = [0 2 0 2] # Pick range for the plot [x1_min, x1_max, x2_min, x2_max]\n",
    "\n",
    "U1_plot,U2_plot,exact_plot,cvxrs_plot,u_plot0 = plot2D(network_data,plot_bus,plot_rng,\"pd\",resolution) # Pass \"pd\" option to plot perturbation in loads\n",
    "\n",
    "pyplot()\n",
    "default(show = true)\n",
    "contour(U1_plot,U2_plot,exact_plot,levels=0,color=:blues) # Plot feasible region\n",
    "contour!(U1_plot,U2_plot,cvxrs_plot,levels=0,color=:greens) # Plot convex restriction\n",
    "scatter!([u_plot0[1]],[u_plot0[2]],markersize=6, c=:red) # Plot nominal (base) point"
   ]
  }
 ],
 "metadata": {
  "@webio": {
   "lastCommId": null,
   "lastKernelId": null
  },
  "kernelspec": {
   "display_name": "Julia 1.1.0",
   "language": "julia",
   "name": "julia-1.1"
  },
  "language_info": {
   "file_extension": ".jl",
   "mimetype": "application/julia",
   "name": "julia",
   "version": "1.1.0"
  }
 },
 "nbformat": 4,
 "nbformat_minor": 2
}
